{
 "cells": [
  {
   "cell_type": "markdown",
   "id": "e1773c6f",
   "metadata": {},
   "source": [
    "# Research Questions"
   ]
  },
  {
   "cell_type": "markdown",
   "id": "ad26644e",
   "metadata": {},
   "source": [
    "## 1. How is rent price distribution in Land Brandenburg (Germany)?"
   ]
  },
  {
   "cell_type": "markdown",
   "id": "27d10c9d",
   "metadata": {},
   "source": [
    "## 2. Which city has the most expensive rent in Land Brandenburg (Germany)?\n",
    "    or which city is the the cheapest?"
   ]
  },
  {
   "cell_type": "markdown",
   "id": "bff52f18",
   "metadata": {},
   "source": [
    "## 3. What are the factors (such as rooms, balcony, parking space) which can influence on rent price in the most expensive city of Brandenburg? Look at closely"
   ]
  },
  {
   "cell_type": "markdown",
   "id": "59e28ba1",
   "metadata": {},
   "source": [
    "## 4."
   ]
  },
  {
   "cell_type": "markdown",
   "id": "5b5aebc1",
   "metadata": {},
   "source": [
    "### Steps I should follow:\n",
    "\n",
    "##### Find the dataset\n",
    "##### Define questions\n",
    "##### Loading data\n",
    "##### understanding data\n",
    "##### Restricting data for special region or city\n",
    "##### cleaning data (numerical, categorical)\n",
    "\n",
    "\n",
    "\n",
    "##### Looking at rent prices whole Brandenburg (define most expensive and cheapest city)\n",
    "##### Analysis of factors (rooms, parking spaces etc.) which may impact rent price\n",
    "##### Visualisation of result (Plotting or Tableua)\n",
    "\n"
   ]
  },
  {
   "cell_type": "code",
   "execution_count": 1,
   "id": "14305db7",
   "metadata": {},
   "outputs": [],
   "source": [
    "import pandas as pd"
   ]
  },
  {
   "cell_type": "code",
   "execution_count": 22,
   "id": "13cb7642",
   "metadata": {},
   "outputs": [
    {
     "name": "stdout",
     "output_type": "stream",
     "text": [
      " Volume in Laufwerk C: hat keine Bezeichnung.\n",
      " Volumeseriennummer: A60A-8416\n",
      "\n",
      " Verzeichnis von C:\\Users\\asgar\\Ironhack\\Week_5\n",
      "\n",
      "06/02/2023  10:43    <DIR>          .\n",
      "27/01/2023  15:53    <DIR>          ..\n",
      "05/02/2023  18:08    <DIR>          .ipynb_checkpoints\n",
      "06/02/2023  10:43            31,238 dataset_questions.ipynb\n",
      "04/02/2023  23:39        97,545,791 immo_data.csv.zip\n",
      "06/02/2023  09:19    <DIR>          Mid_bootcamp_project\n",
      "06/02/2023  09:25           979,556 mid_project.ipynb\n",
      "               3 Datei(en),     98,556,585 Bytes\n",
      "               4 Verzeichnis(se), 423,174,500,352 Bytes frei\n"
     ]
    }
   ],
   "source": [
    "!dir"
   ]
  },
  {
   "cell_type": "code",
   "execution_count": 2,
   "id": "1235a575",
   "metadata": {},
   "outputs": [
    {
     "data": {
      "text/html": [
       "<div>\n",
       "<style scoped>\n",
       "    .dataframe tbody tr th:only-of-type {\n",
       "        vertical-align: middle;\n",
       "    }\n",
       "\n",
       "    .dataframe tbody tr th {\n",
       "        vertical-align: top;\n",
       "    }\n",
       "\n",
       "    .dataframe thead th {\n",
       "        text-align: right;\n",
       "    }\n",
       "</style>\n",
       "<table border=\"1\" class=\"dataframe\">\n",
       "  <thead>\n",
       "    <tr style=\"text-align: right;\">\n",
       "      <th></th>\n",
       "      <th>regio1</th>\n",
       "      <th>serviceCharge</th>\n",
       "      <th>heatingType</th>\n",
       "      <th>telekomTvOffer</th>\n",
       "      <th>telekomHybridUploadSpeed</th>\n",
       "      <th>newlyConst</th>\n",
       "      <th>balcony</th>\n",
       "      <th>picturecount</th>\n",
       "      <th>pricetrend</th>\n",
       "      <th>telekomUploadSpeed</th>\n",
       "      <th>...</th>\n",
       "      <th>regio2</th>\n",
       "      <th>regio3</th>\n",
       "      <th>description</th>\n",
       "      <th>facilities</th>\n",
       "      <th>heatingCosts</th>\n",
       "      <th>energyEfficiencyClass</th>\n",
       "      <th>lastRefurbish</th>\n",
       "      <th>electricityBasePrice</th>\n",
       "      <th>electricityKwhPrice</th>\n",
       "      <th>date</th>\n",
       "    </tr>\n",
       "  </thead>\n",
       "  <tbody>\n",
       "    <tr>\n",
       "      <th>0</th>\n",
       "      <td>Nordrhein_Westfalen</td>\n",
       "      <td>245.00</td>\n",
       "      <td>central_heating</td>\n",
       "      <td>ONE_YEAR_FREE</td>\n",
       "      <td>NaN</td>\n",
       "      <td>False</td>\n",
       "      <td>False</td>\n",
       "      <td>6</td>\n",
       "      <td>4.62</td>\n",
       "      <td>10.0</td>\n",
       "      <td>...</td>\n",
       "      <td>Dortmund</td>\n",
       "      <td>Schüren</td>\n",
       "      <td>Die ebenerdig zu erreichende Erdgeschosswohnun...</td>\n",
       "      <td>Die Wohnung ist mit Laminat ausgelegt. Das Bad...</td>\n",
       "      <td>NaN</td>\n",
       "      <td>NaN</td>\n",
       "      <td>NaN</td>\n",
       "      <td>NaN</td>\n",
       "      <td>NaN</td>\n",
       "      <td>May19</td>\n",
       "    </tr>\n",
       "    <tr>\n",
       "      <th>1</th>\n",
       "      <td>Rheinland_Pfalz</td>\n",
       "      <td>134.00</td>\n",
       "      <td>self_contained_central_heating</td>\n",
       "      <td>ONE_YEAR_FREE</td>\n",
       "      <td>NaN</td>\n",
       "      <td>False</td>\n",
       "      <td>True</td>\n",
       "      <td>8</td>\n",
       "      <td>3.47</td>\n",
       "      <td>10.0</td>\n",
       "      <td>...</td>\n",
       "      <td>Rhein_Pfalz_Kreis</td>\n",
       "      <td>Böhl_Iggelheim</td>\n",
       "      <td>Alles neu macht der Mai – so kann es auch für ...</td>\n",
       "      <td>NaN</td>\n",
       "      <td>NaN</td>\n",
       "      <td>NaN</td>\n",
       "      <td>2019.0</td>\n",
       "      <td>NaN</td>\n",
       "      <td>NaN</td>\n",
       "      <td>May19</td>\n",
       "    </tr>\n",
       "    <tr>\n",
       "      <th>2</th>\n",
       "      <td>Sachsen</td>\n",
       "      <td>255.00</td>\n",
       "      <td>floor_heating</td>\n",
       "      <td>ONE_YEAR_FREE</td>\n",
       "      <td>10.0</td>\n",
       "      <td>True</td>\n",
       "      <td>True</td>\n",
       "      <td>8</td>\n",
       "      <td>2.72</td>\n",
       "      <td>2.4</td>\n",
       "      <td>...</td>\n",
       "      <td>Dresden</td>\n",
       "      <td>Äußere_Neustadt_Antonstadt</td>\n",
       "      <td>Der Neubau entsteht im Herzen der Dresdner Neu...</td>\n",
       "      <td>* 9 m² Balkon\\n* Bad mit bodengleicher Dusche,...</td>\n",
       "      <td>NaN</td>\n",
       "      <td>NaN</td>\n",
       "      <td>NaN</td>\n",
       "      <td>NaN</td>\n",
       "      <td>NaN</td>\n",
       "      <td>Oct19</td>\n",
       "    </tr>\n",
       "    <tr>\n",
       "      <th>3</th>\n",
       "      <td>Sachsen</td>\n",
       "      <td>58.15</td>\n",
       "      <td>district_heating</td>\n",
       "      <td>ONE_YEAR_FREE</td>\n",
       "      <td>NaN</td>\n",
       "      <td>False</td>\n",
       "      <td>True</td>\n",
       "      <td>9</td>\n",
       "      <td>1.53</td>\n",
       "      <td>40.0</td>\n",
       "      <td>...</td>\n",
       "      <td>Mittelsachsen_Kreis</td>\n",
       "      <td>Freiberg</td>\n",
       "      <td>Abseits von Lärm und Abgasen in Ihre neue Wohn...</td>\n",
       "      <td>NaN</td>\n",
       "      <td>87.23</td>\n",
       "      <td>NaN</td>\n",
       "      <td>NaN</td>\n",
       "      <td>NaN</td>\n",
       "      <td>NaN</td>\n",
       "      <td>May19</td>\n",
       "    </tr>\n",
       "    <tr>\n",
       "      <th>4</th>\n",
       "      <td>Bremen</td>\n",
       "      <td>138.00</td>\n",
       "      <td>self_contained_central_heating</td>\n",
       "      <td>NaN</td>\n",
       "      <td>NaN</td>\n",
       "      <td>False</td>\n",
       "      <td>True</td>\n",
       "      <td>19</td>\n",
       "      <td>2.46</td>\n",
       "      <td>NaN</td>\n",
       "      <td>...</td>\n",
       "      <td>Bremen</td>\n",
       "      <td>Neu_Schwachhausen</td>\n",
       "      <td>Es handelt sich hier um ein saniertes Mehrfami...</td>\n",
       "      <td>Diese Wohnung wurde neu saniert und ist wie fo...</td>\n",
       "      <td>NaN</td>\n",
       "      <td>NaN</td>\n",
       "      <td>NaN</td>\n",
       "      <td>NaN</td>\n",
       "      <td>NaN</td>\n",
       "      <td>Feb20</td>\n",
       "    </tr>\n",
       "  </tbody>\n",
       "</table>\n",
       "<p>5 rows × 49 columns</p>\n",
       "</div>"
      ],
      "text/plain": [
       "                regio1  serviceCharge                     heatingType  \\\n",
       "0  Nordrhein_Westfalen         245.00                 central_heating   \n",
       "1      Rheinland_Pfalz         134.00  self_contained_central_heating   \n",
       "2              Sachsen         255.00                   floor_heating   \n",
       "3              Sachsen          58.15                district_heating   \n",
       "4               Bremen         138.00  self_contained_central_heating   \n",
       "\n",
       "  telekomTvOffer  telekomHybridUploadSpeed  newlyConst  balcony  picturecount  \\\n",
       "0  ONE_YEAR_FREE                       NaN       False    False             6   \n",
       "1  ONE_YEAR_FREE                       NaN       False     True             8   \n",
       "2  ONE_YEAR_FREE                      10.0        True     True             8   \n",
       "3  ONE_YEAR_FREE                       NaN       False     True             9   \n",
       "4            NaN                       NaN       False     True            19   \n",
       "\n",
       "   pricetrend  telekomUploadSpeed  ...               regio2  \\\n",
       "0        4.62                10.0  ...             Dortmund   \n",
       "1        3.47                10.0  ...    Rhein_Pfalz_Kreis   \n",
       "2        2.72                 2.4  ...              Dresden   \n",
       "3        1.53                40.0  ...  Mittelsachsen_Kreis   \n",
       "4        2.46                 NaN  ...               Bremen   \n",
       "\n",
       "                       regio3  \\\n",
       "0                     Schüren   \n",
       "1              Böhl_Iggelheim   \n",
       "2  Äußere_Neustadt_Antonstadt   \n",
       "3                    Freiberg   \n",
       "4           Neu_Schwachhausen   \n",
       "\n",
       "                                         description  \\\n",
       "0  Die ebenerdig zu erreichende Erdgeschosswohnun...   \n",
       "1  Alles neu macht der Mai – so kann es auch für ...   \n",
       "2  Der Neubau entsteht im Herzen der Dresdner Neu...   \n",
       "3  Abseits von Lärm und Abgasen in Ihre neue Wohn...   \n",
       "4  Es handelt sich hier um ein saniertes Mehrfami...   \n",
       "\n",
       "                                          facilities heatingCosts  \\\n",
       "0  Die Wohnung ist mit Laminat ausgelegt. Das Bad...          NaN   \n",
       "1                                                NaN          NaN   \n",
       "2  * 9 m² Balkon\\n* Bad mit bodengleicher Dusche,...          NaN   \n",
       "3                                                NaN        87.23   \n",
       "4  Diese Wohnung wurde neu saniert und ist wie fo...          NaN   \n",
       "\n",
       "   energyEfficiencyClass lastRefurbish  electricityBasePrice  \\\n",
       "0                    NaN           NaN                   NaN   \n",
       "1                    NaN        2019.0                   NaN   \n",
       "2                    NaN           NaN                   NaN   \n",
       "3                    NaN           NaN                   NaN   \n",
       "4                    NaN           NaN                   NaN   \n",
       "\n",
       "   electricityKwhPrice   date  \n",
       "0                  NaN  May19  \n",
       "1                  NaN  May19  \n",
       "2                  NaN  Oct19  \n",
       "3                  NaN  May19  \n",
       "4                  NaN  Feb20  \n",
       "\n",
       "[5 rows x 49 columns]"
      ]
     },
     "execution_count": 2,
     "metadata": {},
     "output_type": "execute_result"
    }
   ],
   "source": [
    "df = pd.read_csv('immo_data.csv.zip')\n",
    "df.head()"
   ]
  },
  {
   "cell_type": "code",
   "execution_count": 3,
   "id": "bd4ada93",
   "metadata": {},
   "outputs": [
    {
     "name": "stdout",
     "output_type": "stream",
     "text": [
      "<class 'pandas.core.frame.DataFrame'>\n",
      "RangeIndex: 268850 entries, 0 to 268849\n",
      "Data columns (total 49 columns):\n",
      " #   Column                    Non-Null Count   Dtype  \n",
      "---  ------                    --------------   -----  \n",
      " 0   regio1                    268850 non-null  object \n",
      " 1   serviceCharge             261941 non-null  float64\n",
      " 2   heatingType               223994 non-null  object \n",
      " 3   telekomTvOffer            236231 non-null  object \n",
      " 4   telekomHybridUploadSpeed  45020 non-null   float64\n",
      " 5   newlyConst                268850 non-null  bool   \n",
      " 6   balcony                   268850 non-null  bool   \n",
      " 7   picturecount              268850 non-null  int64  \n",
      " 8   pricetrend                267018 non-null  float64\n",
      " 9   telekomUploadSpeed        235492 non-null  float64\n",
      " 10  totalRent                 228333 non-null  float64\n",
      " 11  yearConstructed           211805 non-null  float64\n",
      " 12  scoutId                   268850 non-null  int64  \n",
      " 13  noParkSpaces              93052 non-null   float64\n",
      " 14  firingTypes               211886 non-null  object \n",
      " 15  hasKitchen                268850 non-null  bool   \n",
      " 16  geo_bln                   268850 non-null  object \n",
      " 17  cellar                    268850 non-null  bool   \n",
      " 18  yearConstructedRange      211805 non-null  float64\n",
      " 19  baseRent                  268850 non-null  float64\n",
      " 20  houseNumber               197832 non-null  object \n",
      " 21  livingSpace               268850 non-null  float64\n",
      " 22  geo_krs                   268850 non-null  object \n",
      " 23  condition                 200361 non-null  object \n",
      " 24  interiorQual              156185 non-null  object \n",
      " 25  petsAllowed               154277 non-null  object \n",
      " 26  street                    268850 non-null  object \n",
      " 27  streetPlain               197837 non-null  object \n",
      " 28  lift                      268850 non-null  bool   \n",
      " 29  baseRentRange             268850 non-null  int64  \n",
      " 30  typeOfFlat                232236 non-null  object \n",
      " 31  geo_plz                   268850 non-null  int64  \n",
      " 32  noRooms                   268850 non-null  float64\n",
      " 33  thermalChar               162344 non-null  float64\n",
      " 34  floor                     217541 non-null  float64\n",
      " 35  numberOfFloors            171118 non-null  float64\n",
      " 36  noRoomsRange              268850 non-null  int64  \n",
      " 37  garden                    268850 non-null  bool   \n",
      " 38  livingSpaceRange          268850 non-null  int64  \n",
      " 39  regio2                    268850 non-null  object \n",
      " 40  regio3                    268850 non-null  object \n",
      " 41  description               249103 non-null  object \n",
      " 42  facilities                215926 non-null  object \n",
      " 43  heatingCosts              85518 non-null   float64\n",
      " 44  energyEfficiencyClass     77787 non-null   object \n",
      " 45  lastRefurbish             80711 non-null   float64\n",
      " 46  electricityBasePrice      46846 non-null   float64\n",
      " 47  electricityKwhPrice       46846 non-null   float64\n",
      " 48  date                      268850 non-null  object \n",
      "dtypes: bool(6), float64(18), int64(6), object(19)\n",
      "memory usage: 89.7+ MB\n"
     ]
    }
   ],
   "source": [
    "df.info()"
   ]
  },
  {
   "cell_type": "code",
   "execution_count": null,
   "id": "eba082a1",
   "metadata": {},
   "outputs": [],
   "source": [
    "df."
   ]
  },
  {
   "cell_type": "code",
   "execution_count": 4,
   "id": "cc763803",
   "metadata": {
    "scrolled": true
   },
   "outputs": [
    {
     "data": {
      "text/plain": [
       "regio1                           0\n",
       "serviceCharge                 6909\n",
       "heatingType                  44856\n",
       "telekomTvOffer               32619\n",
       "telekomHybridUploadSpeed    223830\n",
       "newlyConst                       0\n",
       "balcony                          0\n",
       "picturecount                     0\n",
       "pricetrend                    1832\n",
       "telekomUploadSpeed           33358\n",
       "totalRent                    40517\n",
       "yearConstructed              57045\n",
       "scoutId                          0\n",
       "noParkSpaces                175798\n",
       "firingTypes                  56964\n",
       "hasKitchen                       0\n",
       "geo_bln                          0\n",
       "cellar                           0\n",
       "yearConstructedRange         57045\n",
       "baseRent                         0\n",
       "houseNumber                  71018\n",
       "livingSpace                      0\n",
       "geo_krs                          0\n",
       "condition                    68489\n",
       "interiorQual                112665\n",
       "petsAllowed                 114573\n",
       "street                           0\n",
       "streetPlain                  71013\n",
       "lift                             0\n",
       "baseRentRange                    0\n",
       "typeOfFlat                   36614\n",
       "geo_plz                          0\n",
       "noRooms                          0\n",
       "thermalChar                 106506\n",
       "floor                        51309\n",
       "numberOfFloors               97732\n",
       "noRoomsRange                     0\n",
       "garden                           0\n",
       "livingSpaceRange                 0\n",
       "regio2                           0\n",
       "regio3                           0\n",
       "description                  19747\n",
       "facilities                   52924\n",
       "heatingCosts                183332\n",
       "energyEfficiencyClass       191063\n",
       "lastRefurbish               188139\n",
       "electricityBasePrice        222004\n",
       "electricityKwhPrice         222004\n",
       "date                             0\n",
       "dtype: int64"
      ]
     },
     "execution_count": 4,
     "metadata": {},
     "output_type": "execute_result"
    }
   ],
   "source": [
    "df.isna().sum()"
   ]
  },
  {
   "cell_type": "markdown",
   "id": "1b18856b",
   "metadata": {},
   "source": [
    "# Brandenburg"
   ]
  },
  {
   "cell_type": "code",
   "execution_count": 5,
   "id": "61085126",
   "metadata": {},
   "outputs": [],
   "source": [
    "brandenburg_df = df[df[\"regio1\"] == 'Brandenburg'] "
   ]
  },
  {
   "cell_type": "code",
   "execution_count": 24,
   "id": "347f21b5",
   "metadata": {},
   "outputs": [
    {
     "data": {
      "text/plain": [
       "3.00      53700\n",
       "2.00      48650\n",
       "4.00      16054\n",
       "1.00      13549\n",
       "3.50       5779\n",
       "2.50       5742\n",
       "5.00       3102\n",
       "1.50       1720\n",
       "4.50       1200\n",
       "6.00        660\n",
       "5.50        209\n",
       "7.00        154\n",
       "8.00         63\n",
       "6.50         29\n",
       "2.20         19\n",
       "9.00         12\n",
       "2.10         11\n",
       "7.50          7\n",
       "1.10          4\n",
       "10.00         4\n",
       "15.00         4\n",
       "11.00         4\n",
       "2.01          4\n",
       "8.50          3\n",
       "3.10          2\n",
       "3.01          2\n",
       "12.00         2\n",
       "100.00        1\n",
       "1.25          1\n",
       "2.70          1\n",
       "23.00         1\n",
       "160.00        1\n",
       "2.30          1\n",
       "99.50         1\n",
       "30.00         1\n",
       "2.90          1\n",
       "21.00         1\n",
       "3.40          1\n",
       "45.00         1\n",
       "13.00         1\n",
       "Name: noRooms, dtype: int64"
      ]
     },
     "execution_count": 24,
     "metadata": {},
     "output_type": "execute_result"
    }
   ],
   "source": [
    "brandenburg_df.noRooms.value_counts()"
   ]
  },
  {
   "cell_type": "code",
   "execution_count": 6,
   "id": "4a848eae",
   "metadata": {},
   "outputs": [],
   "source": [
    "needed_cols=['regio1', 'regio2', \n",
    "'balcony', 'livingSpace', 'totalRent', 'serviceCharge',\n",
    "'baseRent','typeOfFlat','lift',\n",
    "'petsAllowed','floor','noRooms','livingSpace','yearConstructed','garden','cellar']"
   ]
  },
  {
   "cell_type": "code",
   "execution_count": 7,
   "id": "12142110",
   "metadata": {},
   "outputs": [
    {
     "data": {
      "text/html": [
       "<div>\n",
       "<style scoped>\n",
       "    .dataframe tbody tr th:only-of-type {\n",
       "        vertical-align: middle;\n",
       "    }\n",
       "\n",
       "    .dataframe tbody tr th {\n",
       "        vertical-align: top;\n",
       "    }\n",
       "\n",
       "    .dataframe thead th {\n",
       "        text-align: right;\n",
       "    }\n",
       "</style>\n",
       "<table border=\"1\" class=\"dataframe\">\n",
       "  <thead>\n",
       "    <tr style=\"text-align: right;\">\n",
       "      <th></th>\n",
       "      <th>regio1</th>\n",
       "      <th>regio2</th>\n",
       "      <th>balcony</th>\n",
       "      <th>livingSpace</th>\n",
       "      <th>totalRent</th>\n",
       "      <th>serviceCharge</th>\n",
       "      <th>baseRent</th>\n",
       "      <th>typeOfFlat</th>\n",
       "      <th>lift</th>\n",
       "      <th>petsAllowed</th>\n",
       "      <th>floor</th>\n",
       "      <th>noRooms</th>\n",
       "      <th>livingSpace</th>\n",
       "      <th>yearConstructed</th>\n",
       "      <th>garden</th>\n",
       "      <th>cellar</th>\n",
       "    </tr>\n",
       "  </thead>\n",
       "  <tbody>\n",
       "    <tr>\n",
       "      <th>0</th>\n",
       "      <td>Nordrhein_Westfalen</td>\n",
       "      <td>Dortmund</td>\n",
       "      <td>False</td>\n",
       "      <td>86.00</td>\n",
       "      <td>840.0</td>\n",
       "      <td>245.00</td>\n",
       "      <td>595.0</td>\n",
       "      <td>ground_floor</td>\n",
       "      <td>False</td>\n",
       "      <td>NaN</td>\n",
       "      <td>1.0</td>\n",
       "      <td>4.0</td>\n",
       "      <td>86.00</td>\n",
       "      <td>1965.0</td>\n",
       "      <td>True</td>\n",
       "      <td>True</td>\n",
       "    </tr>\n",
       "    <tr>\n",
       "      <th>1</th>\n",
       "      <td>Rheinland_Pfalz</td>\n",
       "      <td>Rhein_Pfalz_Kreis</td>\n",
       "      <td>True</td>\n",
       "      <td>89.00</td>\n",
       "      <td>NaN</td>\n",
       "      <td>134.00</td>\n",
       "      <td>800.0</td>\n",
       "      <td>ground_floor</td>\n",
       "      <td>False</td>\n",
       "      <td>no</td>\n",
       "      <td>NaN</td>\n",
       "      <td>3.0</td>\n",
       "      <td>89.00</td>\n",
       "      <td>1871.0</td>\n",
       "      <td>False</td>\n",
       "      <td>False</td>\n",
       "    </tr>\n",
       "    <tr>\n",
       "      <th>2</th>\n",
       "      <td>Sachsen</td>\n",
       "      <td>Dresden</td>\n",
       "      <td>True</td>\n",
       "      <td>83.80</td>\n",
       "      <td>1300.0</td>\n",
       "      <td>255.00</td>\n",
       "      <td>965.0</td>\n",
       "      <td>apartment</td>\n",
       "      <td>True</td>\n",
       "      <td>NaN</td>\n",
       "      <td>3.0</td>\n",
       "      <td>3.0</td>\n",
       "      <td>83.80</td>\n",
       "      <td>2019.0</td>\n",
       "      <td>False</td>\n",
       "      <td>True</td>\n",
       "    </tr>\n",
       "    <tr>\n",
       "      <th>3</th>\n",
       "      <td>Sachsen</td>\n",
       "      <td>Mittelsachsen_Kreis</td>\n",
       "      <td>True</td>\n",
       "      <td>58.15</td>\n",
       "      <td>NaN</td>\n",
       "      <td>58.15</td>\n",
       "      <td>343.0</td>\n",
       "      <td>other</td>\n",
       "      <td>False</td>\n",
       "      <td>NaN</td>\n",
       "      <td>3.0</td>\n",
       "      <td>3.0</td>\n",
       "      <td>58.15</td>\n",
       "      <td>1964.0</td>\n",
       "      <td>False</td>\n",
       "      <td>False</td>\n",
       "    </tr>\n",
       "    <tr>\n",
       "      <th>4</th>\n",
       "      <td>Bremen</td>\n",
       "      <td>Bremen</td>\n",
       "      <td>True</td>\n",
       "      <td>84.97</td>\n",
       "      <td>903.0</td>\n",
       "      <td>138.00</td>\n",
       "      <td>765.0</td>\n",
       "      <td>apartment</td>\n",
       "      <td>False</td>\n",
       "      <td>NaN</td>\n",
       "      <td>1.0</td>\n",
       "      <td>3.0</td>\n",
       "      <td>84.97</td>\n",
       "      <td>1950.0</td>\n",
       "      <td>False</td>\n",
       "      <td>False</td>\n",
       "    </tr>\n",
       "  </tbody>\n",
       "</table>\n",
       "</div>"
      ],
      "text/plain": [
       "                regio1               regio2  balcony  livingSpace  totalRent  \\\n",
       "0  Nordrhein_Westfalen             Dortmund    False        86.00      840.0   \n",
       "1      Rheinland_Pfalz    Rhein_Pfalz_Kreis     True        89.00        NaN   \n",
       "2              Sachsen              Dresden     True        83.80     1300.0   \n",
       "3              Sachsen  Mittelsachsen_Kreis     True        58.15        NaN   \n",
       "4               Bremen               Bremen     True        84.97      903.0   \n",
       "\n",
       "   serviceCharge  baseRent    typeOfFlat   lift petsAllowed  floor  noRooms  \\\n",
       "0         245.00     595.0  ground_floor  False         NaN    1.0      4.0   \n",
       "1         134.00     800.0  ground_floor  False          no    NaN      3.0   \n",
       "2         255.00     965.0     apartment   True         NaN    3.0      3.0   \n",
       "3          58.15     343.0         other  False         NaN    3.0      3.0   \n",
       "4         138.00     765.0     apartment  False         NaN    1.0      3.0   \n",
       "\n",
       "   livingSpace  yearConstructed  garden  cellar  \n",
       "0        86.00           1965.0    True    True  \n",
       "1        89.00           1871.0   False   False  \n",
       "2        83.80           2019.0   False    True  \n",
       "3        58.15           1964.0   False   False  \n",
       "4        84.97           1950.0   False   False  "
      ]
     },
     "execution_count": 7,
     "metadata": {},
     "output_type": "execute_result"
    }
   ],
   "source": [
    "brandenburg_df = df.loc[:,['regio1', 'regio2', \n",
    "'balcony', 'livingSpace', 'totalRent', 'serviceCharge',\n",
    "'baseRent','typeOfFlat','lift',\n",
    "'petsAllowed','floor','noRooms','livingSpace','yearConstructed','garden','cellar']]\n",
    "brandenburg_df.head()"
   ]
  },
  {
   "cell_type": "code",
   "execution_count": 8,
   "id": "a700ab99",
   "metadata": {},
   "outputs": [
    {
     "data": {
      "text/plain": [
       "regio1                  0\n",
       "regio2                  0\n",
       "balcony                 0\n",
       "livingSpace             0\n",
       "totalRent           40517\n",
       "serviceCharge        6909\n",
       "baseRent                0\n",
       "typeOfFlat          36614\n",
       "lift                    0\n",
       "petsAllowed        114573\n",
       "floor               51309\n",
       "noRooms                 0\n",
       "livingSpace             0\n",
       "yearConstructed     57045\n",
       "garden                  0\n",
       "cellar                  0\n",
       "dtype: int64"
      ]
     },
     "execution_count": 8,
     "metadata": {},
     "output_type": "execute_result"
    }
   ],
   "source": [
    "brandenburg_df.isna().sum()"
   ]
  },
  {
   "cell_type": "code",
   "execution_count": 23,
   "id": "5eac5c01",
   "metadata": {},
   "outputs": [
    {
     "data": {
      "text/plain": [
       "(150702, 16)"
      ]
     },
     "execution_count": 23,
     "metadata": {},
     "output_type": "execute_result"
    }
   ],
   "source": [
    "brandenburg_df.shape"
   ]
  },
  {
   "cell_type": "code",
   "execution_count": 9,
   "id": "ed7bf62f",
   "metadata": {},
   "outputs": [],
   "source": [
    "# simple calculation, it is obsvious -- service + base = total_rent\n",
    "brandenburg_df['totalRent'] = brandenburg_df['serviceCharge'] + brandenburg_df['baseRent']"
   ]
  },
  {
   "cell_type": "code",
   "execution_count": 10,
   "id": "cec3d669",
   "metadata": {},
   "outputs": [
    {
     "data": {
      "text/plain": [
       "regio1                  0\n",
       "regio2                  0\n",
       "balcony                 0\n",
       "livingSpace             0\n",
       "totalRent            6909\n",
       "serviceCharge        6909\n",
       "baseRent                0\n",
       "typeOfFlat          36614\n",
       "lift                    0\n",
       "petsAllowed        114573\n",
       "floor               51309\n",
       "noRooms                 0\n",
       "livingSpace             0\n",
       "yearConstructed     57045\n",
       "garden                  0\n",
       "cellar                  0\n",
       "dtype: int64"
      ]
     },
     "execution_count": 10,
     "metadata": {},
     "output_type": "execute_result"
    }
   ],
   "source": [
    "brandenburg_df.isna().sum()"
   ]
  },
  {
   "cell_type": "code",
   "execution_count": 11,
   "id": "a2947cf0",
   "metadata": {},
   "outputs": [
    {
     "data": {
      "text/plain": [
       "(268850, 16)"
      ]
     },
     "execution_count": 11,
     "metadata": {},
     "output_type": "execute_result"
    }
   ],
   "source": [
    "brandenburg_df.shape"
   ]
  },
  {
   "cell_type": "code",
   "execution_count": 12,
   "id": "ff40dcfc",
   "metadata": {},
   "outputs": [],
   "source": [
    "brandenburg_df=brandenburg_df.dropna(subset=['serviceCharge','yearConstructed','typeOfFlat','floor']) # dropping Nan rows"
   ]
  },
  {
   "cell_type": "code",
   "execution_count": 13,
   "id": "3b9e5e97",
   "metadata": {},
   "outputs": [
    {
     "data": {
      "text/plain": [
       "regio1                 0\n",
       "regio2                 0\n",
       "balcony                0\n",
       "livingSpace            0\n",
       "totalRent              0\n",
       "serviceCharge          0\n",
       "baseRent               0\n",
       "typeOfFlat             0\n",
       "lift                   0\n",
       "petsAllowed        57379\n",
       "floor                  0\n",
       "noRooms                0\n",
       "livingSpace            0\n",
       "yearConstructed        0\n",
       "garden                 0\n",
       "cellar                 0\n",
       "dtype: int64"
      ]
     },
     "execution_count": 13,
     "metadata": {},
     "output_type": "execute_result"
    }
   ],
   "source": [
    "brandenburg_df.isna().sum()"
   ]
  },
  {
   "cell_type": "code",
   "execution_count": 14,
   "id": "08713c7a",
   "metadata": {},
   "outputs": [],
   "source": [
    "brandenburg_df['petsAllowed']=brandenburg_df['petsAllowed'].fillna('no info')"
   ]
  },
  {
   "cell_type": "code",
   "execution_count": 15,
   "id": "09e3ac9f",
   "metadata": {},
   "outputs": [
    {
     "data": {
      "text/plain": [
       "regio1             0\n",
       "regio2             0\n",
       "balcony            0\n",
       "livingSpace        0\n",
       "totalRent          0\n",
       "serviceCharge      0\n",
       "baseRent           0\n",
       "typeOfFlat         0\n",
       "lift               0\n",
       "petsAllowed        0\n",
       "floor              0\n",
       "noRooms            0\n",
       "livingSpace        0\n",
       "yearConstructed    0\n",
       "garden             0\n",
       "cellar             0\n",
       "dtype: int64"
      ]
     },
     "execution_count": 15,
     "metadata": {},
     "output_type": "execute_result"
    }
   ],
   "source": [
    "brandenburg_df.isna().sum()"
   ]
  },
  {
   "cell_type": "code",
   "execution_count": 16,
   "id": "85207012",
   "metadata": {},
   "outputs": [
    {
     "data": {
      "text/plain": [
       "(150702, 16)"
      ]
     },
     "execution_count": 16,
     "metadata": {},
     "output_type": "execute_result"
    }
   ],
   "source": [
    "brandenburg_df.shape"
   ]
  },
  {
   "cell_type": "code",
   "execution_count": null,
   "id": "7a59e77c",
   "metadata": {},
   "outputs": [],
   "source": []
  }
 ],
 "metadata": {
  "kernelspec": {
   "display_name": "Python 3 (ipykernel)",
   "language": "python",
   "name": "python3"
  },
  "language_info": {
   "codemirror_mode": {
    "name": "ipython",
    "version": 3
   },
   "file_extension": ".py",
   "mimetype": "text/x-python",
   "name": "python",
   "nbconvert_exporter": "python",
   "pygments_lexer": "ipython3",
   "version": "3.9.13"
  }
 },
 "nbformat": 4,
 "nbformat_minor": 5
}
