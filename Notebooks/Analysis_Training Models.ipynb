{
 "cells": [
  {
   "cell_type": "code",
   "execution_count": 35,
   "id": "0a8c0504",
   "metadata": {},
   "outputs": [],
   "source": [
    "import pandas as pd\n",
    "import pickle"
   ]
  },
  {
   "cell_type": "code",
   "execution_count": 2,
   "id": "5b1317a0",
   "metadata": {
    "scrolled": true
   },
   "outputs": [
    {
     "data": {
      "text/html": [
       "<div>\n",
       "<style scoped>\n",
       "    .dataframe tbody tr th:only-of-type {\n",
       "        vertical-align: middle;\n",
       "    }\n",
       "\n",
       "    .dataframe tbody tr th {\n",
       "        vertical-align: top;\n",
       "    }\n",
       "\n",
       "    .dataframe thead th {\n",
       "        text-align: right;\n",
       "    }\n",
       "</style>\n",
       "<table border=\"1\" class=\"dataframe\">\n",
       "  <thead>\n",
       "    <tr style=\"text-align: right;\">\n",
       "      <th></th>\n",
       "      <th>Unnamed: 0</th>\n",
       "      <th>land</th>\n",
       "      <th>city</th>\n",
       "      <th>balcony</th>\n",
       "      <th>living_space</th>\n",
       "      <th>total_rent</th>\n",
       "      <th>service_charge</th>\n",
       "      <th>base_rent</th>\n",
       "      <th>lift</th>\n",
       "      <th>pets_allowed</th>\n",
       "      <th>floor</th>\n",
       "      <th>no_rooms</th>\n",
       "      <th>garden</th>\n",
       "      <th>cellar</th>\n",
       "      <th>noParkSpaces</th>\n",
       "    </tr>\n",
       "  </thead>\n",
       "  <tbody>\n",
       "    <tr>\n",
       "      <th>0</th>\n",
       "      <td>0</td>\n",
       "      <td>Brandenburg</td>\n",
       "      <td>Oder_Spree_Kreis</td>\n",
       "      <td>True</td>\n",
       "      <td>36.29</td>\n",
       "      <td>335.00</td>\n",
       "      <td>50.00</td>\n",
       "      <td>285.00</td>\n",
       "      <td>True</td>\n",
       "      <td>negotiable</td>\n",
       "      <td>1.0</td>\n",
       "      <td>1.0</td>\n",
       "      <td>False</td>\n",
       "      <td>True</td>\n",
       "      <td>0.0</td>\n",
       "    </tr>\n",
       "    <tr>\n",
       "      <th>1</th>\n",
       "      <td>1</td>\n",
       "      <td>Brandenburg</td>\n",
       "      <td>Märkisch_Oderland_Kreis</td>\n",
       "      <td>True</td>\n",
       "      <td>60.71</td>\n",
       "      <td>365.00</td>\n",
       "      <td>65.00</td>\n",
       "      <td>300.00</td>\n",
       "      <td>False</td>\n",
       "      <td>no</td>\n",
       "      <td>0.0</td>\n",
       "      <td>2.0</td>\n",
       "      <td>False</td>\n",
       "      <td>True</td>\n",
       "      <td>0.0</td>\n",
       "    </tr>\n",
       "    <tr>\n",
       "      <th>2</th>\n",
       "      <td>2</td>\n",
       "      <td>Brandenburg</td>\n",
       "      <td>Brandenburg_an_der_Havel</td>\n",
       "      <td>True</td>\n",
       "      <td>67.80</td>\n",
       "      <td>590.00</td>\n",
       "      <td>170.00</td>\n",
       "      <td>420.00</td>\n",
       "      <td>True</td>\n",
       "      <td>yes</td>\n",
       "      <td>0.0</td>\n",
       "      <td>3.0</td>\n",
       "      <td>False</td>\n",
       "      <td>True</td>\n",
       "      <td>0.0</td>\n",
       "    </tr>\n",
       "    <tr>\n",
       "      <th>3</th>\n",
       "      <td>4</td>\n",
       "      <td>Brandenburg</td>\n",
       "      <td>Dahme_Spreewald_Kreis</td>\n",
       "      <td>True</td>\n",
       "      <td>69.00</td>\n",
       "      <td>520.00</td>\n",
       "      <td>150.00</td>\n",
       "      <td>370.00</td>\n",
       "      <td>False</td>\n",
       "      <td>negotiable</td>\n",
       "      <td>2.0</td>\n",
       "      <td>2.0</td>\n",
       "      <td>True</td>\n",
       "      <td>True</td>\n",
       "      <td>1.0</td>\n",
       "    </tr>\n",
       "    <tr>\n",
       "      <th>4</th>\n",
       "      <td>5</td>\n",
       "      <td>Brandenburg</td>\n",
       "      <td>Uckermark_Kreis</td>\n",
       "      <td>True</td>\n",
       "      <td>57.38</td>\n",
       "      <td>378.71</td>\n",
       "      <td>71.73</td>\n",
       "      <td>306.98</td>\n",
       "      <td>False</td>\n",
       "      <td>negotiable</td>\n",
       "      <td>4.0</td>\n",
       "      <td>3.0</td>\n",
       "      <td>False</td>\n",
       "      <td>True</td>\n",
       "      <td>0.0</td>\n",
       "    </tr>\n",
       "  </tbody>\n",
       "</table>\n",
       "</div>"
      ],
      "text/plain": [
       "   Unnamed: 0         land                      city  balcony  living_space  \\\n",
       "0           0  Brandenburg          Oder_Spree_Kreis     True         36.29   \n",
       "1           1  Brandenburg   Märkisch_Oderland_Kreis     True         60.71   \n",
       "2           2  Brandenburg  Brandenburg_an_der_Havel     True         67.80   \n",
       "3           4  Brandenburg     Dahme_Spreewald_Kreis     True         69.00   \n",
       "4           5  Brandenburg           Uckermark_Kreis     True         57.38   \n",
       "\n",
       "   total_rent  service_charge  base_rent   lift pets_allowed  floor  no_rooms  \\\n",
       "0      335.00           50.00     285.00   True   negotiable    1.0       1.0   \n",
       "1      365.00           65.00     300.00  False           no    0.0       2.0   \n",
       "2      590.00          170.00     420.00   True          yes    0.0       3.0   \n",
       "3      520.00          150.00     370.00  False   negotiable    2.0       2.0   \n",
       "4      378.71           71.73     306.98  False   negotiable    4.0       3.0   \n",
       "\n",
       "   garden  cellar  noParkSpaces  \n",
       "0   False    True           0.0  \n",
       "1   False    True           0.0  \n",
       "2   False    True           0.0  \n",
       "3    True    True           1.0  \n",
       "4   False    True           0.0  "
      ]
     },
     "execution_count": 2,
     "metadata": {},
     "output_type": "execute_result"
    }
   ],
   "source": [
    "df_brandenburg = pd.read_csv('../Data/brandenburg_cleaned.csv')\n",
    "df_brandenburg.head()"
   ]
  },
  {
   "cell_type": "markdown",
   "id": "4aad932d",
   "metadata": {},
   "source": [
    "the factors that most positively influence the rent amount (correlation> = 0.3) are: living space, no_rooms,noParkSpaces are clearly correlated"
   ]
  },
  {
   "cell_type": "code",
   "execution_count": 3,
   "id": "2260946e",
   "metadata": {},
   "outputs": [],
   "source": [
    "brb_df=df_brandenburg[['total_rent', 'living_space','no_rooms','noParkSpaces']].copy()"
   ]
  },
  {
   "cell_type": "markdown",
   "id": "45f5feff",
   "metadata": {},
   "source": [
    "## Processing Data"
   ]
  },
  {
   "cell_type": "code",
   "execution_count": 4,
   "id": "89bd8b07",
   "metadata": {},
   "outputs": [
    {
     "data": {
      "text/html": [
       "<div>\n",
       "<style scoped>\n",
       "    .dataframe tbody tr th:only-of-type {\n",
       "        vertical-align: middle;\n",
       "    }\n",
       "\n",
       "    .dataframe tbody tr th {\n",
       "        vertical-align: top;\n",
       "    }\n",
       "\n",
       "    .dataframe thead th {\n",
       "        text-align: right;\n",
       "    }\n",
       "</style>\n",
       "<table border=\"1\" class=\"dataframe\">\n",
       "  <thead>\n",
       "    <tr style=\"text-align: right;\">\n",
       "      <th></th>\n",
       "      <th>total_rent</th>\n",
       "      <th>living_space</th>\n",
       "      <th>no_rooms</th>\n",
       "      <th>noParkSpaces</th>\n",
       "    </tr>\n",
       "  </thead>\n",
       "  <tbody>\n",
       "    <tr>\n",
       "      <th>0</th>\n",
       "      <td>335.00</td>\n",
       "      <td>36.29</td>\n",
       "      <td>1.0</td>\n",
       "      <td>0.0</td>\n",
       "    </tr>\n",
       "    <tr>\n",
       "      <th>1</th>\n",
       "      <td>365.00</td>\n",
       "      <td>60.71</td>\n",
       "      <td>2.0</td>\n",
       "      <td>0.0</td>\n",
       "    </tr>\n",
       "    <tr>\n",
       "      <th>2</th>\n",
       "      <td>590.00</td>\n",
       "      <td>67.80</td>\n",
       "      <td>3.0</td>\n",
       "      <td>0.0</td>\n",
       "    </tr>\n",
       "    <tr>\n",
       "      <th>3</th>\n",
       "      <td>520.00</td>\n",
       "      <td>69.00</td>\n",
       "      <td>2.0</td>\n",
       "      <td>1.0</td>\n",
       "    </tr>\n",
       "    <tr>\n",
       "      <th>4</th>\n",
       "      <td>378.71</td>\n",
       "      <td>57.38</td>\n",
       "      <td>3.0</td>\n",
       "      <td>0.0</td>\n",
       "    </tr>\n",
       "  </tbody>\n",
       "</table>\n",
       "</div>"
      ],
      "text/plain": [
       "   total_rent  living_space  no_rooms  noParkSpaces\n",
       "0      335.00         36.29       1.0           0.0\n",
       "1      365.00         60.71       2.0           0.0\n",
       "2      590.00         67.80       3.0           0.0\n",
       "3      520.00         69.00       2.0           1.0\n",
       "4      378.71         57.38       3.0           0.0"
      ]
     },
     "execution_count": 4,
     "metadata": {},
     "output_type": "execute_result"
    }
   ],
   "source": [
    "brb_df.head()"
   ]
  },
  {
   "cell_type": "code",
   "execution_count": 5,
   "id": "33ac6a66",
   "metadata": {},
   "outputs": [],
   "source": [
    "# X-y split\n",
    "X=brb_df.drop('total_rent', axis=1)\n",
    "y=brb_df.total_rent"
   ]
  },
  {
   "cell_type": "code",
   "execution_count": 6,
   "id": "f506486f",
   "metadata": {},
   "outputs": [],
   "source": [
    "#train-test split\n",
    "from sklearn.model_selection import train_test_split as tts\n",
    "\n",
    "X_train, X_test, y_train, y_test=tts(X, y, test_size=.2)"
   ]
  },
  {
   "cell_type": "code",
   "execution_count": 7,
   "id": "e7bff3e6",
   "metadata": {},
   "outputs": [],
   "source": [
    "from sklearn.preprocessing import StandardScaler\n",
    "\n",
    "scaler=StandardScaler()\n",
    "scaler.fit(X_train)\n",
    "\n",
    "X_train_scaled_np = scaler.transform(X_train)\n",
    "X_test_scaled_np  = scaler.transform(X_test)\n",
    "\n",
    "X_train_scaled_df = pd.DataFrame(X_train_scaled_np, columns=X.columns, index=X_train.index)\n",
    "X_test_scaled_df  = pd.DataFrame(X_test_scaled_np, columns=X.columns, index=X_test.index)"
   ]
  },
  {
   "cell_type": "markdown",
   "id": "e05f5e7a",
   "metadata": {},
   "source": [
    "##### Store scalers"
   ]
  },
  {
   "cell_type": "code",
   "execution_count": 36,
   "id": "601c8e9e",
   "metadata": {},
   "outputs": [],
   "source": [
    "with open(\"../Scalers/standard_scaler.pkl\", \"wb\") as file:\n",
    "    pickle.dump(scaler, file, pickle.HIGHEST_PROTOCOL)"
   ]
  },
  {
   "cell_type": "markdown",
   "id": "feda069c",
   "metadata": {},
   "source": [
    "### Linear Regression"
   ]
  },
  {
   "cell_type": "code",
   "execution_count": 39,
   "id": "1aa5ee55",
   "metadata": {},
   "outputs": [],
   "source": [
    "#Apply linear regression\n",
    "from sklearn.linear_model import LinearRegression as LinReg\n",
    "\n",
    "linreg=LinReg()    # model\n",
    "linreg.fit(X_train_scaled_df, y_train)   # model train\n",
    "y_test_pred_linreg=linreg.predict(X_test_scaled_df)   # model prediction\n",
    "y_train_pred_linreg=linreg.predict(X_train_scaled_df)   # model prediction"
   ]
  },
  {
   "cell_type": "code",
   "execution_count": 40,
   "id": "2d5545bc",
   "metadata": {},
   "outputs": [],
   "source": [
    "#stoing linear\n",
    "with open(\"../Models/Linear.pkl\", \"wb\") as file:\n",
    "    pickle.dump(linreg, file, pickle.HIGHEST_PROTOCOL)"
   ]
  },
  {
   "cell_type": "markdown",
   "id": "d7aa9f61",
   "metadata": {},
   "source": [
    "### K-NN"
   ]
  },
  {
   "cell_type": "code",
   "execution_count": 34,
   "id": "5dd8a82e",
   "metadata": {
    "scrolled": false
   },
   "outputs": [],
   "source": [
    "# help(KNeighborsRegressor)"
   ]
  },
  {
   "cell_type": "code",
   "execution_count": 28,
   "id": "3acdb039",
   "metadata": {},
   "outputs": [
    {
     "data": {
      "text/html": [
       "<style>#sk-container-id-6 {color: black;background-color: white;}#sk-container-id-6 pre{padding: 0;}#sk-container-id-6 div.sk-toggleable {background-color: white;}#sk-container-id-6 label.sk-toggleable__label {cursor: pointer;display: block;width: 100%;margin-bottom: 0;padding: 0.3em;box-sizing: border-box;text-align: center;}#sk-container-id-6 label.sk-toggleable__label-arrow:before {content: \"▸\";float: left;margin-right: 0.25em;color: #696969;}#sk-container-id-6 label.sk-toggleable__label-arrow:hover:before {color: black;}#sk-container-id-6 div.sk-estimator:hover label.sk-toggleable__label-arrow:before {color: black;}#sk-container-id-6 div.sk-toggleable__content {max-height: 0;max-width: 0;overflow: hidden;text-align: left;background-color: #f0f8ff;}#sk-container-id-6 div.sk-toggleable__content pre {margin: 0.2em;color: black;border-radius: 0.25em;background-color: #f0f8ff;}#sk-container-id-6 input.sk-toggleable__control:checked~div.sk-toggleable__content {max-height: 200px;max-width: 100%;overflow: auto;}#sk-container-id-6 input.sk-toggleable__control:checked~label.sk-toggleable__label-arrow:before {content: \"▾\";}#sk-container-id-6 div.sk-estimator input.sk-toggleable__control:checked~label.sk-toggleable__label {background-color: #d4ebff;}#sk-container-id-6 div.sk-label input.sk-toggleable__control:checked~label.sk-toggleable__label {background-color: #d4ebff;}#sk-container-id-6 input.sk-hidden--visually {border: 0;clip: rect(1px 1px 1px 1px);clip: rect(1px, 1px, 1px, 1px);height: 1px;margin: -1px;overflow: hidden;padding: 0;position: absolute;width: 1px;}#sk-container-id-6 div.sk-estimator {font-family: monospace;background-color: #f0f8ff;border: 1px dotted black;border-radius: 0.25em;box-sizing: border-box;margin-bottom: 0.5em;}#sk-container-id-6 div.sk-estimator:hover {background-color: #d4ebff;}#sk-container-id-6 div.sk-parallel-item::after {content: \"\";width: 100%;border-bottom: 1px solid gray;flex-grow: 1;}#sk-container-id-6 div.sk-label:hover label.sk-toggleable__label {background-color: #d4ebff;}#sk-container-id-6 div.sk-serial::before {content: \"\";position: absolute;border-left: 1px solid gray;box-sizing: border-box;top: 0;bottom: 0;left: 50%;z-index: 0;}#sk-container-id-6 div.sk-serial {display: flex;flex-direction: column;align-items: center;background-color: white;padding-right: 0.2em;padding-left: 0.2em;position: relative;}#sk-container-id-6 div.sk-item {position: relative;z-index: 1;}#sk-container-id-6 div.sk-parallel {display: flex;align-items: stretch;justify-content: center;background-color: white;position: relative;}#sk-container-id-6 div.sk-item::before, #sk-container-id-6 div.sk-parallel-item::before {content: \"\";position: absolute;border-left: 1px solid gray;box-sizing: border-box;top: 0;bottom: 0;left: 50%;z-index: -1;}#sk-container-id-6 div.sk-parallel-item {display: flex;flex-direction: column;z-index: 1;position: relative;background-color: white;}#sk-container-id-6 div.sk-parallel-item:first-child::after {align-self: flex-end;width: 50%;}#sk-container-id-6 div.sk-parallel-item:last-child::after {align-self: flex-start;width: 50%;}#sk-container-id-6 div.sk-parallel-item:only-child::after {width: 0;}#sk-container-id-6 div.sk-dashed-wrapped {border: 1px dashed gray;margin: 0 0.4em 0.5em 0.4em;box-sizing: border-box;padding-bottom: 0.4em;background-color: white;}#sk-container-id-6 div.sk-label label {font-family: monospace;font-weight: bold;display: inline-block;line-height: 1.2em;}#sk-container-id-6 div.sk-label-container {text-align: center;}#sk-container-id-6 div.sk-container {/* jupyter's `normalize.less` sets `[hidden] { display: none; }` but bootstrap.min.css set `[hidden] { display: none !important; }` so we also need the `!important` here to be able to override the default hidden behavior on the sphinx rendered scikit-learn.org. See: https://github.com/scikit-learn/scikit-learn/issues/21755 */display: inline-block !important;position: relative;}#sk-container-id-6 div.sk-text-repr-fallback {display: none;}</style><div id=\"sk-container-id-6\" class=\"sk-top-container\"><div class=\"sk-text-repr-fallback\"><pre>KNeighborsRegressor(n_neighbors=15, weights=&#x27;distance&#x27;)</pre><b>In a Jupyter environment, please rerun this cell to show the HTML representation or trust the notebook. <br />On GitHub, the HTML representation is unable to render, please try loading this page with nbviewer.org.</b></div><div class=\"sk-container\" hidden><div class=\"sk-item\"><div class=\"sk-estimator sk-toggleable\"><input class=\"sk-toggleable__control sk-hidden--visually\" id=\"sk-estimator-id-6\" type=\"checkbox\" checked><label for=\"sk-estimator-id-6\" class=\"sk-toggleable__label sk-toggleable__label-arrow\">KNeighborsRegressor</label><div class=\"sk-toggleable__content\"><pre>KNeighborsRegressor(n_neighbors=15, weights=&#x27;distance&#x27;)</pre></div></div></div></div></div>"
      ],
      "text/plain": [
       "KNeighborsRegressor(n_neighbors=15, weights='distance')"
      ]
     },
     "execution_count": 28,
     "metadata": {},
     "output_type": "execute_result"
    }
   ],
   "source": [
    "from sklearn.neighbors import KNeighborsRegressor\n",
    "regressor = KNeighborsRegressor(n_neighbors=15,weights='distance')\n",
    "regressor.fit(X_train_scaled_df, y_train)"
   ]
  },
  {
   "cell_type": "code",
   "execution_count": 41,
   "id": "1183bffd",
   "metadata": {},
   "outputs": [],
   "source": [
    "y_test_pred_knn = regressor.predict(X_test) # model prediction\n",
    "y_train_pred_knn = regressor.predict(X_train) # model prediction"
   ]
  },
  {
   "cell_type": "code",
   "execution_count": 42,
   "id": "dade6300",
   "metadata": {},
   "outputs": [],
   "source": [
    "#stoing linear\n",
    "with open(\"../Models/knn.pkl\", \"wb\") as file:\n",
    "    pickle.dump(regressor, file, pickle.HIGHEST_PROTOCOL)"
   ]
  },
  {
   "cell_type": "markdown",
   "id": "65ed173e",
   "metadata": {},
   "source": [
    "## Model Validation - Comparing Linear and KNN"
   ]
  },
  {
   "cell_type": "code",
   "execution_count": 30,
   "id": "3aceab6f",
   "metadata": {},
   "outputs": [
    {
     "name": "stdout",
     "output_type": "stream",
     "text": [
      "Linear: train R2: 0.5564988079299346 -- test R2: 0.5217731089432932\n",
      "KNN: train R2: 0.8692766861492459 -- test R2: 0.5154401036567353\n"
     ]
    }
   ],
   "source": [
    "print ('Linear: train R2: {} -- test R2: {}'.format(linreg.score(X_train_scaled_df, y_train),\n",
    "                                            linreg.score(X_test_scaled_df, y_test)))\n",
    "print ('KNN: train R2: {} -- test R2: {}'.format(regressor.score(X_train_scaled_df, y_train),\n",
    "                                            regressor.score(X_test_scaled_df, y_test)))"
   ]
  },
  {
   "cell_type": "code",
   "execution_count": 17,
   "id": "e7819a21",
   "metadata": {},
   "outputs": [
    {
     "name": "stdout",
     "output_type": "stream",
     "text": [
      "Liniar : train MSE: 18922.5404091589 -- test MSE: 18750.833639008306\n",
      "Liniar:train RMSE: 137.55922509653396 -- test RMSE: 136.93368336172188\n",
      "KNN : train MSE: 6060.759870569123 -- test MSE: 20908.01472855156\n",
      "KNN: train RMSE: 77.85088227225896 -- test RMSE: 144.59603980936532\n"
     ]
    }
   ],
   "source": [
    "from sklearn.metrics import mean_squared_error as mse\n",
    "\n",
    "train_mse=mse(linreg.predict(X_train_scaled_df), y_train)\n",
    "test_mse=mse(linreg.predict(X_test_scaled_df), y_test)\n",
    "\n",
    "print ('Liniar : train MSE: {} -- test MSE: {}'.format(train_mse, test_mse))\n",
    "print ('Liniar:train RMSE: {} -- test RMSE: {}'.format(train_mse**.5, test_mse**.5))\n",
    "\n",
    "train_mse=mse(regressor.predict(X_train_scaled_df), y_train)\n",
    "test_mse=mse(regressor.predict(X_test_scaled_df), y_test)\n",
    "\n",
    "print ('KNN : train MSE: {} -- test MSE: {}'.format(train_mse, test_mse))\n",
    "print ('KNN: train RMSE: {} -- test RMSE: {}'.format(train_mse**.5, test_mse**.5))"
   ]
  },
  {
   "cell_type": "code",
   "execution_count": 18,
   "id": "a7a05d8b",
   "metadata": {
    "scrolled": true
   },
   "outputs": [
    {
     "name": "stdout",
     "output_type": "stream",
     "text": [
      "Linear: train MAE: 6060.759870569123 -- test MAE: 20908.01472855156\n",
      "KNN: train MAE: 6060.759870569123 -- test MAE: 20908.01472855156\n"
     ]
    }
   ],
   "source": [
    "from sklearn.metrics import mean_absolute_error as mae\n",
    "\n",
    "train_mae=mae(linreg.predict(X_train_scaled_df), y_train)\n",
    "test_mae=mae(linreg.predict(X_test_scaled_df), y_test)\n",
    "\n",
    "print ('Linear: train MAE: {} -- test MAE: {}'.format(train_mse, test_mse))\n",
    "\n",
    "train_mae=mae(regressor.predict(X_train_scaled_df), y_train)\n",
    "test_mae=mae(regressor.predict(X_test_scaled_df), y_test)\n",
    "\n",
    "print ('KNN: train MAE: {} -- test MAE: {}'.format(train_mse, test_mse))"
   ]
  },
  {
   "cell_type": "markdown",
   "id": "4a5341ca",
   "metadata": {},
   "source": [
    "### Comparing KNN and Linear regression models in order to predict rent prices in Brandeng."
   ]
  },
  {
   "cell_type": "markdown",
   "id": "7f3e9cf7",
   "metadata": {},
   "source": [
    "It seems from error metrics that Linier model has better error metrics than KNN model."
   ]
  }
 ],
 "metadata": {
  "kernelspec": {
   "display_name": "Mid-Bootcamp-Project",
   "language": "python",
   "name": "mid-bootcamp-project"
  },
  "language_info": {
   "codemirror_mode": {
    "name": "ipython",
    "version": 3
   },
   "file_extension": ".py",
   "mimetype": "text/x-python",
   "name": "python",
   "nbconvert_exporter": "python",
   "pygments_lexer": "ipython3",
   "version": "3.9.16"
  }
 },
 "nbformat": 4,
 "nbformat_minor": 5
}
