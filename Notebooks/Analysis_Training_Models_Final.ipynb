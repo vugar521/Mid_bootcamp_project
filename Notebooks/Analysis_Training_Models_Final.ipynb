{
 "cells": [
  {
   "cell_type": "code",
   "execution_count": 1,
   "id": "0a8c0504",
   "metadata": {},
   "outputs": [],
   "source": [
    "import pandas as pd\n",
    "import pickle\n",
    "import numpy as np"
   ]
  },
  {
   "cell_type": "code",
   "execution_count": 2,
   "id": "5b1317a0",
   "metadata": {
    "scrolled": true
   },
   "outputs": [
    {
     "data": {
      "text/html": [
       "<div>\n",
       "<style scoped>\n",
       "    .dataframe tbody tr th:only-of-type {\n",
       "        vertical-align: middle;\n",
       "    }\n",
       "\n",
       "    .dataframe tbody tr th {\n",
       "        vertical-align: top;\n",
       "    }\n",
       "\n",
       "    .dataframe thead th {\n",
       "        text-align: right;\n",
       "    }\n",
       "</style>\n",
       "<table border=\"1\" class=\"dataframe\">\n",
       "  <thead>\n",
       "    <tr style=\"text-align: right;\">\n",
       "      <th></th>\n",
       "      <th>land</th>\n",
       "      <th>city</th>\n",
       "      <th>balcony</th>\n",
       "      <th>living_space</th>\n",
       "      <th>total_rent</th>\n",
       "      <th>service_charge</th>\n",
       "      <th>base_rent</th>\n",
       "      <th>lift</th>\n",
       "      <th>pets_allowed</th>\n",
       "      <th>floor</th>\n",
       "      <th>no_rooms</th>\n",
       "      <th>garden</th>\n",
       "      <th>cellar</th>\n",
       "      <th>noParkSpaces</th>\n",
       "    </tr>\n",
       "  </thead>\n",
       "  <tbody>\n",
       "    <tr>\n",
       "      <th>0</th>\n",
       "      <td>Brandenburg</td>\n",
       "      <td>Oder_Spree_Kreis</td>\n",
       "      <td>True</td>\n",
       "      <td>36.29</td>\n",
       "      <td>335.00</td>\n",
       "      <td>50.00</td>\n",
       "      <td>285.00</td>\n",
       "      <td>True</td>\n",
       "      <td>negotiable</td>\n",
       "      <td>1.0</td>\n",
       "      <td>1.0</td>\n",
       "      <td>False</td>\n",
       "      <td>True</td>\n",
       "      <td>0.0</td>\n",
       "    </tr>\n",
       "    <tr>\n",
       "      <th>1</th>\n",
       "      <td>Brandenburg</td>\n",
       "      <td>Märkisch_Oderland_Kreis</td>\n",
       "      <td>True</td>\n",
       "      <td>60.71</td>\n",
       "      <td>365.00</td>\n",
       "      <td>65.00</td>\n",
       "      <td>300.00</td>\n",
       "      <td>False</td>\n",
       "      <td>no</td>\n",
       "      <td>0.0</td>\n",
       "      <td>2.0</td>\n",
       "      <td>False</td>\n",
       "      <td>True</td>\n",
       "      <td>0.0</td>\n",
       "    </tr>\n",
       "    <tr>\n",
       "      <th>2</th>\n",
       "      <td>Brandenburg</td>\n",
       "      <td>Brandenburg_an_der_Havel</td>\n",
       "      <td>True</td>\n",
       "      <td>67.80</td>\n",
       "      <td>590.00</td>\n",
       "      <td>170.00</td>\n",
       "      <td>420.00</td>\n",
       "      <td>True</td>\n",
       "      <td>yes</td>\n",
       "      <td>0.0</td>\n",
       "      <td>3.0</td>\n",
       "      <td>False</td>\n",
       "      <td>True</td>\n",
       "      <td>0.0</td>\n",
       "    </tr>\n",
       "    <tr>\n",
       "      <th>3</th>\n",
       "      <td>Brandenburg</td>\n",
       "      <td>Dahme_Spreewald_Kreis</td>\n",
       "      <td>True</td>\n",
       "      <td>69.00</td>\n",
       "      <td>520.00</td>\n",
       "      <td>150.00</td>\n",
       "      <td>370.00</td>\n",
       "      <td>False</td>\n",
       "      <td>negotiable</td>\n",
       "      <td>2.0</td>\n",
       "      <td>2.0</td>\n",
       "      <td>True</td>\n",
       "      <td>True</td>\n",
       "      <td>1.0</td>\n",
       "    </tr>\n",
       "    <tr>\n",
       "      <th>4</th>\n",
       "      <td>Brandenburg</td>\n",
       "      <td>Uckermark_Kreis</td>\n",
       "      <td>True</td>\n",
       "      <td>57.38</td>\n",
       "      <td>378.71</td>\n",
       "      <td>71.73</td>\n",
       "      <td>306.98</td>\n",
       "      <td>False</td>\n",
       "      <td>negotiable</td>\n",
       "      <td>4.0</td>\n",
       "      <td>3.0</td>\n",
       "      <td>False</td>\n",
       "      <td>True</td>\n",
       "      <td>0.0</td>\n",
       "    </tr>\n",
       "  </tbody>\n",
       "</table>\n",
       "</div>"
      ],
      "text/plain": [
       "          land                      city  balcony  living_space  total_rent  \\\n",
       "0  Brandenburg          Oder_Spree_Kreis     True         36.29      335.00   \n",
       "1  Brandenburg   Märkisch_Oderland_Kreis     True         60.71      365.00   \n",
       "2  Brandenburg  Brandenburg_an_der_Havel     True         67.80      590.00   \n",
       "3  Brandenburg     Dahme_Spreewald_Kreis     True         69.00      520.00   \n",
       "4  Brandenburg           Uckermark_Kreis     True         57.38      378.71   \n",
       "\n",
       "   service_charge  base_rent   lift pets_allowed  floor  no_rooms  garden  \\\n",
       "0           50.00     285.00   True   negotiable    1.0       1.0   False   \n",
       "1           65.00     300.00  False           no    0.0       2.0   False   \n",
       "2          170.00     420.00   True          yes    0.0       3.0   False   \n",
       "3          150.00     370.00  False   negotiable    2.0       2.0    True   \n",
       "4           71.73     306.98  False   negotiable    4.0       3.0   False   \n",
       "\n",
       "   cellar  noParkSpaces  \n",
       "0    True           0.0  \n",
       "1    True           0.0  \n",
       "2    True           0.0  \n",
       "3    True           1.0  \n",
       "4    True           0.0  "
      ]
     },
     "execution_count": 2,
     "metadata": {},
     "output_type": "execute_result"
    }
   ],
   "source": [
    "df_brandenburg = pd.read_csv('../Data/brandenburg_cleaned.csv')\n",
    "df_brandenburg.head()"
   ]
  },
  {
   "cell_type": "markdown",
   "id": "4aad932d",
   "metadata": {},
   "source": [
    "the factors that most positively influence the rent amount (correlation> = 0.3) are: living space, no_rooms,noParkSpaces are clearly correlated"
   ]
  },
  {
   "cell_type": "code",
   "execution_count": 3,
   "id": "2260946e",
   "metadata": {},
   "outputs": [],
   "source": [
    "brb_df=df_brandenburg[['city','total_rent', 'living_space','no_rooms','noParkSpaces']].copy()"
   ]
  },
  {
   "cell_type": "markdown",
   "id": "45f5feff",
   "metadata": {},
   "source": [
    "## Processing Data"
   ]
  },
  {
   "cell_type": "code",
   "execution_count": 4,
   "id": "89bd8b07",
   "metadata": {},
   "outputs": [
    {
     "data": {
      "text/html": [
       "<div>\n",
       "<style scoped>\n",
       "    .dataframe tbody tr th:only-of-type {\n",
       "        vertical-align: middle;\n",
       "    }\n",
       "\n",
       "    .dataframe tbody tr th {\n",
       "        vertical-align: top;\n",
       "    }\n",
       "\n",
       "    .dataframe thead th {\n",
       "        text-align: right;\n",
       "    }\n",
       "</style>\n",
       "<table border=\"1\" class=\"dataframe\">\n",
       "  <thead>\n",
       "    <tr style=\"text-align: right;\">\n",
       "      <th></th>\n",
       "      <th>city</th>\n",
       "      <th>total_rent</th>\n",
       "      <th>living_space</th>\n",
       "      <th>no_rooms</th>\n",
       "      <th>noParkSpaces</th>\n",
       "    </tr>\n",
       "  </thead>\n",
       "  <tbody>\n",
       "    <tr>\n",
       "      <th>0</th>\n",
       "      <td>Oder_Spree_Kreis</td>\n",
       "      <td>335.00</td>\n",
       "      <td>36.29</td>\n",
       "      <td>1.0</td>\n",
       "      <td>0.0</td>\n",
       "    </tr>\n",
       "    <tr>\n",
       "      <th>1</th>\n",
       "      <td>Märkisch_Oderland_Kreis</td>\n",
       "      <td>365.00</td>\n",
       "      <td>60.71</td>\n",
       "      <td>2.0</td>\n",
       "      <td>0.0</td>\n",
       "    </tr>\n",
       "    <tr>\n",
       "      <th>2</th>\n",
       "      <td>Brandenburg_an_der_Havel</td>\n",
       "      <td>590.00</td>\n",
       "      <td>67.80</td>\n",
       "      <td>3.0</td>\n",
       "      <td>0.0</td>\n",
       "    </tr>\n",
       "    <tr>\n",
       "      <th>3</th>\n",
       "      <td>Dahme_Spreewald_Kreis</td>\n",
       "      <td>520.00</td>\n",
       "      <td>69.00</td>\n",
       "      <td>2.0</td>\n",
       "      <td>1.0</td>\n",
       "    </tr>\n",
       "    <tr>\n",
       "      <th>4</th>\n",
       "      <td>Uckermark_Kreis</td>\n",
       "      <td>378.71</td>\n",
       "      <td>57.38</td>\n",
       "      <td>3.0</td>\n",
       "      <td>0.0</td>\n",
       "    </tr>\n",
       "  </tbody>\n",
       "</table>\n",
       "</div>"
      ],
      "text/plain": [
       "                       city  total_rent  living_space  no_rooms  noParkSpaces\n",
       "0          Oder_Spree_Kreis      335.00         36.29       1.0           0.0\n",
       "1   Märkisch_Oderland_Kreis      365.00         60.71       2.0           0.0\n",
       "2  Brandenburg_an_der_Havel      590.00         67.80       3.0           0.0\n",
       "3     Dahme_Spreewald_Kreis      520.00         69.00       2.0           1.0\n",
       "4           Uckermark_Kreis      378.71         57.38       3.0           0.0"
      ]
     },
     "execution_count": 4,
     "metadata": {},
     "output_type": "execute_result"
    }
   ],
   "source": [
    "brb_df.head()"
   ]
  },
  {
   "cell_type": "code",
   "execution_count": 5,
   "id": "33ac6a66",
   "metadata": {},
   "outputs": [],
   "source": [
    "# X-y split\n",
    "X=brb_df.drop('total_rent', axis=1)\n",
    "y=brb_df.total_rent"
   ]
  },
  {
   "cell_type": "code",
   "execution_count": 6,
   "id": "f506486f",
   "metadata": {},
   "outputs": [],
   "source": [
    "#train-test split\n",
    "from sklearn.model_selection import train_test_split as tts\n",
    "\n",
    "X_train, X_test, y_train, y_test=tts(X, y, test_size=.2)"
   ]
  },
  {
   "cell_type": "code",
   "execution_count": 7,
   "id": "b0841e6a",
   "metadata": {},
   "outputs": [],
   "source": [
    "# first numerical and categorical split\n",
    "\n",
    "X_train_num=X_train._get_numeric_data()\n",
    "X_train_cat=X_train.select_dtypes('object')\n",
    "X_test_num=X_test._get_numeric_data()\n",
    "X_test_cat=X_test.select_dtypes('object')\n"
   ]
  },
  {
   "cell_type": "code",
   "execution_count": 8,
   "id": "e7bff3e6",
   "metadata": {},
   "outputs": [],
   "source": [
    "#Scaling numerical datafrom sklearn.preprocessing import StandardScaler\n",
    "from sklearn.preprocessing import StandardScaler\n",
    "scaler=StandardScaler()\n",
    "scaler.fit(X_train_num)\n",
    "\n",
    "X_train_scaled_np = scaler.transform(X_train_num)\n",
    "X_test_scaled_np  = scaler.transform(X_test_num)\n",
    "\n",
    "X_train_num_scaled_df = pd.DataFrame(X_train_scaled_np, columns=X_train_num.columns)\n",
    "X_test_num_scaled_df  = pd.DataFrame(X_test_scaled_np, columns=X_test_num.columns)"
   ]
  },
  {
   "cell_type": "code",
   "execution_count": 9,
   "id": "09d15ae0",
   "metadata": {},
   "outputs": [],
   "source": [
    "# Transforming categorical data\n",
    "from sklearn.preprocessing import OneHotEncoder\n",
    "\n",
    "encoder = OneHotEncoder(drop='first').fit(X_train_cat)\n",
    "\n",
    "X_train_cat = encoder.transform(X_train_cat).toarray()\n",
    "X_test_cat = encoder.transform(X_test_cat).toarray()\n",
    "\n",
    "X_train_cat = pd.DataFrame(X_train_cat, columns = encoder.get_feature_names_out())\n",
    "X_test_cat = pd.DataFrame(X_test_cat, columns = encoder.get_feature_names_out())"
   ]
  },
  {
   "cell_type": "code",
   "execution_count": 10,
   "id": "02b39917",
   "metadata": {},
   "outputs": [],
   "source": [
    "# joining numerical-categorical\n",
    "X_train_f=pd.concat([X_train_num_scaled_df, X_train_cat], axis=1)\n",
    "X_test_f=pd.concat([X_test_num_scaled_df, X_test_cat], axis=1)"
   ]
  },
  {
   "cell_type": "markdown",
   "id": "a59f6700",
   "metadata": {},
   "source": [
    "##### Store scalers"
   ]
  },
  {
   "cell_type": "code",
   "execution_count": 13,
   "id": "fa5e4f49",
   "metadata": {},
   "outputs": [],
   "source": [
    "#with open(\"../Scalers/standard_scaler.pkl\", \"wb\") as file:\n",
    "#    pickle.dump(scaler, file, pickle.HIGHEST_PROTOCOL)"
   ]
  },
  {
   "cell_type": "markdown",
   "id": "c1018ebf",
   "metadata": {},
   "source": [
    "#### Store Transformer"
   ]
  },
  {
   "cell_type": "code",
   "execution_count": 15,
   "id": "1a5806a6",
   "metadata": {},
   "outputs": [],
   "source": [
    "#with open(\"../Transformers/one_hot_encoder.pkl\", \"wb\") as file:\n",
    "#    pickle.dump(encoder, file, pickle.HIGHEST_PROTOCOL)"
   ]
  },
  {
   "cell_type": "markdown",
   "id": "feda069c",
   "metadata": {},
   "source": [
    "### Linear Regression"
   ]
  },
  {
   "cell_type": "code",
   "execution_count": 14,
   "id": "1aa5ee55",
   "metadata": {},
   "outputs": [],
   "source": [
    "#Apply linear regression\n",
    "from sklearn.linear_model import LinearRegression as LinReg\n",
    "\n",
    "linreg=LinReg()    # model\n",
    "linreg.fit(X_train_f, y_train)   # model train\n",
    "y_test_pred_linreg=linreg.predict(X_test_f)   # model prediction\n",
    "y_train_pred_linreg=linreg.predict(X_train_f)   # model prediction"
   ]
  },
  {
   "cell_type": "code",
   "execution_count": 15,
   "id": "47231b2d",
   "metadata": {},
   "outputs": [],
   "source": [
    "#stoing linear\n",
    "#with open(\"../Models/Linear.pkl\", \"wb\") as file:\n",
    " #   pickle.dump(linreg, file, pickle.HIGHEST_PROTOCOL)"
   ]
  },
  {
   "cell_type": "markdown",
   "id": "d7aa9f61",
   "metadata": {},
   "source": [
    "### K-NN"
   ]
  },
  {
   "cell_type": "code",
   "execution_count": 16,
   "id": "18289a5e",
   "metadata": {
    "scrolled": false
   },
   "outputs": [],
   "source": [
    "# help(KNeighborsRegressor)"
   ]
  },
  {
   "cell_type": "code",
   "execution_count": 17,
   "id": "3acdb039",
   "metadata": {},
   "outputs": [
    {
     "data": {
      "text/html": [
       "<style>#sk-container-id-1 {color: black;background-color: white;}#sk-container-id-1 pre{padding: 0;}#sk-container-id-1 div.sk-toggleable {background-color: white;}#sk-container-id-1 label.sk-toggleable__label {cursor: pointer;display: block;width: 100%;margin-bottom: 0;padding: 0.3em;box-sizing: border-box;text-align: center;}#sk-container-id-1 label.sk-toggleable__label-arrow:before {content: \"▸\";float: left;margin-right: 0.25em;color: #696969;}#sk-container-id-1 label.sk-toggleable__label-arrow:hover:before {color: black;}#sk-container-id-1 div.sk-estimator:hover label.sk-toggleable__label-arrow:before {color: black;}#sk-container-id-1 div.sk-toggleable__content {max-height: 0;max-width: 0;overflow: hidden;text-align: left;background-color: #f0f8ff;}#sk-container-id-1 div.sk-toggleable__content pre {margin: 0.2em;color: black;border-radius: 0.25em;background-color: #f0f8ff;}#sk-container-id-1 input.sk-toggleable__control:checked~div.sk-toggleable__content {max-height: 200px;max-width: 100%;overflow: auto;}#sk-container-id-1 input.sk-toggleable__control:checked~label.sk-toggleable__label-arrow:before {content: \"▾\";}#sk-container-id-1 div.sk-estimator input.sk-toggleable__control:checked~label.sk-toggleable__label {background-color: #d4ebff;}#sk-container-id-1 div.sk-label input.sk-toggleable__control:checked~label.sk-toggleable__label {background-color: #d4ebff;}#sk-container-id-1 input.sk-hidden--visually {border: 0;clip: rect(1px 1px 1px 1px);clip: rect(1px, 1px, 1px, 1px);height: 1px;margin: -1px;overflow: hidden;padding: 0;position: absolute;width: 1px;}#sk-container-id-1 div.sk-estimator {font-family: monospace;background-color: #f0f8ff;border: 1px dotted black;border-radius: 0.25em;box-sizing: border-box;margin-bottom: 0.5em;}#sk-container-id-1 div.sk-estimator:hover {background-color: #d4ebff;}#sk-container-id-1 div.sk-parallel-item::after {content: \"\";width: 100%;border-bottom: 1px solid gray;flex-grow: 1;}#sk-container-id-1 div.sk-label:hover label.sk-toggleable__label {background-color: #d4ebff;}#sk-container-id-1 div.sk-serial::before {content: \"\";position: absolute;border-left: 1px solid gray;box-sizing: border-box;top: 0;bottom: 0;left: 50%;z-index: 0;}#sk-container-id-1 div.sk-serial {display: flex;flex-direction: column;align-items: center;background-color: white;padding-right: 0.2em;padding-left: 0.2em;position: relative;}#sk-container-id-1 div.sk-item {position: relative;z-index: 1;}#sk-container-id-1 div.sk-parallel {display: flex;align-items: stretch;justify-content: center;background-color: white;position: relative;}#sk-container-id-1 div.sk-item::before, #sk-container-id-1 div.sk-parallel-item::before {content: \"\";position: absolute;border-left: 1px solid gray;box-sizing: border-box;top: 0;bottom: 0;left: 50%;z-index: -1;}#sk-container-id-1 div.sk-parallel-item {display: flex;flex-direction: column;z-index: 1;position: relative;background-color: white;}#sk-container-id-1 div.sk-parallel-item:first-child::after {align-self: flex-end;width: 50%;}#sk-container-id-1 div.sk-parallel-item:last-child::after {align-self: flex-start;width: 50%;}#sk-container-id-1 div.sk-parallel-item:only-child::after {width: 0;}#sk-container-id-1 div.sk-dashed-wrapped {border: 1px dashed gray;margin: 0 0.4em 0.5em 0.4em;box-sizing: border-box;padding-bottom: 0.4em;background-color: white;}#sk-container-id-1 div.sk-label label {font-family: monospace;font-weight: bold;display: inline-block;line-height: 1.2em;}#sk-container-id-1 div.sk-label-container {text-align: center;}#sk-container-id-1 div.sk-container {/* jupyter's `normalize.less` sets `[hidden] { display: none; }` but bootstrap.min.css set `[hidden] { display: none !important; }` so we also need the `!important` here to be able to override the default hidden behavior on the sphinx rendered scikit-learn.org. See: https://github.com/scikit-learn/scikit-learn/issues/21755 */display: inline-block !important;position: relative;}#sk-container-id-1 div.sk-text-repr-fallback {display: none;}</style><div id=\"sk-container-id-1\" class=\"sk-top-container\"><div class=\"sk-text-repr-fallback\"><pre>KNeighborsRegressor(n_neighbors=15, weights=&#x27;distance&#x27;)</pre><b>In a Jupyter environment, please rerun this cell to show the HTML representation or trust the notebook. <br />On GitHub, the HTML representation is unable to render, please try loading this page with nbviewer.org.</b></div><div class=\"sk-container\" hidden><div class=\"sk-item\"><div class=\"sk-estimator sk-toggleable\"><input class=\"sk-toggleable__control sk-hidden--visually\" id=\"sk-estimator-id-1\" type=\"checkbox\" checked><label for=\"sk-estimator-id-1\" class=\"sk-toggleable__label sk-toggleable__label-arrow\">KNeighborsRegressor</label><div class=\"sk-toggleable__content\"><pre>KNeighborsRegressor(n_neighbors=15, weights=&#x27;distance&#x27;)</pre></div></div></div></div></div>"
      ],
      "text/plain": [
       "KNeighborsRegressor(n_neighbors=15, weights='distance')"
      ]
     },
     "execution_count": 17,
     "metadata": {},
     "output_type": "execute_result"
    }
   ],
   "source": [
    "from sklearn.neighbors import KNeighborsRegressor\n",
    "regressor = KNeighborsRegressor(n_neighbors=15,weights='distance')\n",
    "regressor.fit(X_train_f, y_train)"
   ]
  },
  {
   "cell_type": "code",
   "execution_count": 18,
   "id": "1183bffd",
   "metadata": {},
   "outputs": [],
   "source": [
    "y_test_pred_knn = regressor.predict(X_test_f) # model prediction\n",
    "y_train_pred_knn = regressor.predict(X_train_f) # model prediction"
   ]
  },
  {
   "cell_type": "code",
   "execution_count": 19,
   "id": "1722172d",
   "metadata": {},
   "outputs": [],
   "source": [
    "#stoing linear\n",
    "#with open(\"../Models/knn.pkl\", \"wb\") as file:\n",
    "#    pickle.dump(regressor, file, pickle.HIGHEST_PROTOCOL)"
   ]
  },
  {
   "cell_type": "markdown",
   "id": "65ed173e",
   "metadata": {},
   "source": [
    "## Model Validation - Comparing Linear and KNN"
   ]
  },
  {
   "cell_type": "code",
   "execution_count": 23,
   "id": "3aceab6f",
   "metadata": {},
   "outputs": [
    {
     "name": "stdout",
     "output_type": "stream",
     "text": [
      "Linear: train R2: 0.702711868203153 -- test R2: 0.6711008808731851\n",
      "KNN: train R2: 0.9826771109528131 -- test R2: 0.6718832275006406\n"
     ]
    }
   ],
   "source": [
    "print ('Linear: train R2: {} -- test R2: {}'.format(linreg.score(X_train_f, y_train),\n",
    "                                            linreg.score(X_test_f, y_test)))\n",
    "print ('KNN: train R2: {} -- test R2: {}'.format(regressor.score(X_train_f, y_train),\n",
    "                                            regressor.score(X_test_f, y_test)))"
   ]
  },
  {
   "cell_type": "code",
   "execution_count": 24,
   "id": "e7819a21",
   "metadata": {},
   "outputs": [
    {
     "name": "stdout",
     "output_type": "stream",
     "text": [
      "Liniar : train MSE: 12401.779957626051 -- test MSE: 14106.69878442619\n",
      "Liniar:train RMSE: 111.3632792154849 -- test RMSE: 118.77162449182123\n",
      "KNN : train MSE: 722.6479472796158 -- test MSE: 14073.143424813718\n",
      "KNN: train RMSE: 26.882112031602276 -- test RMSE: 118.63028038748672\n"
     ]
    }
   ],
   "source": [
    "from sklearn.metrics import mean_squared_error as mse\n",
    "\n",
    "train_mse=mse(linreg.predict(X_train_f), y_train)\n",
    "test_mse=mse(linreg.predict(X_test_f), y_test)\n",
    "\n",
    "print ('Liniar : train MSE: {} -- test MSE: {}'.format(train_mse, test_mse))\n",
    "print ('Liniar:train RMSE: {} -- test RMSE: {}'.format(train_mse**.5, test_mse**.5))\n",
    "\n",
    "train_mse=mse(regressor.predict(X_train_f), y_train)\n",
    "test_mse=mse(regressor.predict(X_test_f), y_test)\n",
    "\n",
    "print ('KNN : train MSE: {} -- test MSE: {}'.format(train_mse, test_mse))\n",
    "print ('KNN: train RMSE: {} -- test RMSE: {}'.format(train_mse**.5, test_mse**.5))"
   ]
  },
  {
   "cell_type": "code",
   "execution_count": 25,
   "id": "a7a05d8b",
   "metadata": {
    "scrolled": true
   },
   "outputs": [
    {
     "name": "stdout",
     "output_type": "stream",
     "text": [
      "Linear: train MAE: 81.57288338180335 -- test MAE: 86.01133954172518\n",
      "KNN: train MAE: 8.512774966975657 -- test MAE: 80.77195489568828\n"
     ]
    }
   ],
   "source": [
    "from sklearn.metrics import mean_absolute_error as mae\n",
    "\n",
    "train_mae=mae(linreg.predict(X_train_f), y_train)\n",
    "test_mae=mae(linreg.predict(X_test_f), y_test)\n",
    "\n",
    "print ('Linear: train MAE: {} -- test MAE: {}'.format(train_mae, test_mae))\n",
    "\n",
    "train_mae=mae(regressor.predict(X_train_f), y_train)\n",
    "test_mae=mae(regressor.predict(X_test_f), y_test)\n",
    "\n",
    "print ('KNN: train MAE: {} -- test MAE: {}'.format(train_mae, test_mae))"
   ]
  },
  {
   "cell_type": "markdown",
   "id": "4a5341ca",
   "metadata": {},
   "source": [
    "### Comparing KNN and Linear regression models in order to predict rent prices in Brandenburg."
   ]
  },
  {
   "cell_type": "markdown",
   "id": "7f3e9cf7",
   "metadata": {},
   "source": [
    "When we look at R2 score both model has almost same preformance on the test set. However Linier has a bit high 'mae' performance."
   ]
  }
 ],
 "metadata": {
  "kernelspec": {
   "display_name": "Mid-Bootcamp-Project",
   "language": "python",
   "name": "mid-bootcamp-project"
  },
  "language_info": {
   "codemirror_mode": {
    "name": "ipython",
    "version": 3
   },
   "file_extension": ".py",
   "mimetype": "text/x-python",
   "name": "python",
   "nbconvert_exporter": "python",
   "pygments_lexer": "ipython3",
   "version": "3.9.16"
  }
 },
 "nbformat": 4,
 "nbformat_minor": 5
}
