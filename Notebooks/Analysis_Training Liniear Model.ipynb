{
 "cells": [
  {
   "cell_type": "code",
   "execution_count": 1,
   "id": "0a8c0504",
   "metadata": {},
   "outputs": [],
   "source": [
    "import pandas as pd"
   ]
  },
  {
   "cell_type": "code",
   "execution_count": 15,
   "id": "5b1317a0",
   "metadata": {
    "scrolled": true
   },
   "outputs": [
    {
     "data": {
      "text/html": [
       "<div>\n",
       "<style scoped>\n",
       "    .dataframe tbody tr th:only-of-type {\n",
       "        vertical-align: middle;\n",
       "    }\n",
       "\n",
       "    .dataframe tbody tr th {\n",
       "        vertical-align: top;\n",
       "    }\n",
       "\n",
       "    .dataframe thead th {\n",
       "        text-align: right;\n",
       "    }\n",
       "</style>\n",
       "<table border=\"1\" class=\"dataframe\">\n",
       "  <thead>\n",
       "    <tr style=\"text-align: right;\">\n",
       "      <th></th>\n",
       "      <th>Unnamed: 0</th>\n",
       "      <th>land</th>\n",
       "      <th>city</th>\n",
       "      <th>balcony</th>\n",
       "      <th>living_space</th>\n",
       "      <th>total_rent</th>\n",
       "      <th>service_charge</th>\n",
       "      <th>base_rent</th>\n",
       "      <th>lift</th>\n",
       "      <th>pets_allowed</th>\n",
       "      <th>floor</th>\n",
       "      <th>no_rooms</th>\n",
       "      <th>garden</th>\n",
       "      <th>cellar</th>\n",
       "      <th>noParkSpaces</th>\n",
       "    </tr>\n",
       "  </thead>\n",
       "  <tbody>\n",
       "    <tr>\n",
       "      <th>0</th>\n",
       "      <td>0</td>\n",
       "      <td>Brandenburg</td>\n",
       "      <td>Oder_Spree_Kreis</td>\n",
       "      <td>True</td>\n",
       "      <td>36.29</td>\n",
       "      <td>335.00</td>\n",
       "      <td>50.00</td>\n",
       "      <td>285.00</td>\n",
       "      <td>True</td>\n",
       "      <td>negotiable</td>\n",
       "      <td>1.0</td>\n",
       "      <td>1.0</td>\n",
       "      <td>False</td>\n",
       "      <td>True</td>\n",
       "      <td>0.0</td>\n",
       "    </tr>\n",
       "    <tr>\n",
       "      <th>1</th>\n",
       "      <td>1</td>\n",
       "      <td>Brandenburg</td>\n",
       "      <td>Märkisch_Oderland_Kreis</td>\n",
       "      <td>True</td>\n",
       "      <td>60.71</td>\n",
       "      <td>365.00</td>\n",
       "      <td>65.00</td>\n",
       "      <td>300.00</td>\n",
       "      <td>False</td>\n",
       "      <td>no</td>\n",
       "      <td>0.0</td>\n",
       "      <td>2.0</td>\n",
       "      <td>False</td>\n",
       "      <td>True</td>\n",
       "      <td>0.0</td>\n",
       "    </tr>\n",
       "    <tr>\n",
       "      <th>2</th>\n",
       "      <td>2</td>\n",
       "      <td>Brandenburg</td>\n",
       "      <td>Brandenburg_an_der_Havel</td>\n",
       "      <td>True</td>\n",
       "      <td>67.80</td>\n",
       "      <td>590.00</td>\n",
       "      <td>170.00</td>\n",
       "      <td>420.00</td>\n",
       "      <td>True</td>\n",
       "      <td>yes</td>\n",
       "      <td>0.0</td>\n",
       "      <td>3.0</td>\n",
       "      <td>False</td>\n",
       "      <td>True</td>\n",
       "      <td>0.0</td>\n",
       "    </tr>\n",
       "    <tr>\n",
       "      <th>3</th>\n",
       "      <td>4</td>\n",
       "      <td>Brandenburg</td>\n",
       "      <td>Dahme_Spreewald_Kreis</td>\n",
       "      <td>True</td>\n",
       "      <td>69.00</td>\n",
       "      <td>520.00</td>\n",
       "      <td>150.00</td>\n",
       "      <td>370.00</td>\n",
       "      <td>False</td>\n",
       "      <td>negotiable</td>\n",
       "      <td>2.0</td>\n",
       "      <td>2.0</td>\n",
       "      <td>True</td>\n",
       "      <td>True</td>\n",
       "      <td>1.0</td>\n",
       "    </tr>\n",
       "    <tr>\n",
       "      <th>4</th>\n",
       "      <td>5</td>\n",
       "      <td>Brandenburg</td>\n",
       "      <td>Uckermark_Kreis</td>\n",
       "      <td>True</td>\n",
       "      <td>57.38</td>\n",
       "      <td>378.71</td>\n",
       "      <td>71.73</td>\n",
       "      <td>306.98</td>\n",
       "      <td>False</td>\n",
       "      <td>negotiable</td>\n",
       "      <td>4.0</td>\n",
       "      <td>3.0</td>\n",
       "      <td>False</td>\n",
       "      <td>True</td>\n",
       "      <td>0.0</td>\n",
       "    </tr>\n",
       "  </tbody>\n",
       "</table>\n",
       "</div>"
      ],
      "text/plain": [
       "   Unnamed: 0         land                      city  balcony  living_space  \\\n",
       "0           0  Brandenburg          Oder_Spree_Kreis     True         36.29   \n",
       "1           1  Brandenburg   Märkisch_Oderland_Kreis     True         60.71   \n",
       "2           2  Brandenburg  Brandenburg_an_der_Havel     True         67.80   \n",
       "3           4  Brandenburg     Dahme_Spreewald_Kreis     True         69.00   \n",
       "4           5  Brandenburg           Uckermark_Kreis     True         57.38   \n",
       "\n",
       "   total_rent  service_charge  base_rent   lift pets_allowed  floor  no_rooms  \\\n",
       "0      335.00           50.00     285.00   True   negotiable    1.0       1.0   \n",
       "1      365.00           65.00     300.00  False           no    0.0       2.0   \n",
       "2      590.00          170.00     420.00   True          yes    0.0       3.0   \n",
       "3      520.00          150.00     370.00  False   negotiable    2.0       2.0   \n",
       "4      378.71           71.73     306.98  False   negotiable    4.0       3.0   \n",
       "\n",
       "   garden  cellar  noParkSpaces  \n",
       "0   False    True           0.0  \n",
       "1   False    True           0.0  \n",
       "2   False    True           0.0  \n",
       "3    True    True           1.0  \n",
       "4   False    True           0.0  "
      ]
     },
     "execution_count": 15,
     "metadata": {},
     "output_type": "execute_result"
    }
   ],
   "source": [
    "df_brandenburg = pd.read_csv('../Data/brandenburg_cleaned.csv')\n",
    "df_brandenburg.head()"
   ]
  },
  {
   "cell_type": "markdown",
   "id": "4aad932d",
   "metadata": {},
   "source": [
    "the factors that most positively influence the rent amount (correlation> = 0.3) are: living space, no_rooms,noParkSpaces are clearly correlated"
   ]
  },
  {
   "cell_type": "code",
   "execution_count": 16,
   "id": "2260946e",
   "metadata": {},
   "outputs": [],
   "source": [
    "brb_df=df_brandenburg[['total_rent', 'living_space','no_rooms','noParkSpaces']].copy()"
   ]
  },
  {
   "cell_type": "markdown",
   "id": "45f5feff",
   "metadata": {},
   "source": [
    "## Processing Data"
   ]
  },
  {
   "cell_type": "code",
   "execution_count": 17,
   "id": "89bd8b07",
   "metadata": {},
   "outputs": [
    {
     "data": {
      "text/html": [
       "<div>\n",
       "<style scoped>\n",
       "    .dataframe tbody tr th:only-of-type {\n",
       "        vertical-align: middle;\n",
       "    }\n",
       "\n",
       "    .dataframe tbody tr th {\n",
       "        vertical-align: top;\n",
       "    }\n",
       "\n",
       "    .dataframe thead th {\n",
       "        text-align: right;\n",
       "    }\n",
       "</style>\n",
       "<table border=\"1\" class=\"dataframe\">\n",
       "  <thead>\n",
       "    <tr style=\"text-align: right;\">\n",
       "      <th></th>\n",
       "      <th>total_rent</th>\n",
       "      <th>living_space</th>\n",
       "      <th>no_rooms</th>\n",
       "      <th>noParkSpaces</th>\n",
       "    </tr>\n",
       "  </thead>\n",
       "  <tbody>\n",
       "    <tr>\n",
       "      <th>0</th>\n",
       "      <td>335.00</td>\n",
       "      <td>36.29</td>\n",
       "      <td>1.0</td>\n",
       "      <td>0.0</td>\n",
       "    </tr>\n",
       "    <tr>\n",
       "      <th>1</th>\n",
       "      <td>365.00</td>\n",
       "      <td>60.71</td>\n",
       "      <td>2.0</td>\n",
       "      <td>0.0</td>\n",
       "    </tr>\n",
       "    <tr>\n",
       "      <th>2</th>\n",
       "      <td>590.00</td>\n",
       "      <td>67.80</td>\n",
       "      <td>3.0</td>\n",
       "      <td>0.0</td>\n",
       "    </tr>\n",
       "    <tr>\n",
       "      <th>3</th>\n",
       "      <td>520.00</td>\n",
       "      <td>69.00</td>\n",
       "      <td>2.0</td>\n",
       "      <td>1.0</td>\n",
       "    </tr>\n",
       "    <tr>\n",
       "      <th>4</th>\n",
       "      <td>378.71</td>\n",
       "      <td>57.38</td>\n",
       "      <td>3.0</td>\n",
       "      <td>0.0</td>\n",
       "    </tr>\n",
       "  </tbody>\n",
       "</table>\n",
       "</div>"
      ],
      "text/plain": [
       "   total_rent  living_space  no_rooms  noParkSpaces\n",
       "0      335.00         36.29       1.0           0.0\n",
       "1      365.00         60.71       2.0           0.0\n",
       "2      590.00         67.80       3.0           0.0\n",
       "3      520.00         69.00       2.0           1.0\n",
       "4      378.71         57.38       3.0           0.0"
      ]
     },
     "execution_count": 17,
     "metadata": {},
     "output_type": "execute_result"
    }
   ],
   "source": [
    "brb_df.head()"
   ]
  },
  {
   "cell_type": "code",
   "execution_count": 18,
   "id": "33ac6a66",
   "metadata": {},
   "outputs": [],
   "source": [
    "# X-y split\n",
    "X=brb_df.drop('total_rent', axis=1)\n",
    "y=brb_df.total_rent"
   ]
  },
  {
   "cell_type": "code",
   "execution_count": 19,
   "id": "f506486f",
   "metadata": {},
   "outputs": [],
   "source": [
    "#train-test split\n",
    "from sklearn.model_selection import train_test_split as tts\n",
    "\n",
    "X_train, X_test, y_train, y_test=tts(X, y, test_size=.2)"
   ]
  },
  {
   "cell_type": "code",
   "execution_count": 20,
   "id": "e7bff3e6",
   "metadata": {},
   "outputs": [],
   "source": [
    "from sklearn.preprocessing import StandardScaler\n",
    "\n",
    "scaler=StandardScaler()\n",
    "scaler.fit(X_train)\n",
    "\n",
    "X_train_scaled_np = scaler.transform(X_train)\n",
    "X_test_scaled_np  = scaler.transform(X_test)\n",
    "\n",
    "X_train_scaled_df = pd.DataFrame(X_train_scaled_np, columns=X.columns, index=X_train.index)\n",
    "X_test_scaled_df  = pd.DataFrame(X_test_scaled_np, columns=X.columns, index=X_test.index)"
   ]
  },
  {
   "cell_type": "markdown",
   "id": "feda069c",
   "metadata": {},
   "source": [
    "### Linear Regression"
   ]
  },
  {
   "cell_type": "code",
   "execution_count": 29,
   "id": "1aa5ee55",
   "metadata": {},
   "outputs": [],
   "source": [
    "#Apply linear regression\n",
    "from sklearn.linear_model import LinearRegression as LinReg\n",
    "\n",
    "linreg=LinReg()    # model\n",
    "linreg.fit(X_train_scaled_df, y_train)   # model train\n",
    "y_test_pred_linreg=linreg.predict(X_test_scaled_df)   # model prediction"
   ]
  },
  {
   "cell_type": "markdown",
   "id": "65ed173e",
   "metadata": {},
   "source": [
    "## Model Validation"
   ]
  },
  {
   "cell_type": "code",
   "execution_count": 11,
   "id": "3aceab6f",
   "metadata": {},
   "outputs": [
    {
     "name": "stdout",
     "output_type": "stream",
     "text": [
      "train R2: 0.5586239601825731 -- test R2: 0.5156369372536764\n"
     ]
    }
   ],
   "source": [
    "print ('train R2: {} -- test R2: {}'.format(linreg.score(X_train_scaled_df, y_train),\n",
    "                                            linreg.score(X_test_scaled_df, y_test)))"
   ]
  },
  {
   "cell_type": "code",
   "execution_count": 12,
   "id": "e7819a21",
   "metadata": {},
   "outputs": [
    {
     "name": "stdout",
     "output_type": "stream",
     "text": [
      "train MSE: 18384.681444125716 -- test MSE: 20954.654316580203\n"
     ]
    }
   ],
   "source": [
    "from sklearn.metrics import mean_squared_error as mse\n",
    "\n",
    "train_mse=mse(linreg.predict(X_train_scaled_df), y_train)\n",
    "test_mse=mse(linreg.predict(X_test_scaled_df), y_test)\n",
    "\n",
    "print ('train MSE: {} -- test MSE: {}'.format(train_mse, test_mse))"
   ]
  },
  {
   "cell_type": "code",
   "execution_count": 13,
   "id": "251bab3a",
   "metadata": {},
   "outputs": [
    {
     "name": "stdout",
     "output_type": "stream",
     "text": [
      "train RMSE: 135.5901229593281 -- test RMSE: 144.75722543824955\n"
     ]
    }
   ],
   "source": [
    "print ('train RMSE: {} -- test RMSE: {}'.format(train_mse**.5, test_mse**.5))"
   ]
  },
  {
   "cell_type": "code",
   "execution_count": 14,
   "id": "a7a05d8b",
   "metadata": {},
   "outputs": [
    {
     "name": "stdout",
     "output_type": "stream",
     "text": [
      "train MAE: 18384.681444125716 -- test MAE: 20954.654316580203\n"
     ]
    }
   ],
   "source": [
    "from sklearn.metrics import mean_absolute_error as mae\n",
    "\n",
    "train_mae=mae(linreg.predict(X_train_scaled_df), y_train)\n",
    "test_mae=mae(linreg.predict(X_test_scaled_df), y_test)\n",
    "\n",
    "print ('train MAE: {} -- test MAE: {}'.format(train_mse, test_mse))"
   ]
  },
  {
   "cell_type": "code",
   "execution_count": null,
   "id": "8c5953c6",
   "metadata": {},
   "outputs": [],
   "source": []
  }
 ],
 "metadata": {
  "kernelspec": {
   "display_name": "Mid-Bootcamp-Project",
   "language": "python",
   "name": "mid-bootcamp-project"
  },
  "language_info": {
   "codemirror_mode": {
    "name": "ipython",
    "version": 3
   },
   "file_extension": ".py",
   "mimetype": "text/x-python",
   "name": "python",
   "nbconvert_exporter": "python",
   "pygments_lexer": "ipython3",
   "version": "3.9.16"
  }
 },
 "nbformat": 4,
 "nbformat_minor": 5
}
