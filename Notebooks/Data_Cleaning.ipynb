{
 "cells": [
  {
   "cell_type": "markdown",
   "id": "e1773c6f",
   "metadata": {},
   "source": [
    "# Research Questions"
   ]
  },
  {
   "cell_type": "markdown",
   "id": "ad26644e",
   "metadata": {},
   "source": [
    "## 1. How is rent price distribution in Land Brandenburg (Germany)?"
   ]
  },
  {
   "cell_type": "markdown",
   "id": "27d10c9d",
   "metadata": {},
   "source": [
    "## 2. Which city has the most expensive rent in Land Brandenburg (Germany)?\n",
    "    or which city is the the cheapest?"
   ]
  },
  {
   "cell_type": "markdown",
   "id": "bff52f18",
   "metadata": {},
   "source": [
    "## 3. What are the factors (such as rooms, balcony, parking space) which can influence on rent price in the most expensive city of Brandenburg? Look at closely"
   ]
  },
  {
   "cell_type": "markdown",
   "id": "5b5aebc1",
   "metadata": {},
   "source": [
    "### Steps I should follow:\n",
    "\n",
    "##### Find the dataset\n",
    "##### Define questions\n",
    "##### Loading data\n",
    "##### understanding data\n",
    "##### Restricting data for special region or city\n",
    "##### cleaning data (numerical, categorical)\n",
    "\n",
    "\n",
    "\n",
    "##### Looking at rent prices whole Brandenburg (define most expensive and cheapest city)\n",
    "##### Analysis of factors (rooms, parking spaces etc.) which may impact rent price\n",
    "##### Visualisation of result (Plotting or Tableua)\n",
    "\n"
   ]
  },
  {
   "cell_type": "code",
   "execution_count": 1,
   "id": "14305db7",
   "metadata": {},
   "outputs": [],
   "source": [
    "import pandas as pd"
   ]
  },
  {
   "cell_type": "code",
   "execution_count": 2,
   "id": "13cb7642",
   "metadata": {},
   "outputs": [
    {
     "name": "stdout",
     "output_type": "stream",
     "text": [
      " Volume in Laufwerk C: hat keine Bezeichnung.\n",
      " Volumeseriennummer: A60A-8416\n",
      "\n",
      " Verzeichnis von C:\\Users\\asgar\\Ironhack\\Week_5\\Mid_bootcamp_project\\Notebooks\n",
      "\n",
      "06/02/2023  18:45    <DIR>          .\n",
      "06/02/2023  09:19    <DIR>          ..\n",
      "06/02/2023  11:43    <DIR>          .ipynb_checkpoints\n",
      "06/02/2023  18:45            21,080 dataset_questions.ipynb\n",
      "               1 Datei(en),         21,080 Bytes\n",
      "               3 Verzeichnis(se), 425,518,850,048 Bytes frei\n"
     ]
    }
   ],
   "source": [
    "!dir"
   ]
  },
  {
   "cell_type": "code",
   "execution_count": 3,
   "id": "1235a575",
   "metadata": {},
   "outputs": [
    {
     "data": {
      "text/html": [
       "<div>\n",
       "<style scoped>\n",
       "    .dataframe tbody tr th:only-of-type {\n",
       "        vertical-align: middle;\n",
       "    }\n",
       "\n",
       "    .dataframe tbody tr th {\n",
       "        vertical-align: top;\n",
       "    }\n",
       "\n",
       "    .dataframe thead th {\n",
       "        text-align: right;\n",
       "    }\n",
       "</style>\n",
       "<table border=\"1\" class=\"dataframe\">\n",
       "  <thead>\n",
       "    <tr style=\"text-align: right;\">\n",
       "      <th></th>\n",
       "      <th>regio1</th>\n",
       "      <th>serviceCharge</th>\n",
       "      <th>heatingType</th>\n",
       "      <th>telekomTvOffer</th>\n",
       "      <th>telekomHybridUploadSpeed</th>\n",
       "      <th>newlyConst</th>\n",
       "      <th>balcony</th>\n",
       "      <th>picturecount</th>\n",
       "      <th>pricetrend</th>\n",
       "      <th>telekomUploadSpeed</th>\n",
       "      <th>...</th>\n",
       "      <th>regio2</th>\n",
       "      <th>regio3</th>\n",
       "      <th>description</th>\n",
       "      <th>facilities</th>\n",
       "      <th>heatingCosts</th>\n",
       "      <th>energyEfficiencyClass</th>\n",
       "      <th>lastRefurbish</th>\n",
       "      <th>electricityBasePrice</th>\n",
       "      <th>electricityKwhPrice</th>\n",
       "      <th>date</th>\n",
       "    </tr>\n",
       "  </thead>\n",
       "  <tbody>\n",
       "    <tr>\n",
       "      <th>0</th>\n",
       "      <td>Nordrhein_Westfalen</td>\n",
       "      <td>245.00</td>\n",
       "      <td>central_heating</td>\n",
       "      <td>ONE_YEAR_FREE</td>\n",
       "      <td>NaN</td>\n",
       "      <td>False</td>\n",
       "      <td>False</td>\n",
       "      <td>6</td>\n",
       "      <td>4.62</td>\n",
       "      <td>10.0</td>\n",
       "      <td>...</td>\n",
       "      <td>Dortmund</td>\n",
       "      <td>Schüren</td>\n",
       "      <td>Die ebenerdig zu erreichende Erdgeschosswohnun...</td>\n",
       "      <td>Die Wohnung ist mit Laminat ausgelegt. Das Bad...</td>\n",
       "      <td>NaN</td>\n",
       "      <td>NaN</td>\n",
       "      <td>NaN</td>\n",
       "      <td>NaN</td>\n",
       "      <td>NaN</td>\n",
       "      <td>May19</td>\n",
       "    </tr>\n",
       "    <tr>\n",
       "      <th>1</th>\n",
       "      <td>Rheinland_Pfalz</td>\n",
       "      <td>134.00</td>\n",
       "      <td>self_contained_central_heating</td>\n",
       "      <td>ONE_YEAR_FREE</td>\n",
       "      <td>NaN</td>\n",
       "      <td>False</td>\n",
       "      <td>True</td>\n",
       "      <td>8</td>\n",
       "      <td>3.47</td>\n",
       "      <td>10.0</td>\n",
       "      <td>...</td>\n",
       "      <td>Rhein_Pfalz_Kreis</td>\n",
       "      <td>Böhl_Iggelheim</td>\n",
       "      <td>Alles neu macht der Mai – so kann es auch für ...</td>\n",
       "      <td>NaN</td>\n",
       "      <td>NaN</td>\n",
       "      <td>NaN</td>\n",
       "      <td>2019.0</td>\n",
       "      <td>NaN</td>\n",
       "      <td>NaN</td>\n",
       "      <td>May19</td>\n",
       "    </tr>\n",
       "    <tr>\n",
       "      <th>2</th>\n",
       "      <td>Sachsen</td>\n",
       "      <td>255.00</td>\n",
       "      <td>floor_heating</td>\n",
       "      <td>ONE_YEAR_FREE</td>\n",
       "      <td>10.0</td>\n",
       "      <td>True</td>\n",
       "      <td>True</td>\n",
       "      <td>8</td>\n",
       "      <td>2.72</td>\n",
       "      <td>2.4</td>\n",
       "      <td>...</td>\n",
       "      <td>Dresden</td>\n",
       "      <td>Äußere_Neustadt_Antonstadt</td>\n",
       "      <td>Der Neubau entsteht im Herzen der Dresdner Neu...</td>\n",
       "      <td>* 9 m² Balkon\\n* Bad mit bodengleicher Dusche,...</td>\n",
       "      <td>NaN</td>\n",
       "      <td>NaN</td>\n",
       "      <td>NaN</td>\n",
       "      <td>NaN</td>\n",
       "      <td>NaN</td>\n",
       "      <td>Oct19</td>\n",
       "    </tr>\n",
       "    <tr>\n",
       "      <th>3</th>\n",
       "      <td>Sachsen</td>\n",
       "      <td>58.15</td>\n",
       "      <td>district_heating</td>\n",
       "      <td>ONE_YEAR_FREE</td>\n",
       "      <td>NaN</td>\n",
       "      <td>False</td>\n",
       "      <td>True</td>\n",
       "      <td>9</td>\n",
       "      <td>1.53</td>\n",
       "      <td>40.0</td>\n",
       "      <td>...</td>\n",
       "      <td>Mittelsachsen_Kreis</td>\n",
       "      <td>Freiberg</td>\n",
       "      <td>Abseits von Lärm und Abgasen in Ihre neue Wohn...</td>\n",
       "      <td>NaN</td>\n",
       "      <td>87.23</td>\n",
       "      <td>NaN</td>\n",
       "      <td>NaN</td>\n",
       "      <td>NaN</td>\n",
       "      <td>NaN</td>\n",
       "      <td>May19</td>\n",
       "    </tr>\n",
       "    <tr>\n",
       "      <th>4</th>\n",
       "      <td>Bremen</td>\n",
       "      <td>138.00</td>\n",
       "      <td>self_contained_central_heating</td>\n",
       "      <td>NaN</td>\n",
       "      <td>NaN</td>\n",
       "      <td>False</td>\n",
       "      <td>True</td>\n",
       "      <td>19</td>\n",
       "      <td>2.46</td>\n",
       "      <td>NaN</td>\n",
       "      <td>...</td>\n",
       "      <td>Bremen</td>\n",
       "      <td>Neu_Schwachhausen</td>\n",
       "      <td>Es handelt sich hier um ein saniertes Mehrfami...</td>\n",
       "      <td>Diese Wohnung wurde neu saniert und ist wie fo...</td>\n",
       "      <td>NaN</td>\n",
       "      <td>NaN</td>\n",
       "      <td>NaN</td>\n",
       "      <td>NaN</td>\n",
       "      <td>NaN</td>\n",
       "      <td>Feb20</td>\n",
       "    </tr>\n",
       "  </tbody>\n",
       "</table>\n",
       "<p>5 rows × 49 columns</p>\n",
       "</div>"
      ],
      "text/plain": [
       "                regio1  serviceCharge                     heatingType  \\\n",
       "0  Nordrhein_Westfalen         245.00                 central_heating   \n",
       "1      Rheinland_Pfalz         134.00  self_contained_central_heating   \n",
       "2              Sachsen         255.00                   floor_heating   \n",
       "3              Sachsen          58.15                district_heating   \n",
       "4               Bremen         138.00  self_contained_central_heating   \n",
       "\n",
       "  telekomTvOffer  telekomHybridUploadSpeed  newlyConst  balcony  picturecount  \\\n",
       "0  ONE_YEAR_FREE                       NaN       False    False             6   \n",
       "1  ONE_YEAR_FREE                       NaN       False     True             8   \n",
       "2  ONE_YEAR_FREE                      10.0        True     True             8   \n",
       "3  ONE_YEAR_FREE                       NaN       False     True             9   \n",
       "4            NaN                       NaN       False     True            19   \n",
       "\n",
       "   pricetrend  telekomUploadSpeed  ...               regio2  \\\n",
       "0        4.62                10.0  ...             Dortmund   \n",
       "1        3.47                10.0  ...    Rhein_Pfalz_Kreis   \n",
       "2        2.72                 2.4  ...              Dresden   \n",
       "3        1.53                40.0  ...  Mittelsachsen_Kreis   \n",
       "4        2.46                 NaN  ...               Bremen   \n",
       "\n",
       "                       regio3  \\\n",
       "0                     Schüren   \n",
       "1              Böhl_Iggelheim   \n",
       "2  Äußere_Neustadt_Antonstadt   \n",
       "3                    Freiberg   \n",
       "4           Neu_Schwachhausen   \n",
       "\n",
       "                                         description  \\\n",
       "0  Die ebenerdig zu erreichende Erdgeschosswohnun...   \n",
       "1  Alles neu macht der Mai – so kann es auch für ...   \n",
       "2  Der Neubau entsteht im Herzen der Dresdner Neu...   \n",
       "3  Abseits von Lärm und Abgasen in Ihre neue Wohn...   \n",
       "4  Es handelt sich hier um ein saniertes Mehrfami...   \n",
       "\n",
       "                                          facilities heatingCosts  \\\n",
       "0  Die Wohnung ist mit Laminat ausgelegt. Das Bad...          NaN   \n",
       "1                                                NaN          NaN   \n",
       "2  * 9 m² Balkon\\n* Bad mit bodengleicher Dusche,...          NaN   \n",
       "3                                                NaN        87.23   \n",
       "4  Diese Wohnung wurde neu saniert und ist wie fo...          NaN   \n",
       "\n",
       "   energyEfficiencyClass lastRefurbish  electricityBasePrice  \\\n",
       "0                    NaN           NaN                   NaN   \n",
       "1                    NaN        2019.0                   NaN   \n",
       "2                    NaN           NaN                   NaN   \n",
       "3                    NaN           NaN                   NaN   \n",
       "4                    NaN           NaN                   NaN   \n",
       "\n",
       "   electricityKwhPrice   date  \n",
       "0                  NaN  May19  \n",
       "1                  NaN  May19  \n",
       "2                  NaN  Oct19  \n",
       "3                  NaN  May19  \n",
       "4                  NaN  Feb20  \n",
       "\n",
       "[5 rows x 49 columns]"
      ]
     },
     "execution_count": 3,
     "metadata": {},
     "output_type": "execute_result"
    }
   ],
   "source": [
    "df = pd.read_csv('../Data/immo_data.csv.zip')\n",
    "df.head()"
   ]
  },
  {
   "cell_type": "code",
   "execution_count": 4,
   "id": "bd4ada93",
   "metadata": {},
   "outputs": [
    {
     "name": "stdout",
     "output_type": "stream",
     "text": [
      "<class 'pandas.core.frame.DataFrame'>\n",
      "RangeIndex: 268850 entries, 0 to 268849\n",
      "Data columns (total 49 columns):\n",
      " #   Column                    Non-Null Count   Dtype  \n",
      "---  ------                    --------------   -----  \n",
      " 0   regio1                    268850 non-null  object \n",
      " 1   serviceCharge             261941 non-null  float64\n",
      " 2   heatingType               223994 non-null  object \n",
      " 3   telekomTvOffer            236231 non-null  object \n",
      " 4   telekomHybridUploadSpeed  45020 non-null   float64\n",
      " 5   newlyConst                268850 non-null  bool   \n",
      " 6   balcony                   268850 non-null  bool   \n",
      " 7   picturecount              268850 non-null  int64  \n",
      " 8   pricetrend                267018 non-null  float64\n",
      " 9   telekomUploadSpeed        235492 non-null  float64\n",
      " 10  totalRent                 228333 non-null  float64\n",
      " 11  yearConstructed           211805 non-null  float64\n",
      " 12  scoutId                   268850 non-null  int64  \n",
      " 13  noParkSpaces              93052 non-null   float64\n",
      " 14  firingTypes               211886 non-null  object \n",
      " 15  hasKitchen                268850 non-null  bool   \n",
      " 16  geo_bln                   268850 non-null  object \n",
      " 17  cellar                    268850 non-null  bool   \n",
      " 18  yearConstructedRange      211805 non-null  float64\n",
      " 19  baseRent                  268850 non-null  float64\n",
      " 20  houseNumber               197832 non-null  object \n",
      " 21  livingSpace               268850 non-null  float64\n",
      " 22  geo_krs                   268850 non-null  object \n",
      " 23  condition                 200361 non-null  object \n",
      " 24  interiorQual              156185 non-null  object \n",
      " 25  petsAllowed               154277 non-null  object \n",
      " 26  street                    268850 non-null  object \n",
      " 27  streetPlain               197837 non-null  object \n",
      " 28  lift                      268850 non-null  bool   \n",
      " 29  baseRentRange             268850 non-null  int64  \n",
      " 30  typeOfFlat                232236 non-null  object \n",
      " 31  geo_plz                   268850 non-null  int64  \n",
      " 32  noRooms                   268850 non-null  float64\n",
      " 33  thermalChar               162344 non-null  float64\n",
      " 34  floor                     217541 non-null  float64\n",
      " 35  numberOfFloors            171118 non-null  float64\n",
      " 36  noRoomsRange              268850 non-null  int64  \n",
      " 37  garden                    268850 non-null  bool   \n",
      " 38  livingSpaceRange          268850 non-null  int64  \n",
      " 39  regio2                    268850 non-null  object \n",
      " 40  regio3                    268850 non-null  object \n",
      " 41  description               249103 non-null  object \n",
      " 42  facilities                215926 non-null  object \n",
      " 43  heatingCosts              85518 non-null   float64\n",
      " 44  energyEfficiencyClass     77787 non-null   object \n",
      " 45  lastRefurbish             80711 non-null   float64\n",
      " 46  electricityBasePrice      46846 non-null   float64\n",
      " 47  electricityKwhPrice       46846 non-null   float64\n",
      " 48  date                      268850 non-null  object \n",
      "dtypes: bool(6), float64(18), int64(6), object(19)\n",
      "memory usage: 89.7+ MB\n"
     ]
    }
   ],
   "source": [
    "df.info()"
   ]
  },
  {
   "cell_type": "code",
   "execution_count": 5,
   "id": "cc763803",
   "metadata": {
    "scrolled": true
   },
   "outputs": [
    {
     "data": {
      "text/plain": [
       "regio1                           0\n",
       "serviceCharge                 6909\n",
       "heatingType                  44856\n",
       "telekomTvOffer               32619\n",
       "telekomHybridUploadSpeed    223830\n",
       "newlyConst                       0\n",
       "balcony                          0\n",
       "picturecount                     0\n",
       "pricetrend                    1832\n",
       "telekomUploadSpeed           33358\n",
       "totalRent                    40517\n",
       "yearConstructed              57045\n",
       "scoutId                          0\n",
       "noParkSpaces                175798\n",
       "firingTypes                  56964\n",
       "hasKitchen                       0\n",
       "geo_bln                          0\n",
       "cellar                           0\n",
       "yearConstructedRange         57045\n",
       "baseRent                         0\n",
       "houseNumber                  71018\n",
       "livingSpace                      0\n",
       "geo_krs                          0\n",
       "condition                    68489\n",
       "interiorQual                112665\n",
       "petsAllowed                 114573\n",
       "street                           0\n",
       "streetPlain                  71013\n",
       "lift                             0\n",
       "baseRentRange                    0\n",
       "typeOfFlat                   36614\n",
       "geo_plz                          0\n",
       "noRooms                          0\n",
       "thermalChar                 106506\n",
       "floor                        51309\n",
       "numberOfFloors               97732\n",
       "noRoomsRange                     0\n",
       "garden                           0\n",
       "livingSpaceRange                 0\n",
       "regio2                           0\n",
       "regio3                           0\n",
       "description                  19747\n",
       "facilities                   52924\n",
       "heatingCosts                183332\n",
       "energyEfficiencyClass       191063\n",
       "lastRefurbish               188139\n",
       "electricityBasePrice        222004\n",
       "electricityKwhPrice         222004\n",
       "date                             0\n",
       "dtype: int64"
      ]
     },
     "execution_count": 5,
     "metadata": {},
     "output_type": "execute_result"
    }
   ],
   "source": [
    "df.isna().sum()"
   ]
  },
  {
   "cell_type": "markdown",
   "id": "1b18856b",
   "metadata": {},
   "source": [
    "# Brandenburg"
   ]
  },
  {
   "cell_type": "code",
   "execution_count": 6,
   "id": "61085126",
   "metadata": {},
   "outputs": [
    {
     "data": {
      "text/plain": [
       "Index(['regio1', 'serviceCharge', 'heatingType', 'telekomTvOffer',\n",
       "       'telekomHybridUploadSpeed', 'newlyConst', 'balcony', 'picturecount',\n",
       "       'pricetrend', 'telekomUploadSpeed', 'totalRent', 'yearConstructed',\n",
       "       'scoutId', 'noParkSpaces', 'firingTypes', 'hasKitchen', 'geo_bln',\n",
       "       'cellar', 'yearConstructedRange', 'baseRent', 'houseNumber',\n",
       "       'livingSpace', 'geo_krs', 'condition', 'interiorQual', 'petsAllowed',\n",
       "       'street', 'streetPlain', 'lift', 'baseRentRange', 'typeOfFlat',\n",
       "       'geo_plz', 'noRooms', 'thermalChar', 'floor', 'numberOfFloors',\n",
       "       'noRoomsRange', 'garden', 'livingSpaceRange', 'regio2', 'regio3',\n",
       "       'description', 'facilities', 'heatingCosts', 'energyEfficiencyClass',\n",
       "       'lastRefurbish', 'electricityBasePrice', 'electricityKwhPrice', 'date'],\n",
       "      dtype='object')"
      ]
     },
     "execution_count": 6,
     "metadata": {},
     "output_type": "execute_result"
    }
   ],
   "source": [
    "brandenburg_df = df[df[\"regio1\"] == 'Brandenburg'] \n",
    "brandenburg_df.columns"
   ]
  },
  {
   "cell_type": "code",
   "execution_count": 7,
   "id": "4a848eae",
   "metadata": {},
   "outputs": [],
   "source": [
    "needed_cols=['regio1','regio2', \n",
    "'balcony', 'livingSpace', 'totalRent', 'serviceCharge',\n",
    "'baseRent','lift',\n",
    "'petsAllowed','floor','noRooms','garden','cellar','noParkSpaces']"
   ]
  },
  {
   "cell_type": "code",
   "execution_count": 8,
   "id": "12142110",
   "metadata": {
    "scrolled": true
   },
   "outputs": [
    {
     "data": {
      "text/html": [
       "<div>\n",
       "<style scoped>\n",
       "    .dataframe tbody tr th:only-of-type {\n",
       "        vertical-align: middle;\n",
       "    }\n",
       "\n",
       "    .dataframe tbody tr th {\n",
       "        vertical-align: top;\n",
       "    }\n",
       "\n",
       "    .dataframe thead th {\n",
       "        text-align: right;\n",
       "    }\n",
       "</style>\n",
       "<table border=\"1\" class=\"dataframe\">\n",
       "  <thead>\n",
       "    <tr style=\"text-align: right;\">\n",
       "      <th></th>\n",
       "      <th>regio1</th>\n",
       "      <th>regio2</th>\n",
       "      <th>balcony</th>\n",
       "      <th>livingSpace</th>\n",
       "      <th>totalRent</th>\n",
       "      <th>serviceCharge</th>\n",
       "      <th>baseRent</th>\n",
       "      <th>lift</th>\n",
       "      <th>petsAllowed</th>\n",
       "      <th>floor</th>\n",
       "      <th>noRooms</th>\n",
       "      <th>garden</th>\n",
       "      <th>cellar</th>\n",
       "      <th>noParkSpaces</th>\n",
       "    </tr>\n",
       "  </thead>\n",
       "  <tbody>\n",
       "    <tr>\n",
       "      <th>50</th>\n",
       "      <td>Brandenburg</td>\n",
       "      <td>Oder_Spree_Kreis</td>\n",
       "      <td>True</td>\n",
       "      <td>36.29</td>\n",
       "      <td>377.0</td>\n",
       "      <td>50.0</td>\n",
       "      <td>285.0</td>\n",
       "      <td>True</td>\n",
       "      <td>negotiable</td>\n",
       "      <td>1.0</td>\n",
       "      <td>1.0</td>\n",
       "      <td>False</td>\n",
       "      <td>True</td>\n",
       "      <td>NaN</td>\n",
       "    </tr>\n",
       "    <tr>\n",
       "      <th>114</th>\n",
       "      <td>Brandenburg</td>\n",
       "      <td>Märkisch_Oderland_Kreis</td>\n",
       "      <td>True</td>\n",
       "      <td>60.71</td>\n",
       "      <td>435.0</td>\n",
       "      <td>65.0</td>\n",
       "      <td>300.0</td>\n",
       "      <td>False</td>\n",
       "      <td>NaN</td>\n",
       "      <td>0.0</td>\n",
       "      <td>2.0</td>\n",
       "      <td>False</td>\n",
       "      <td>True</td>\n",
       "      <td>NaN</td>\n",
       "    </tr>\n",
       "    <tr>\n",
       "      <th>136</th>\n",
       "      <td>Brandenburg</td>\n",
       "      <td>Brandenburg_an_der_Havel</td>\n",
       "      <td>True</td>\n",
       "      <td>67.80</td>\n",
       "      <td>590.0</td>\n",
       "      <td>170.0</td>\n",
       "      <td>420.0</td>\n",
       "      <td>True</td>\n",
       "      <td>yes</td>\n",
       "      <td>0.0</td>\n",
       "      <td>3.0</td>\n",
       "      <td>False</td>\n",
       "      <td>True</td>\n",
       "      <td>NaN</td>\n",
       "    </tr>\n",
       "    <tr>\n",
       "      <th>232</th>\n",
       "      <td>Brandenburg</td>\n",
       "      <td>Potsdam</td>\n",
       "      <td>True</td>\n",
       "      <td>88.00</td>\n",
       "      <td>1300.0</td>\n",
       "      <td>300.0</td>\n",
       "      <td>1000.0</td>\n",
       "      <td>True</td>\n",
       "      <td>negotiable</td>\n",
       "      <td>2.0</td>\n",
       "      <td>3.0</td>\n",
       "      <td>True</td>\n",
       "      <td>True</td>\n",
       "      <td>1.0</td>\n",
       "    </tr>\n",
       "    <tr>\n",
       "      <th>331</th>\n",
       "      <td>Brandenburg</td>\n",
       "      <td>Dahme_Spreewald_Kreis</td>\n",
       "      <td>True</td>\n",
       "      <td>69.00</td>\n",
       "      <td>533.0</td>\n",
       "      <td>150.0</td>\n",
       "      <td>370.0</td>\n",
       "      <td>False</td>\n",
       "      <td>negotiable</td>\n",
       "      <td>2.0</td>\n",
       "      <td>2.0</td>\n",
       "      <td>True</td>\n",
       "      <td>True</td>\n",
       "      <td>1.0</td>\n",
       "    </tr>\n",
       "  </tbody>\n",
       "</table>\n",
       "</div>"
      ],
      "text/plain": [
       "          regio1                    regio2  balcony  livingSpace  totalRent  \\\n",
       "50   Brandenburg          Oder_Spree_Kreis     True        36.29      377.0   \n",
       "114  Brandenburg   Märkisch_Oderland_Kreis     True        60.71      435.0   \n",
       "136  Brandenburg  Brandenburg_an_der_Havel     True        67.80      590.0   \n",
       "232  Brandenburg                   Potsdam     True        88.00     1300.0   \n",
       "331  Brandenburg     Dahme_Spreewald_Kreis     True        69.00      533.0   \n",
       "\n",
       "     serviceCharge  baseRent   lift petsAllowed  floor  noRooms  garden  \\\n",
       "50            50.0     285.0   True  negotiable    1.0      1.0   False   \n",
       "114           65.0     300.0  False         NaN    0.0      2.0   False   \n",
       "136          170.0     420.0   True         yes    0.0      3.0   False   \n",
       "232          300.0    1000.0   True  negotiable    2.0      3.0    True   \n",
       "331          150.0     370.0  False  negotiable    2.0      2.0    True   \n",
       "\n",
       "     cellar  noParkSpaces  \n",
       "50     True           NaN  \n",
       "114    True           NaN  \n",
       "136    True           NaN  \n",
       "232    True           1.0  \n",
       "331    True           1.0  "
      ]
     },
     "execution_count": 8,
     "metadata": {},
     "output_type": "execute_result"
    }
   ],
   "source": [
    "brandenburg_df = brandenburg_df.loc[:,['regio1','regio2', \n",
    "'balcony', 'livingSpace', 'totalRent', 'serviceCharge',\n",
    "'baseRent','lift','petsAllowed','floor','noRooms','garden','cellar','noParkSpaces']]\n",
    "brandenburg_df.head()"
   ]
  },
  {
   "cell_type": "markdown",
   "id": "aef8aa59",
   "metadata": {},
   "source": [
    "## Renaming the columns properly in brandenburg_df"
   ]
  },
  {
   "cell_type": "code",
   "execution_count": 9,
   "id": "22addc12",
   "metadata": {},
   "outputs": [
    {
     "data": {
      "text/html": [
       "<div>\n",
       "<style scoped>\n",
       "    .dataframe tbody tr th:only-of-type {\n",
       "        vertical-align: middle;\n",
       "    }\n",
       "\n",
       "    .dataframe tbody tr th {\n",
       "        vertical-align: top;\n",
       "    }\n",
       "\n",
       "    .dataframe thead th {\n",
       "        text-align: right;\n",
       "    }\n",
       "</style>\n",
       "<table border=\"1\" class=\"dataframe\">\n",
       "  <thead>\n",
       "    <tr style=\"text-align: right;\">\n",
       "      <th></th>\n",
       "      <th>land</th>\n",
       "      <th>city</th>\n",
       "      <th>balcony</th>\n",
       "      <th>living_space</th>\n",
       "      <th>total_rent</th>\n",
       "      <th>service_charge</th>\n",
       "      <th>base_rent</th>\n",
       "      <th>lift</th>\n",
       "      <th>pets_allowed</th>\n",
       "      <th>floor</th>\n",
       "      <th>no_rooms</th>\n",
       "      <th>garden</th>\n",
       "      <th>cellar</th>\n",
       "      <th>noParkSpaces</th>\n",
       "    </tr>\n",
       "  </thead>\n",
       "  <tbody>\n",
       "    <tr>\n",
       "      <th>50</th>\n",
       "      <td>Brandenburg</td>\n",
       "      <td>Oder_Spree_Kreis</td>\n",
       "      <td>True</td>\n",
       "      <td>36.29</td>\n",
       "      <td>377.00</td>\n",
       "      <td>50.00</td>\n",
       "      <td>285.00</td>\n",
       "      <td>True</td>\n",
       "      <td>negotiable</td>\n",
       "      <td>1.0</td>\n",
       "      <td>1.0</td>\n",
       "      <td>False</td>\n",
       "      <td>True</td>\n",
       "      <td>NaN</td>\n",
       "    </tr>\n",
       "    <tr>\n",
       "      <th>114</th>\n",
       "      <td>Brandenburg</td>\n",
       "      <td>Märkisch_Oderland_Kreis</td>\n",
       "      <td>True</td>\n",
       "      <td>60.71</td>\n",
       "      <td>435.00</td>\n",
       "      <td>65.00</td>\n",
       "      <td>300.00</td>\n",
       "      <td>False</td>\n",
       "      <td>NaN</td>\n",
       "      <td>0.0</td>\n",
       "      <td>2.0</td>\n",
       "      <td>False</td>\n",
       "      <td>True</td>\n",
       "      <td>NaN</td>\n",
       "    </tr>\n",
       "    <tr>\n",
       "      <th>136</th>\n",
       "      <td>Brandenburg</td>\n",
       "      <td>Brandenburg_an_der_Havel</td>\n",
       "      <td>True</td>\n",
       "      <td>67.80</td>\n",
       "      <td>590.00</td>\n",
       "      <td>170.00</td>\n",
       "      <td>420.00</td>\n",
       "      <td>True</td>\n",
       "      <td>yes</td>\n",
       "      <td>0.0</td>\n",
       "      <td>3.0</td>\n",
       "      <td>False</td>\n",
       "      <td>True</td>\n",
       "      <td>NaN</td>\n",
       "    </tr>\n",
       "    <tr>\n",
       "      <th>232</th>\n",
       "      <td>Brandenburg</td>\n",
       "      <td>Potsdam</td>\n",
       "      <td>True</td>\n",
       "      <td>88.00</td>\n",
       "      <td>1300.00</td>\n",
       "      <td>300.00</td>\n",
       "      <td>1000.00</td>\n",
       "      <td>True</td>\n",
       "      <td>negotiable</td>\n",
       "      <td>2.0</td>\n",
       "      <td>3.0</td>\n",
       "      <td>True</td>\n",
       "      <td>True</td>\n",
       "      <td>1.0</td>\n",
       "    </tr>\n",
       "    <tr>\n",
       "      <th>331</th>\n",
       "      <td>Brandenburg</td>\n",
       "      <td>Dahme_Spreewald_Kreis</td>\n",
       "      <td>True</td>\n",
       "      <td>69.00</td>\n",
       "      <td>533.00</td>\n",
       "      <td>150.00</td>\n",
       "      <td>370.00</td>\n",
       "      <td>False</td>\n",
       "      <td>negotiable</td>\n",
       "      <td>2.0</td>\n",
       "      <td>2.0</td>\n",
       "      <td>True</td>\n",
       "      <td>True</td>\n",
       "      <td>1.0</td>\n",
       "    </tr>\n",
       "    <tr>\n",
       "      <th>...</th>\n",
       "      <td>...</td>\n",
       "      <td>...</td>\n",
       "      <td>...</td>\n",
       "      <td>...</td>\n",
       "      <td>...</td>\n",
       "      <td>...</td>\n",
       "      <td>...</td>\n",
       "      <td>...</td>\n",
       "      <td>...</td>\n",
       "      <td>...</td>\n",
       "      <td>...</td>\n",
       "      <td>...</td>\n",
       "      <td>...</td>\n",
       "      <td>...</td>\n",
       "    </tr>\n",
       "    <tr>\n",
       "      <th>268659</th>\n",
       "      <td>Brandenburg</td>\n",
       "      <td>Elbe_Elster_Kreis</td>\n",
       "      <td>True</td>\n",
       "      <td>32.86</td>\n",
       "      <td>276.76</td>\n",
       "      <td>53.97</td>\n",
       "      <td>183.36</td>\n",
       "      <td>False</td>\n",
       "      <td>negotiable</td>\n",
       "      <td>1.0</td>\n",
       "      <td>1.0</td>\n",
       "      <td>False</td>\n",
       "      <td>False</td>\n",
       "      <td>NaN</td>\n",
       "    </tr>\n",
       "    <tr>\n",
       "      <th>268715</th>\n",
       "      <td>Brandenburg</td>\n",
       "      <td>Brandenburg_an_der_Havel</td>\n",
       "      <td>True</td>\n",
       "      <td>50.03</td>\n",
       "      <td>675.00</td>\n",
       "      <td>60.00</td>\n",
       "      <td>525.00</td>\n",
       "      <td>False</td>\n",
       "      <td>negotiable</td>\n",
       "      <td>NaN</td>\n",
       "      <td>2.0</td>\n",
       "      <td>False</td>\n",
       "      <td>True</td>\n",
       "      <td>NaN</td>\n",
       "    </tr>\n",
       "    <tr>\n",
       "      <th>268799</th>\n",
       "      <td>Brandenburg</td>\n",
       "      <td>Oberspreewald_Lausitz_Kreis</td>\n",
       "      <td>True</td>\n",
       "      <td>105.00</td>\n",
       "      <td>750.00</td>\n",
       "      <td>105.00</td>\n",
       "      <td>525.00</td>\n",
       "      <td>False</td>\n",
       "      <td>negotiable</td>\n",
       "      <td>1.0</td>\n",
       "      <td>2.0</td>\n",
       "      <td>False</td>\n",
       "      <td>True</td>\n",
       "      <td>NaN</td>\n",
       "    </tr>\n",
       "    <tr>\n",
       "      <th>268802</th>\n",
       "      <td>Brandenburg</td>\n",
       "      <td>Ostprignitz_Ruppin_Kreis</td>\n",
       "      <td>True</td>\n",
       "      <td>73.00</td>\n",
       "      <td>710.00</td>\n",
       "      <td>215.00</td>\n",
       "      <td>495.00</td>\n",
       "      <td>False</td>\n",
       "      <td>negotiable</td>\n",
       "      <td>1.0</td>\n",
       "      <td>2.0</td>\n",
       "      <td>True</td>\n",
       "      <td>True</td>\n",
       "      <td>NaN</td>\n",
       "    </tr>\n",
       "    <tr>\n",
       "      <th>268810</th>\n",
       "      <td>Brandenburg</td>\n",
       "      <td>Oder_Spree_Kreis</td>\n",
       "      <td>False</td>\n",
       "      <td>52.00</td>\n",
       "      <td>432.00</td>\n",
       "      <td>110.00</td>\n",
       "      <td>322.00</td>\n",
       "      <td>False</td>\n",
       "      <td>yes</td>\n",
       "      <td>2.0</td>\n",
       "      <td>2.0</td>\n",
       "      <td>True</td>\n",
       "      <td>False</td>\n",
       "      <td>2.0</td>\n",
       "    </tr>\n",
       "  </tbody>\n",
       "</table>\n",
       "<p>6954 rows × 14 columns</p>\n",
       "</div>"
      ],
      "text/plain": [
       "               land                         city  balcony  living_space  \\\n",
       "50      Brandenburg             Oder_Spree_Kreis     True         36.29   \n",
       "114     Brandenburg      Märkisch_Oderland_Kreis     True         60.71   \n",
       "136     Brandenburg     Brandenburg_an_der_Havel     True         67.80   \n",
       "232     Brandenburg                      Potsdam     True         88.00   \n",
       "331     Brandenburg        Dahme_Spreewald_Kreis     True         69.00   \n",
       "...             ...                          ...      ...           ...   \n",
       "268659  Brandenburg            Elbe_Elster_Kreis     True         32.86   \n",
       "268715  Brandenburg     Brandenburg_an_der_Havel     True         50.03   \n",
       "268799  Brandenburg  Oberspreewald_Lausitz_Kreis     True        105.00   \n",
       "268802  Brandenburg     Ostprignitz_Ruppin_Kreis     True         73.00   \n",
       "268810  Brandenburg             Oder_Spree_Kreis    False         52.00   \n",
       "\n",
       "        total_rent  service_charge  base_rent   lift pets_allowed  floor  \\\n",
       "50          377.00           50.00     285.00   True   negotiable    1.0   \n",
       "114         435.00           65.00     300.00  False          NaN    0.0   \n",
       "136         590.00          170.00     420.00   True          yes    0.0   \n",
       "232        1300.00          300.00    1000.00   True   negotiable    2.0   \n",
       "331         533.00          150.00     370.00  False   negotiable    2.0   \n",
       "...            ...             ...        ...    ...          ...    ...   \n",
       "268659      276.76           53.97     183.36  False   negotiable    1.0   \n",
       "268715      675.00           60.00     525.00  False   negotiable    NaN   \n",
       "268799      750.00          105.00     525.00  False   negotiable    1.0   \n",
       "268802      710.00          215.00     495.00  False   negotiable    1.0   \n",
       "268810      432.00          110.00     322.00  False          yes    2.0   \n",
       "\n",
       "        no_rooms  garden  cellar  noParkSpaces  \n",
       "50           1.0   False    True           NaN  \n",
       "114          2.0   False    True           NaN  \n",
       "136          3.0   False    True           NaN  \n",
       "232          3.0    True    True           1.0  \n",
       "331          2.0    True    True           1.0  \n",
       "...          ...     ...     ...           ...  \n",
       "268659       1.0   False   False           NaN  \n",
       "268715       2.0   False    True           NaN  \n",
       "268799       2.0   False    True           NaN  \n",
       "268802       2.0    True    True           NaN  \n",
       "268810       2.0    True   False           2.0  \n",
       "\n",
       "[6954 rows x 14 columns]"
      ]
     },
     "execution_count": 9,
     "metadata": {},
     "output_type": "execute_result"
    }
   ],
   "source": [
    "dict = {'regio1': 'land','regio2': 'city','livingSpace': 'living_space','totalRent': 'total_rent',\n",
    "       'serviceCharge': 'service_charge','baseRent': 'base_rent','typeOfFlat': 'type_of_flat','petsAllowed': 'pets_allowed',\n",
    "       'noRooms': 'no_rooms','yearConstructed': 'year_constructed',}\n",
    "brandenburg_df.rename(columns=dict,\n",
    "          inplace=True)\n",
    "brandenburg_df"
   ]
  },
  {
   "cell_type": "markdown",
   "id": "9f7ee275",
   "metadata": {},
   "source": [
    "## Dealind with Dublicted values"
   ]
  },
  {
   "cell_type": "code",
   "execution_count": 10,
   "id": "00571e17",
   "metadata": {},
   "outputs": [
    {
     "data": {
      "text/plain": [
       "232"
      ]
     },
     "execution_count": 10,
     "metadata": {},
     "output_type": "execute_result"
    }
   ],
   "source": [
    "brandenburg_df.duplicated().sum()"
   ]
  },
  {
   "cell_type": "code",
   "execution_count": 11,
   "id": "dff4d9af",
   "metadata": {},
   "outputs": [],
   "source": [
    "brandenburg_df=brandenburg_df.drop_duplicates()"
   ]
  },
  {
   "cell_type": "code",
   "execution_count": 12,
   "id": "dc5d4f09",
   "metadata": {},
   "outputs": [
    {
     "data": {
      "text/plain": [
       "0"
      ]
     },
     "execution_count": 12,
     "metadata": {},
     "output_type": "execute_result"
    }
   ],
   "source": [
    "brandenburg_df.duplicated().sum()"
   ]
  },
  {
   "cell_type": "markdown",
   "id": "442b8ccd",
   "metadata": {},
   "source": [
    "## Dealing with missing values"
   ]
  },
  {
   "cell_type": "code",
   "execution_count": 13,
   "id": "5eac5c01",
   "metadata": {},
   "outputs": [
    {
     "data": {
      "text/plain": [
       "(6722, 14)"
      ]
     },
     "execution_count": 13,
     "metadata": {},
     "output_type": "execute_result"
    }
   ],
   "source": [
    "brandenburg_df.shape"
   ]
  },
  {
   "cell_type": "code",
   "execution_count": 14,
   "id": "a700ab99",
   "metadata": {},
   "outputs": [
    {
     "data": {
      "text/plain": [
       "land                 0\n",
       "city                 0\n",
       "balcony              0\n",
       "living_space         0\n",
       "total_rent         523\n",
       "service_charge     116\n",
       "base_rent            0\n",
       "lift                 0\n",
       "pets_allowed      2862\n",
       "floor              860\n",
       "no_rooms             0\n",
       "garden               0\n",
       "cellar               0\n",
       "noParkSpaces      4556\n",
       "dtype: int64"
      ]
     },
     "execution_count": 14,
     "metadata": {},
     "output_type": "execute_result"
    }
   ],
   "source": [
    "brandenburg_df.isna().sum()"
   ]
  },
  {
   "cell_type": "code",
   "execution_count": 15,
   "id": "c9986705",
   "metadata": {},
   "outputs": [
    {
     "data": {
      "text/html": [
       "<div>\n",
       "<style scoped>\n",
       "    .dataframe tbody tr th:only-of-type {\n",
       "        vertical-align: middle;\n",
       "    }\n",
       "\n",
       "    .dataframe tbody tr th {\n",
       "        vertical-align: top;\n",
       "    }\n",
       "\n",
       "    .dataframe thead th {\n",
       "        text-align: right;\n",
       "    }\n",
       "</style>\n",
       "<table border=\"1\" class=\"dataframe\">\n",
       "  <thead>\n",
       "    <tr style=\"text-align: right;\">\n",
       "      <th></th>\n",
       "      <th>land</th>\n",
       "      <th>city</th>\n",
       "      <th>balcony</th>\n",
       "      <th>living_space</th>\n",
       "      <th>total_rent</th>\n",
       "      <th>service_charge</th>\n",
       "      <th>base_rent</th>\n",
       "      <th>lift</th>\n",
       "      <th>pets_allowed</th>\n",
       "      <th>floor</th>\n",
       "      <th>no_rooms</th>\n",
       "      <th>garden</th>\n",
       "      <th>cellar</th>\n",
       "      <th>noParkSpaces</th>\n",
       "    </tr>\n",
       "  </thead>\n",
       "  <tbody>\n",
       "    <tr>\n",
       "      <th>50</th>\n",
       "      <td>Brandenburg</td>\n",
       "      <td>Oder_Spree_Kreis</td>\n",
       "      <td>True</td>\n",
       "      <td>36.29</td>\n",
       "      <td>377.00</td>\n",
       "      <td>50.00</td>\n",
       "      <td>285.00</td>\n",
       "      <td>True</td>\n",
       "      <td>negotiable</td>\n",
       "      <td>1.0</td>\n",
       "      <td>1.0</td>\n",
       "      <td>False</td>\n",
       "      <td>True</td>\n",
       "      <td>NaN</td>\n",
       "    </tr>\n",
       "    <tr>\n",
       "      <th>114</th>\n",
       "      <td>Brandenburg</td>\n",
       "      <td>Märkisch_Oderland_Kreis</td>\n",
       "      <td>True</td>\n",
       "      <td>60.71</td>\n",
       "      <td>435.00</td>\n",
       "      <td>65.00</td>\n",
       "      <td>300.00</td>\n",
       "      <td>False</td>\n",
       "      <td>NaN</td>\n",
       "      <td>0.0</td>\n",
       "      <td>2.0</td>\n",
       "      <td>False</td>\n",
       "      <td>True</td>\n",
       "      <td>NaN</td>\n",
       "    </tr>\n",
       "    <tr>\n",
       "      <th>136</th>\n",
       "      <td>Brandenburg</td>\n",
       "      <td>Brandenburg_an_der_Havel</td>\n",
       "      <td>True</td>\n",
       "      <td>67.80</td>\n",
       "      <td>590.00</td>\n",
       "      <td>170.00</td>\n",
       "      <td>420.00</td>\n",
       "      <td>True</td>\n",
       "      <td>yes</td>\n",
       "      <td>0.0</td>\n",
       "      <td>3.0</td>\n",
       "      <td>False</td>\n",
       "      <td>True</td>\n",
       "      <td>NaN</td>\n",
       "    </tr>\n",
       "    <tr>\n",
       "      <th>232</th>\n",
       "      <td>Brandenburg</td>\n",
       "      <td>Potsdam</td>\n",
       "      <td>True</td>\n",
       "      <td>88.00</td>\n",
       "      <td>1300.00</td>\n",
       "      <td>300.00</td>\n",
       "      <td>1000.00</td>\n",
       "      <td>True</td>\n",
       "      <td>negotiable</td>\n",
       "      <td>2.0</td>\n",
       "      <td>3.0</td>\n",
       "      <td>True</td>\n",
       "      <td>True</td>\n",
       "      <td>1.0</td>\n",
       "    </tr>\n",
       "    <tr>\n",
       "      <th>331</th>\n",
       "      <td>Brandenburg</td>\n",
       "      <td>Dahme_Spreewald_Kreis</td>\n",
       "      <td>True</td>\n",
       "      <td>69.00</td>\n",
       "      <td>533.00</td>\n",
       "      <td>150.00</td>\n",
       "      <td>370.00</td>\n",
       "      <td>False</td>\n",
       "      <td>negotiable</td>\n",
       "      <td>2.0</td>\n",
       "      <td>2.0</td>\n",
       "      <td>True</td>\n",
       "      <td>True</td>\n",
       "      <td>1.0</td>\n",
       "    </tr>\n",
       "    <tr>\n",
       "      <th>...</th>\n",
       "      <td>...</td>\n",
       "      <td>...</td>\n",
       "      <td>...</td>\n",
       "      <td>...</td>\n",
       "      <td>...</td>\n",
       "      <td>...</td>\n",
       "      <td>...</td>\n",
       "      <td>...</td>\n",
       "      <td>...</td>\n",
       "      <td>...</td>\n",
       "      <td>...</td>\n",
       "      <td>...</td>\n",
       "      <td>...</td>\n",
       "      <td>...</td>\n",
       "    </tr>\n",
       "    <tr>\n",
       "      <th>268659</th>\n",
       "      <td>Brandenburg</td>\n",
       "      <td>Elbe_Elster_Kreis</td>\n",
       "      <td>True</td>\n",
       "      <td>32.86</td>\n",
       "      <td>276.76</td>\n",
       "      <td>53.97</td>\n",
       "      <td>183.36</td>\n",
       "      <td>False</td>\n",
       "      <td>negotiable</td>\n",
       "      <td>1.0</td>\n",
       "      <td>1.0</td>\n",
       "      <td>False</td>\n",
       "      <td>False</td>\n",
       "      <td>NaN</td>\n",
       "    </tr>\n",
       "    <tr>\n",
       "      <th>268715</th>\n",
       "      <td>Brandenburg</td>\n",
       "      <td>Brandenburg_an_der_Havel</td>\n",
       "      <td>True</td>\n",
       "      <td>50.03</td>\n",
       "      <td>675.00</td>\n",
       "      <td>60.00</td>\n",
       "      <td>525.00</td>\n",
       "      <td>False</td>\n",
       "      <td>negotiable</td>\n",
       "      <td>NaN</td>\n",
       "      <td>2.0</td>\n",
       "      <td>False</td>\n",
       "      <td>True</td>\n",
       "      <td>NaN</td>\n",
       "    </tr>\n",
       "    <tr>\n",
       "      <th>268799</th>\n",
       "      <td>Brandenburg</td>\n",
       "      <td>Oberspreewald_Lausitz_Kreis</td>\n",
       "      <td>True</td>\n",
       "      <td>105.00</td>\n",
       "      <td>750.00</td>\n",
       "      <td>105.00</td>\n",
       "      <td>525.00</td>\n",
       "      <td>False</td>\n",
       "      <td>negotiable</td>\n",
       "      <td>1.0</td>\n",
       "      <td>2.0</td>\n",
       "      <td>False</td>\n",
       "      <td>True</td>\n",
       "      <td>NaN</td>\n",
       "    </tr>\n",
       "    <tr>\n",
       "      <th>268802</th>\n",
       "      <td>Brandenburg</td>\n",
       "      <td>Ostprignitz_Ruppin_Kreis</td>\n",
       "      <td>True</td>\n",
       "      <td>73.00</td>\n",
       "      <td>710.00</td>\n",
       "      <td>215.00</td>\n",
       "      <td>495.00</td>\n",
       "      <td>False</td>\n",
       "      <td>negotiable</td>\n",
       "      <td>1.0</td>\n",
       "      <td>2.0</td>\n",
       "      <td>True</td>\n",
       "      <td>True</td>\n",
       "      <td>NaN</td>\n",
       "    </tr>\n",
       "    <tr>\n",
       "      <th>268810</th>\n",
       "      <td>Brandenburg</td>\n",
       "      <td>Oder_Spree_Kreis</td>\n",
       "      <td>False</td>\n",
       "      <td>52.00</td>\n",
       "      <td>432.00</td>\n",
       "      <td>110.00</td>\n",
       "      <td>322.00</td>\n",
       "      <td>False</td>\n",
       "      <td>yes</td>\n",
       "      <td>2.0</td>\n",
       "      <td>2.0</td>\n",
       "      <td>True</td>\n",
       "      <td>False</td>\n",
       "      <td>2.0</td>\n",
       "    </tr>\n",
       "  </tbody>\n",
       "</table>\n",
       "<p>6722 rows × 14 columns</p>\n",
       "</div>"
      ],
      "text/plain": [
       "               land                         city  balcony  living_space  \\\n",
       "50      Brandenburg             Oder_Spree_Kreis     True         36.29   \n",
       "114     Brandenburg      Märkisch_Oderland_Kreis     True         60.71   \n",
       "136     Brandenburg     Brandenburg_an_der_Havel     True         67.80   \n",
       "232     Brandenburg                      Potsdam     True         88.00   \n",
       "331     Brandenburg        Dahme_Spreewald_Kreis     True         69.00   \n",
       "...             ...                          ...      ...           ...   \n",
       "268659  Brandenburg            Elbe_Elster_Kreis     True         32.86   \n",
       "268715  Brandenburg     Brandenburg_an_der_Havel     True         50.03   \n",
       "268799  Brandenburg  Oberspreewald_Lausitz_Kreis     True        105.00   \n",
       "268802  Brandenburg     Ostprignitz_Ruppin_Kreis     True         73.00   \n",
       "268810  Brandenburg             Oder_Spree_Kreis    False         52.00   \n",
       "\n",
       "        total_rent  service_charge  base_rent   lift pets_allowed  floor  \\\n",
       "50          377.00           50.00     285.00   True   negotiable    1.0   \n",
       "114         435.00           65.00     300.00  False          NaN    0.0   \n",
       "136         590.00          170.00     420.00   True          yes    0.0   \n",
       "232        1300.00          300.00    1000.00   True   negotiable    2.0   \n",
       "331         533.00          150.00     370.00  False   negotiable    2.0   \n",
       "...            ...             ...        ...    ...          ...    ...   \n",
       "268659      276.76           53.97     183.36  False   negotiable    1.0   \n",
       "268715      675.00           60.00     525.00  False   negotiable    NaN   \n",
       "268799      750.00          105.00     525.00  False   negotiable    1.0   \n",
       "268802      710.00          215.00     495.00  False   negotiable    1.0   \n",
       "268810      432.00          110.00     322.00  False          yes    2.0   \n",
       "\n",
       "        no_rooms  garden  cellar  noParkSpaces  \n",
       "50           1.0   False    True           NaN  \n",
       "114          2.0   False    True           NaN  \n",
       "136          3.0   False    True           NaN  \n",
       "232          3.0    True    True           1.0  \n",
       "331          2.0    True    True           1.0  \n",
       "...          ...     ...     ...           ...  \n",
       "268659       1.0   False   False           NaN  \n",
       "268715       2.0   False    True           NaN  \n",
       "268799       2.0   False    True           NaN  \n",
       "268802       2.0    True    True           NaN  \n",
       "268810       2.0    True   False           2.0  \n",
       "\n",
       "[6722 rows x 14 columns]"
      ]
     },
     "execution_count": 15,
     "metadata": {},
     "output_type": "execute_result"
    }
   ],
   "source": [
    "brandenburg_df"
   ]
  },
  {
   "cell_type": "code",
   "execution_count": 16,
   "id": "ed7bf62f",
   "metadata": {},
   "outputs": [
    {
     "name": "stderr",
     "output_type": "stream",
     "text": [
      "C:\\Users\\asgar\\AppData\\Local\\Temp\\ipykernel_3428\\999580858.py:2: SettingWithCopyWarning: \n",
      "A value is trying to be set on a copy of a slice from a DataFrame.\n",
      "Try using .loc[row_indexer,col_indexer] = value instead\n",
      "\n",
      "See the caveats in the documentation: https://pandas.pydata.org/pandas-docs/stable/user_guide/indexing.html#returning-a-view-versus-a-copy\n",
      "  brandenburg_df['total_rent'] = brandenburg_df['service_charge'] + brandenburg_df['base_rent']\n"
     ]
    }
   ],
   "source": [
    "# simple calculation, it is obsvious -- service + base = total_rent\n",
    "brandenburg_df['total_rent'] = brandenburg_df['service_charge'] + brandenburg_df['base_rent']"
   ]
  },
  {
   "cell_type": "code",
   "execution_count": 17,
   "id": "cec3d669",
   "metadata": {},
   "outputs": [
    {
     "name": "stdout",
     "output_type": "stream",
     "text": [
      "land                 0\n",
      "city                 0\n",
      "balcony              0\n",
      "living_space         0\n",
      "total_rent         116\n",
      "service_charge     116\n",
      "base_rent            0\n",
      "lift                 0\n",
      "pets_allowed      2862\n",
      "floor              860\n",
      "no_rooms             0\n",
      "garden               0\n",
      "cellar               0\n",
      "noParkSpaces      4556\n",
      "dtype: int64\n"
     ]
    },
    {
     "data": {
      "text/plain": [
       "(6722, 14)"
      ]
     },
     "execution_count": 17,
     "metadata": {},
     "output_type": "execute_result"
    }
   ],
   "source": [
    "print(brandenburg_df.isna().sum())\n",
    "brandenburg_df.shape"
   ]
  },
  {
   "cell_type": "code",
   "execution_count": 18,
   "id": "d4a86009",
   "metadata": {},
   "outputs": [],
   "source": [
    "brandenburg_df=brandenburg_df.dropna(subset=['service_charge']) # dropping Nan rows from servicecharge"
   ]
  },
  {
   "cell_type": "code",
   "execution_count": 19,
   "id": "5c310798",
   "metadata": {},
   "outputs": [
    {
     "name": "stdout",
     "output_type": "stream",
     "text": [
      "land                 0\n",
      "city                 0\n",
      "balcony              0\n",
      "living_space         0\n",
      "total_rent           0\n",
      "service_charge       0\n",
      "base_rent            0\n",
      "lift                 0\n",
      "pets_allowed      2791\n",
      "floor              792\n",
      "no_rooms             0\n",
      "garden               0\n",
      "cellar               0\n",
      "noParkSpaces      4473\n",
      "dtype: int64\n"
     ]
    },
    {
     "data": {
      "text/plain": [
       "(6606, 14)"
      ]
     },
     "execution_count": 19,
     "metadata": {},
     "output_type": "execute_result"
    }
   ],
   "source": [
    "print(brandenburg_df.isna().sum())\n",
    "brandenburg_df.shape"
   ]
  },
  {
   "cell_type": "code",
   "execution_count": 20,
   "id": "38ab9095",
   "metadata": {},
   "outputs": [
    {
     "data": {
      "text/plain": [
       "negotiable    2774\n",
       "no             654\n",
       "yes            387\n",
       "Name: pets_allowed, dtype: int64"
      ]
     },
     "execution_count": 20,
     "metadata": {},
     "output_type": "execute_result"
    }
   ],
   "source": [
    "brandenburg_df.pets_allowed.value_counts() # checking values in the column"
   ]
  },
  {
   "cell_type": "code",
   "execution_count": 21,
   "id": "08713c7a",
   "metadata": {},
   "outputs": [
    {
     "name": "stderr",
     "output_type": "stream",
     "text": [
      "C:\\Users\\asgar\\AppData\\Local\\Temp\\ipykernel_3428\\39028658.py:1: SettingWithCopyWarning: \n",
      "A value is trying to be set on a copy of a slice from a DataFrame.\n",
      "Try using .loc[row_indexer,col_indexer] = value instead\n",
      "\n",
      "See the caveats in the documentation: https://pandas.pydata.org/pandas-docs/stable/user_guide/indexing.html#returning-a-view-versus-a-copy\n",
      "  brandenburg_df['pets_allowed']=brandenburg_df['pets_allowed'].fillna('no')\n"
     ]
    }
   ],
   "source": [
    "brandenburg_df['pets_allowed']=brandenburg_df['pets_allowed'].fillna('no') \n",
    "# I assume the value is \"no\" if there is not data for pet_allowed"
   ]
  },
  {
   "cell_type": "code",
   "execution_count": 22,
   "id": "09e3ac9f",
   "metadata": {},
   "outputs": [
    {
     "name": "stdout",
     "output_type": "stream",
     "text": [
      "land                 0\n",
      "city                 0\n",
      "balcony              0\n",
      "living_space         0\n",
      "total_rent           0\n",
      "service_charge       0\n",
      "base_rent            0\n",
      "lift                 0\n",
      "pets_allowed         0\n",
      "floor              792\n",
      "no_rooms             0\n",
      "garden               0\n",
      "cellar               0\n",
      "noParkSpaces      4473\n",
      "dtype: int64\n"
     ]
    },
    {
     "data": {
      "text/plain": [
       "(6606, 14)"
      ]
     },
     "execution_count": 22,
     "metadata": {},
     "output_type": "execute_result"
    }
   ],
   "source": [
    "print(brandenburg_df.isna().sum())\n",
    "brandenburg_df.shape"
   ]
  },
  {
   "cell_type": "code",
   "execution_count": 23,
   "id": "85207012",
   "metadata": {},
   "outputs": [],
   "source": [
    "brandenburg_df=brandenburg_df.dropna(subset=['floor']) \n",
    "# dropping NaN rows from floor as we can not calculate/assume floors"
   ]
  },
  {
   "cell_type": "code",
   "execution_count": 24,
   "id": "00c5f2eb",
   "metadata": {},
   "outputs": [],
   "source": [
    "brandenburg_df['noParkSpaces']=brandenburg_df['noParkSpaces'].fillna('0') \n",
    "# I assume the value is \"no\" if there is not data for parkSpaces"
   ]
  },
  {
   "cell_type": "code",
   "execution_count": 25,
   "id": "39995976",
   "metadata": {},
   "outputs": [
    {
     "name": "stdout",
     "output_type": "stream",
     "text": [
      "land              0\n",
      "city              0\n",
      "balcony           0\n",
      "living_space      0\n",
      "total_rent        0\n",
      "service_charge    0\n",
      "base_rent         0\n",
      "lift              0\n",
      "pets_allowed      0\n",
      "floor             0\n",
      "no_rooms          0\n",
      "garden            0\n",
      "cellar            0\n",
      "noParkSpaces      0\n",
      "dtype: int64\n"
     ]
    },
    {
     "data": {
      "text/plain": [
       "(5814, 14)"
      ]
     },
     "execution_count": 25,
     "metadata": {},
     "output_type": "execute_result"
    }
   ],
   "source": [
    "print(brandenburg_df.isna().sum())\n",
    "brandenburg_df.shape"
   ]
  },
  {
   "cell_type": "code",
   "execution_count": 26,
   "id": "23f71278",
   "metadata": {},
   "outputs": [
    {
     "data": {
      "text/html": [
       "<div>\n",
       "<style scoped>\n",
       "    .dataframe tbody tr th:only-of-type {\n",
       "        vertical-align: middle;\n",
       "    }\n",
       "\n",
       "    .dataframe tbody tr th {\n",
       "        vertical-align: top;\n",
       "    }\n",
       "\n",
       "    .dataframe thead th {\n",
       "        text-align: right;\n",
       "    }\n",
       "</style>\n",
       "<table border=\"1\" class=\"dataframe\">\n",
       "  <thead>\n",
       "    <tr style=\"text-align: right;\">\n",
       "      <th></th>\n",
       "      <th>count</th>\n",
       "      <th>mean</th>\n",
       "      <th>std</th>\n",
       "      <th>min</th>\n",
       "      <th>25%</th>\n",
       "      <th>50%</th>\n",
       "      <th>75%</th>\n",
       "      <th>max</th>\n",
       "    </tr>\n",
       "  </thead>\n",
       "  <tbody>\n",
       "    <tr>\n",
       "      <th>living_space</th>\n",
       "      <td>5814.0</td>\n",
       "      <td>70.200967</td>\n",
       "      <td>116.202376</td>\n",
       "      <td>0.00</td>\n",
       "      <td>54.1475</td>\n",
       "      <td>62.41</td>\n",
       "      <td>78.060</td>\n",
       "      <td>8684.0</td>\n",
       "    </tr>\n",
       "    <tr>\n",
       "      <th>total_rent</th>\n",
       "      <td>5814.0</td>\n",
       "      <td>633.807699</td>\n",
       "      <td>390.317492</td>\n",
       "      <td>7.55</td>\n",
       "      <td>403.9250</td>\n",
       "      <td>511.27</td>\n",
       "      <td>756.460</td>\n",
       "      <td>8430.0</td>\n",
       "    </tr>\n",
       "    <tr>\n",
       "      <th>service_charge</th>\n",
       "      <td>5814.0</td>\n",
       "      <td>132.630095</td>\n",
       "      <td>76.626433</td>\n",
       "      <td>0.00</td>\n",
       "      <td>78.5925</td>\n",
       "      <td>120.00</td>\n",
       "      <td>166.915</td>\n",
       "      <td>1580.0</td>\n",
       "    </tr>\n",
       "    <tr>\n",
       "      <th>base_rent</th>\n",
       "      <td>5814.0</td>\n",
       "      <td>501.177604</td>\n",
       "      <td>335.605243</td>\n",
       "      <td>5.90</td>\n",
       "      <td>301.1200</td>\n",
       "      <td>390.00</td>\n",
       "      <td>610.000</td>\n",
       "      <td>6850.0</td>\n",
       "    </tr>\n",
       "    <tr>\n",
       "      <th>floor</th>\n",
       "      <td>5814.0</td>\n",
       "      <td>2.139319</td>\n",
       "      <td>2.012995</td>\n",
       "      <td>-1.00</td>\n",
       "      <td>1.0000</td>\n",
       "      <td>2.00</td>\n",
       "      <td>3.000</td>\n",
       "      <td>99.0</td>\n",
       "    </tr>\n",
       "    <tr>\n",
       "      <th>no_rooms</th>\n",
       "      <td>5814.0</td>\n",
       "      <td>2.589233</td>\n",
       "      <td>1.093795</td>\n",
       "      <td>1.00</td>\n",
       "      <td>2.0000</td>\n",
       "      <td>3.00</td>\n",
       "      <td>3.000</td>\n",
       "      <td>50.0</td>\n",
       "    </tr>\n",
       "  </tbody>\n",
       "</table>\n",
       "</div>"
      ],
      "text/plain": [
       "                 count        mean         std   min       25%     50%  \\\n",
       "living_space    5814.0   70.200967  116.202376  0.00   54.1475   62.41   \n",
       "total_rent      5814.0  633.807699  390.317492  7.55  403.9250  511.27   \n",
       "service_charge  5814.0  132.630095   76.626433  0.00   78.5925  120.00   \n",
       "base_rent       5814.0  501.177604  335.605243  5.90  301.1200  390.00   \n",
       "floor           5814.0    2.139319    2.012995 -1.00    1.0000    2.00   \n",
       "no_rooms        5814.0    2.589233    1.093795  1.00    2.0000    3.00   \n",
       "\n",
       "                    75%     max  \n",
       "living_space     78.060  8684.0  \n",
       "total_rent      756.460  8430.0  \n",
       "service_charge  166.915  1580.0  \n",
       "base_rent       610.000  6850.0  \n",
       "floor             3.000    99.0  \n",
       "no_rooms          3.000    50.0  "
      ]
     },
     "execution_count": 26,
     "metadata": {},
     "output_type": "execute_result"
    }
   ],
   "source": [
    "brandenburg_df.describe().T"
   ]
  },
  {
   "cell_type": "code",
   "execution_count": 27,
   "id": "2d986809",
   "metadata": {},
   "outputs": [
    {
     "data": {
      "text/html": [
       "<div>\n",
       "<style scoped>\n",
       "    .dataframe tbody tr th:only-of-type {\n",
       "        vertical-align: middle;\n",
       "    }\n",
       "\n",
       "    .dataframe tbody tr th {\n",
       "        vertical-align: top;\n",
       "    }\n",
       "\n",
       "    .dataframe thead th {\n",
       "        text-align: right;\n",
       "    }\n",
       "</style>\n",
       "<table border=\"1\" class=\"dataframe\">\n",
       "  <thead>\n",
       "    <tr style=\"text-align: right;\">\n",
       "      <th></th>\n",
       "      <th>land</th>\n",
       "      <th>city</th>\n",
       "      <th>balcony</th>\n",
       "      <th>living_space</th>\n",
       "      <th>total_rent</th>\n",
       "      <th>service_charge</th>\n",
       "      <th>base_rent</th>\n",
       "      <th>lift</th>\n",
       "      <th>pets_allowed</th>\n",
       "      <th>floor</th>\n",
       "      <th>no_rooms</th>\n",
       "      <th>garden</th>\n",
       "      <th>cellar</th>\n",
       "      <th>noParkSpaces</th>\n",
       "    </tr>\n",
       "  </thead>\n",
       "  <tbody>\n",
       "    <tr>\n",
       "      <th>50</th>\n",
       "      <td>Brandenburg</td>\n",
       "      <td>Oder_Spree_Kreis</td>\n",
       "      <td>True</td>\n",
       "      <td>36.29</td>\n",
       "      <td>335.00</td>\n",
       "      <td>50.00</td>\n",
       "      <td>285.00</td>\n",
       "      <td>True</td>\n",
       "      <td>negotiable</td>\n",
       "      <td>1.0</td>\n",
       "      <td>1.0</td>\n",
       "      <td>False</td>\n",
       "      <td>True</td>\n",
       "      <td>0</td>\n",
       "    </tr>\n",
       "    <tr>\n",
       "      <th>114</th>\n",
       "      <td>Brandenburg</td>\n",
       "      <td>Märkisch_Oderland_Kreis</td>\n",
       "      <td>True</td>\n",
       "      <td>60.71</td>\n",
       "      <td>365.00</td>\n",
       "      <td>65.00</td>\n",
       "      <td>300.00</td>\n",
       "      <td>False</td>\n",
       "      <td>no</td>\n",
       "      <td>0.0</td>\n",
       "      <td>2.0</td>\n",
       "      <td>False</td>\n",
       "      <td>True</td>\n",
       "      <td>0</td>\n",
       "    </tr>\n",
       "    <tr>\n",
       "      <th>136</th>\n",
       "      <td>Brandenburg</td>\n",
       "      <td>Brandenburg_an_der_Havel</td>\n",
       "      <td>True</td>\n",
       "      <td>67.80</td>\n",
       "      <td>590.00</td>\n",
       "      <td>170.00</td>\n",
       "      <td>420.00</td>\n",
       "      <td>True</td>\n",
       "      <td>yes</td>\n",
       "      <td>0.0</td>\n",
       "      <td>3.0</td>\n",
       "      <td>False</td>\n",
       "      <td>True</td>\n",
       "      <td>0</td>\n",
       "    </tr>\n",
       "    <tr>\n",
       "      <th>232</th>\n",
       "      <td>Brandenburg</td>\n",
       "      <td>Potsdam</td>\n",
       "      <td>True</td>\n",
       "      <td>88.00</td>\n",
       "      <td>1300.00</td>\n",
       "      <td>300.00</td>\n",
       "      <td>1000.00</td>\n",
       "      <td>True</td>\n",
       "      <td>negotiable</td>\n",
       "      <td>2.0</td>\n",
       "      <td>3.0</td>\n",
       "      <td>True</td>\n",
       "      <td>True</td>\n",
       "      <td>1.0</td>\n",
       "    </tr>\n",
       "    <tr>\n",
       "      <th>331</th>\n",
       "      <td>Brandenburg</td>\n",
       "      <td>Dahme_Spreewald_Kreis</td>\n",
       "      <td>True</td>\n",
       "      <td>69.00</td>\n",
       "      <td>520.00</td>\n",
       "      <td>150.00</td>\n",
       "      <td>370.00</td>\n",
       "      <td>False</td>\n",
       "      <td>negotiable</td>\n",
       "      <td>2.0</td>\n",
       "      <td>2.0</td>\n",
       "      <td>True</td>\n",
       "      <td>True</td>\n",
       "      <td>1.0</td>\n",
       "    </tr>\n",
       "    <tr>\n",
       "      <th>...</th>\n",
       "      <td>...</td>\n",
       "      <td>...</td>\n",
       "      <td>...</td>\n",
       "      <td>...</td>\n",
       "      <td>...</td>\n",
       "      <td>...</td>\n",
       "      <td>...</td>\n",
       "      <td>...</td>\n",
       "      <td>...</td>\n",
       "      <td>...</td>\n",
       "      <td>...</td>\n",
       "      <td>...</td>\n",
       "      <td>...</td>\n",
       "      <td>...</td>\n",
       "    </tr>\n",
       "    <tr>\n",
       "      <th>268640</th>\n",
       "      <td>Brandenburg</td>\n",
       "      <td>Märkisch_Oderland_Kreis</td>\n",
       "      <td>True</td>\n",
       "      <td>58.78</td>\n",
       "      <td>385.00</td>\n",
       "      <td>50.00</td>\n",
       "      <td>335.00</td>\n",
       "      <td>False</td>\n",
       "      <td>no</td>\n",
       "      <td>0.0</td>\n",
       "      <td>2.0</td>\n",
       "      <td>False</td>\n",
       "      <td>True</td>\n",
       "      <td>0</td>\n",
       "    </tr>\n",
       "    <tr>\n",
       "      <th>268659</th>\n",
       "      <td>Brandenburg</td>\n",
       "      <td>Elbe_Elster_Kreis</td>\n",
       "      <td>True</td>\n",
       "      <td>32.86</td>\n",
       "      <td>237.33</td>\n",
       "      <td>53.97</td>\n",
       "      <td>183.36</td>\n",
       "      <td>False</td>\n",
       "      <td>negotiable</td>\n",
       "      <td>1.0</td>\n",
       "      <td>1.0</td>\n",
       "      <td>False</td>\n",
       "      <td>False</td>\n",
       "      <td>0</td>\n",
       "    </tr>\n",
       "    <tr>\n",
       "      <th>268799</th>\n",
       "      <td>Brandenburg</td>\n",
       "      <td>Oberspreewald_Lausitz_Kreis</td>\n",
       "      <td>True</td>\n",
       "      <td>105.00</td>\n",
       "      <td>630.00</td>\n",
       "      <td>105.00</td>\n",
       "      <td>525.00</td>\n",
       "      <td>False</td>\n",
       "      <td>negotiable</td>\n",
       "      <td>1.0</td>\n",
       "      <td>2.0</td>\n",
       "      <td>False</td>\n",
       "      <td>True</td>\n",
       "      <td>0</td>\n",
       "    </tr>\n",
       "    <tr>\n",
       "      <th>268802</th>\n",
       "      <td>Brandenburg</td>\n",
       "      <td>Ostprignitz_Ruppin_Kreis</td>\n",
       "      <td>True</td>\n",
       "      <td>73.00</td>\n",
       "      <td>710.00</td>\n",
       "      <td>215.00</td>\n",
       "      <td>495.00</td>\n",
       "      <td>False</td>\n",
       "      <td>negotiable</td>\n",
       "      <td>1.0</td>\n",
       "      <td>2.0</td>\n",
       "      <td>True</td>\n",
       "      <td>True</td>\n",
       "      <td>0</td>\n",
       "    </tr>\n",
       "    <tr>\n",
       "      <th>268810</th>\n",
       "      <td>Brandenburg</td>\n",
       "      <td>Oder_Spree_Kreis</td>\n",
       "      <td>False</td>\n",
       "      <td>52.00</td>\n",
       "      <td>432.00</td>\n",
       "      <td>110.00</td>\n",
       "      <td>322.00</td>\n",
       "      <td>False</td>\n",
       "      <td>yes</td>\n",
       "      <td>2.0</td>\n",
       "      <td>2.0</td>\n",
       "      <td>True</td>\n",
       "      <td>False</td>\n",
       "      <td>2.0</td>\n",
       "    </tr>\n",
       "  </tbody>\n",
       "</table>\n",
       "<p>5814 rows × 14 columns</p>\n",
       "</div>"
      ],
      "text/plain": [
       "               land                         city  balcony  living_space  \\\n",
       "50      Brandenburg             Oder_Spree_Kreis     True         36.29   \n",
       "114     Brandenburg      Märkisch_Oderland_Kreis     True         60.71   \n",
       "136     Brandenburg     Brandenburg_an_der_Havel     True         67.80   \n",
       "232     Brandenburg                      Potsdam     True         88.00   \n",
       "331     Brandenburg        Dahme_Spreewald_Kreis     True         69.00   \n",
       "...             ...                          ...      ...           ...   \n",
       "268640  Brandenburg      Märkisch_Oderland_Kreis     True         58.78   \n",
       "268659  Brandenburg            Elbe_Elster_Kreis     True         32.86   \n",
       "268799  Brandenburg  Oberspreewald_Lausitz_Kreis     True        105.00   \n",
       "268802  Brandenburg     Ostprignitz_Ruppin_Kreis     True         73.00   \n",
       "268810  Brandenburg             Oder_Spree_Kreis    False         52.00   \n",
       "\n",
       "        total_rent  service_charge  base_rent   lift pets_allowed  floor  \\\n",
       "50          335.00           50.00     285.00   True   negotiable    1.0   \n",
       "114         365.00           65.00     300.00  False           no    0.0   \n",
       "136         590.00          170.00     420.00   True          yes    0.0   \n",
       "232        1300.00          300.00    1000.00   True   negotiable    2.0   \n",
       "331         520.00          150.00     370.00  False   negotiable    2.0   \n",
       "...            ...             ...        ...    ...          ...    ...   \n",
       "268640      385.00           50.00     335.00  False           no    0.0   \n",
       "268659      237.33           53.97     183.36  False   negotiable    1.0   \n",
       "268799      630.00          105.00     525.00  False   negotiable    1.0   \n",
       "268802      710.00          215.00     495.00  False   negotiable    1.0   \n",
       "268810      432.00          110.00     322.00  False          yes    2.0   \n",
       "\n",
       "        no_rooms  garden  cellar noParkSpaces  \n",
       "50           1.0   False    True            0  \n",
       "114          2.0   False    True            0  \n",
       "136          3.0   False    True            0  \n",
       "232          3.0    True    True          1.0  \n",
       "331          2.0    True    True          1.0  \n",
       "...          ...     ...     ...          ...  \n",
       "268640       2.0   False    True            0  \n",
       "268659       1.0   False   False            0  \n",
       "268799       2.0   False    True            0  \n",
       "268802       2.0    True    True            0  \n",
       "268810       2.0    True   False          2.0  \n",
       "\n",
       "[5814 rows x 14 columns]"
      ]
     },
     "execution_count": 27,
     "metadata": {},
     "output_type": "execute_result"
    }
   ],
   "source": [
    "brandenburg_df"
   ]
  },
  {
   "cell_type": "code",
   "execution_count": 28,
   "id": "c41db471",
   "metadata": {},
   "outputs": [
    {
     "data": {
      "text/html": [
       "<div>\n",
       "<style scoped>\n",
       "    .dataframe tbody tr th:only-of-type {\n",
       "        vertical-align: middle;\n",
       "    }\n",
       "\n",
       "    .dataframe tbody tr th {\n",
       "        vertical-align: top;\n",
       "    }\n",
       "\n",
       "    .dataframe thead th {\n",
       "        text-align: right;\n",
       "    }\n",
       "</style>\n",
       "<table border=\"1\" class=\"dataframe\">\n",
       "  <thead>\n",
       "    <tr style=\"text-align: right;\">\n",
       "      <th></th>\n",
       "      <th>living_space</th>\n",
       "      <th>total_rent</th>\n",
       "      <th>service_charge</th>\n",
       "      <th>base_rent</th>\n",
       "      <th>floor</th>\n",
       "      <th>no_rooms</th>\n",
       "    </tr>\n",
       "  </thead>\n",
       "  <tbody>\n",
       "    <tr>\n",
       "      <th>50</th>\n",
       "      <td>36.29</td>\n",
       "      <td>335.00</td>\n",
       "      <td>50.00</td>\n",
       "      <td>285.00</td>\n",
       "      <td>1.0</td>\n",
       "      <td>1.0</td>\n",
       "    </tr>\n",
       "    <tr>\n",
       "      <th>114</th>\n",
       "      <td>60.71</td>\n",
       "      <td>365.00</td>\n",
       "      <td>65.00</td>\n",
       "      <td>300.00</td>\n",
       "      <td>0.0</td>\n",
       "      <td>2.0</td>\n",
       "    </tr>\n",
       "    <tr>\n",
       "      <th>136</th>\n",
       "      <td>67.80</td>\n",
       "      <td>590.00</td>\n",
       "      <td>170.00</td>\n",
       "      <td>420.00</td>\n",
       "      <td>0.0</td>\n",
       "      <td>3.0</td>\n",
       "    </tr>\n",
       "    <tr>\n",
       "      <th>232</th>\n",
       "      <td>88.00</td>\n",
       "      <td>1300.00</td>\n",
       "      <td>300.00</td>\n",
       "      <td>1000.00</td>\n",
       "      <td>2.0</td>\n",
       "      <td>3.0</td>\n",
       "    </tr>\n",
       "    <tr>\n",
       "      <th>331</th>\n",
       "      <td>69.00</td>\n",
       "      <td>520.00</td>\n",
       "      <td>150.00</td>\n",
       "      <td>370.00</td>\n",
       "      <td>2.0</td>\n",
       "      <td>2.0</td>\n",
       "    </tr>\n",
       "    <tr>\n",
       "      <th>...</th>\n",
       "      <td>...</td>\n",
       "      <td>...</td>\n",
       "      <td>...</td>\n",
       "      <td>...</td>\n",
       "      <td>...</td>\n",
       "      <td>...</td>\n",
       "    </tr>\n",
       "    <tr>\n",
       "      <th>268640</th>\n",
       "      <td>58.78</td>\n",
       "      <td>385.00</td>\n",
       "      <td>50.00</td>\n",
       "      <td>335.00</td>\n",
       "      <td>0.0</td>\n",
       "      <td>2.0</td>\n",
       "    </tr>\n",
       "    <tr>\n",
       "      <th>268659</th>\n",
       "      <td>32.86</td>\n",
       "      <td>237.33</td>\n",
       "      <td>53.97</td>\n",
       "      <td>183.36</td>\n",
       "      <td>1.0</td>\n",
       "      <td>1.0</td>\n",
       "    </tr>\n",
       "    <tr>\n",
       "      <th>268799</th>\n",
       "      <td>105.00</td>\n",
       "      <td>630.00</td>\n",
       "      <td>105.00</td>\n",
       "      <td>525.00</td>\n",
       "      <td>1.0</td>\n",
       "      <td>2.0</td>\n",
       "    </tr>\n",
       "    <tr>\n",
       "      <th>268802</th>\n",
       "      <td>73.00</td>\n",
       "      <td>710.00</td>\n",
       "      <td>215.00</td>\n",
       "      <td>495.00</td>\n",
       "      <td>1.0</td>\n",
       "      <td>2.0</td>\n",
       "    </tr>\n",
       "    <tr>\n",
       "      <th>268810</th>\n",
       "      <td>52.00</td>\n",
       "      <td>432.00</td>\n",
       "      <td>110.00</td>\n",
       "      <td>322.00</td>\n",
       "      <td>2.0</td>\n",
       "      <td>2.0</td>\n",
       "    </tr>\n",
       "  </tbody>\n",
       "</table>\n",
       "<p>5814 rows × 6 columns</p>\n",
       "</div>"
      ],
      "text/plain": [
       "        living_space  total_rent  service_charge  base_rent  floor  no_rooms\n",
       "50             36.29      335.00           50.00     285.00    1.0       1.0\n",
       "114            60.71      365.00           65.00     300.00    0.0       2.0\n",
       "136            67.80      590.00          170.00     420.00    0.0       3.0\n",
       "232            88.00     1300.00          300.00    1000.00    2.0       3.0\n",
       "331            69.00      520.00          150.00     370.00    2.0       2.0\n",
       "...              ...         ...             ...        ...    ...       ...\n",
       "268640         58.78      385.00           50.00     335.00    0.0       2.0\n",
       "268659         32.86      237.33           53.97     183.36    1.0       1.0\n",
       "268799        105.00      630.00          105.00     525.00    1.0       2.0\n",
       "268802         73.00      710.00          215.00     495.00    1.0       2.0\n",
       "268810         52.00      432.00          110.00     322.00    2.0       2.0\n",
       "\n",
       "[5814 rows x 6 columns]"
      ]
     },
     "execution_count": 28,
     "metadata": {},
     "output_type": "execute_result"
    }
   ],
   "source": [
    "import numpy as np\n",
    "brandenburg_df.select_dtypes(include=np.number)"
   ]
  },
  {
   "cell_type": "code",
   "execution_count": 29,
   "id": "e7ed25ba",
   "metadata": {},
   "outputs": [
    {
     "name": "stdout",
     "output_type": "stream",
     "text": [
      "<class 'pandas.core.frame.DataFrame'>\n",
      "Int64Index: 5814 entries, 50 to 268810\n",
      "Data columns (total 14 columns):\n",
      " #   Column          Non-Null Count  Dtype  \n",
      "---  ------          --------------  -----  \n",
      " 0   land            5814 non-null   object \n",
      " 1   city            5814 non-null   object \n",
      " 2   balcony         5814 non-null   bool   \n",
      " 3   living_space    5814 non-null   float64\n",
      " 4   total_rent      5814 non-null   float64\n",
      " 5   service_charge  5814 non-null   float64\n",
      " 6   base_rent       5814 non-null   float64\n",
      " 7   lift            5814 non-null   bool   \n",
      " 8   pets_allowed    5814 non-null   object \n",
      " 9   floor           5814 non-null   float64\n",
      " 10  no_rooms        5814 non-null   float64\n",
      " 11  garden          5814 non-null   bool   \n",
      " 12  cellar          5814 non-null   bool   \n",
      " 13  noParkSpaces    5814 non-null   object \n",
      "dtypes: bool(4), float64(6), object(4)\n",
      "memory usage: 522.4+ KB\n"
     ]
    }
   ],
   "source": [
    "brandenburg_df.info()"
   ]
  },
  {
   "cell_type": "code",
   "execution_count": 30,
   "id": "ea775299",
   "metadata": {},
   "outputs": [],
   "source": [
    "brandenburg_df[\"noParkSpaces\"] = pd.to_numeric(brandenburg_df[\"noParkSpaces\"])\n",
    "#converting 'noParkSpaces' to numerics"
   ]
  },
  {
   "cell_type": "code",
   "execution_count": 31,
   "id": "7b6f26b6",
   "metadata": {
    "scrolled": true
   },
   "outputs": [
    {
     "name": "stdout",
     "output_type": "stream",
     "text": [
      "<class 'pandas.core.frame.DataFrame'>\n",
      "Int64Index: 5814 entries, 50 to 268810\n",
      "Data columns (total 14 columns):\n",
      " #   Column          Non-Null Count  Dtype  \n",
      "---  ------          --------------  -----  \n",
      " 0   land            5814 non-null   object \n",
      " 1   city            5814 non-null   object \n",
      " 2   balcony         5814 non-null   bool   \n",
      " 3   living_space    5814 non-null   float64\n",
      " 4   total_rent      5814 non-null   float64\n",
      " 5   service_charge  5814 non-null   float64\n",
      " 6   base_rent       5814 non-null   float64\n",
      " 7   lift            5814 non-null   bool   \n",
      " 8   pets_allowed    5814 non-null   object \n",
      " 9   floor           5814 non-null   float64\n",
      " 10  no_rooms        5814 non-null   float64\n",
      " 11  garden          5814 non-null   bool   \n",
      " 12  cellar          5814 non-null   bool   \n",
      " 13  noParkSpaces    5814 non-null   float64\n",
      "dtypes: bool(4), float64(7), object(3)\n",
      "memory usage: 522.4+ KB\n"
     ]
    }
   ],
   "source": [
    "brandenburg_df.info()"
   ]
  },
  {
   "cell_type": "code",
   "execution_count": 32,
   "id": "3177f6c1",
   "metadata": {},
   "outputs": [],
   "source": [
    "brandenburg_df=brandenburg_df.reset_index(drop=True) # restting the index"
   ]
  },
  {
   "cell_type": "markdown",
   "id": "b6c683fb",
   "metadata": {},
   "source": [
    "## Cleaning Data"
   ]
  },
  {
   "cell_type": "markdown",
   "id": "a1437557",
   "metadata": {},
   "source": [
    "### Numerical Columns"
   ]
  },
  {
   "cell_type": "code",
   "execution_count": 33,
   "id": "4241c0c1",
   "metadata": {},
   "outputs": [],
   "source": [
    "import matplotlib.pyplot as plt\n",
    "import seaborn as sns"
   ]
  },
  {
   "cell_type": "code",
   "execution_count": 34,
   "id": "ec4d8433",
   "metadata": {
    "scrolled": true
   },
   "outputs": [
    {
     "data": {
      "text/html": [
       "<div>\n",
       "<style scoped>\n",
       "    .dataframe tbody tr th:only-of-type {\n",
       "        vertical-align: middle;\n",
       "    }\n",
       "\n",
       "    .dataframe tbody tr th {\n",
       "        vertical-align: top;\n",
       "    }\n",
       "\n",
       "    .dataframe thead th {\n",
       "        text-align: right;\n",
       "    }\n",
       "</style>\n",
       "<table border=\"1\" class=\"dataframe\">\n",
       "  <thead>\n",
       "    <tr style=\"text-align: right;\">\n",
       "      <th></th>\n",
       "      <th>living_space</th>\n",
       "      <th>total_rent</th>\n",
       "      <th>service_charge</th>\n",
       "      <th>base_rent</th>\n",
       "      <th>floor</th>\n",
       "      <th>no_rooms</th>\n",
       "      <th>noParkSpaces</th>\n",
       "    </tr>\n",
       "  </thead>\n",
       "  <tbody>\n",
       "    <tr>\n",
       "      <th>0</th>\n",
       "      <td>36.29</td>\n",
       "      <td>335.00</td>\n",
       "      <td>50.00</td>\n",
       "      <td>285.00</td>\n",
       "      <td>1.0</td>\n",
       "      <td>1.0</td>\n",
       "      <td>0.0</td>\n",
       "    </tr>\n",
       "    <tr>\n",
       "      <th>1</th>\n",
       "      <td>60.71</td>\n",
       "      <td>365.00</td>\n",
       "      <td>65.00</td>\n",
       "      <td>300.00</td>\n",
       "      <td>0.0</td>\n",
       "      <td>2.0</td>\n",
       "      <td>0.0</td>\n",
       "    </tr>\n",
       "    <tr>\n",
       "      <th>2</th>\n",
       "      <td>67.80</td>\n",
       "      <td>590.00</td>\n",
       "      <td>170.00</td>\n",
       "      <td>420.00</td>\n",
       "      <td>0.0</td>\n",
       "      <td>3.0</td>\n",
       "      <td>0.0</td>\n",
       "    </tr>\n",
       "    <tr>\n",
       "      <th>3</th>\n",
       "      <td>88.00</td>\n",
       "      <td>1300.00</td>\n",
       "      <td>300.00</td>\n",
       "      <td>1000.00</td>\n",
       "      <td>2.0</td>\n",
       "      <td>3.0</td>\n",
       "      <td>1.0</td>\n",
       "    </tr>\n",
       "    <tr>\n",
       "      <th>4</th>\n",
       "      <td>69.00</td>\n",
       "      <td>520.00</td>\n",
       "      <td>150.00</td>\n",
       "      <td>370.00</td>\n",
       "      <td>2.0</td>\n",
       "      <td>2.0</td>\n",
       "      <td>1.0</td>\n",
       "    </tr>\n",
       "    <tr>\n",
       "      <th>...</th>\n",
       "      <td>...</td>\n",
       "      <td>...</td>\n",
       "      <td>...</td>\n",
       "      <td>...</td>\n",
       "      <td>...</td>\n",
       "      <td>...</td>\n",
       "      <td>...</td>\n",
       "    </tr>\n",
       "    <tr>\n",
       "      <th>5809</th>\n",
       "      <td>58.78</td>\n",
       "      <td>385.00</td>\n",
       "      <td>50.00</td>\n",
       "      <td>335.00</td>\n",
       "      <td>0.0</td>\n",
       "      <td>2.0</td>\n",
       "      <td>0.0</td>\n",
       "    </tr>\n",
       "    <tr>\n",
       "      <th>5810</th>\n",
       "      <td>32.86</td>\n",
       "      <td>237.33</td>\n",
       "      <td>53.97</td>\n",
       "      <td>183.36</td>\n",
       "      <td>1.0</td>\n",
       "      <td>1.0</td>\n",
       "      <td>0.0</td>\n",
       "    </tr>\n",
       "    <tr>\n",
       "      <th>5811</th>\n",
       "      <td>105.00</td>\n",
       "      <td>630.00</td>\n",
       "      <td>105.00</td>\n",
       "      <td>525.00</td>\n",
       "      <td>1.0</td>\n",
       "      <td>2.0</td>\n",
       "      <td>0.0</td>\n",
       "    </tr>\n",
       "    <tr>\n",
       "      <th>5812</th>\n",
       "      <td>73.00</td>\n",
       "      <td>710.00</td>\n",
       "      <td>215.00</td>\n",
       "      <td>495.00</td>\n",
       "      <td>1.0</td>\n",
       "      <td>2.0</td>\n",
       "      <td>0.0</td>\n",
       "    </tr>\n",
       "    <tr>\n",
       "      <th>5813</th>\n",
       "      <td>52.00</td>\n",
       "      <td>432.00</td>\n",
       "      <td>110.00</td>\n",
       "      <td>322.00</td>\n",
       "      <td>2.0</td>\n",
       "      <td>2.0</td>\n",
       "      <td>2.0</td>\n",
       "    </tr>\n",
       "  </tbody>\n",
       "</table>\n",
       "<p>5814 rows × 7 columns</p>\n",
       "</div>"
      ],
      "text/plain": [
       "      living_space  total_rent  service_charge  base_rent  floor  no_rooms  \\\n",
       "0            36.29      335.00           50.00     285.00    1.0       1.0   \n",
       "1            60.71      365.00           65.00     300.00    0.0       2.0   \n",
       "2            67.80      590.00          170.00     420.00    0.0       3.0   \n",
       "3            88.00     1300.00          300.00    1000.00    2.0       3.0   \n",
       "4            69.00      520.00          150.00     370.00    2.0       2.0   \n",
       "...            ...         ...             ...        ...    ...       ...   \n",
       "5809         58.78      385.00           50.00     335.00    0.0       2.0   \n",
       "5810         32.86      237.33           53.97     183.36    1.0       1.0   \n",
       "5811        105.00      630.00          105.00     525.00    1.0       2.0   \n",
       "5812         73.00      710.00          215.00     495.00    1.0       2.0   \n",
       "5813         52.00      432.00          110.00     322.00    2.0       2.0   \n",
       "\n",
       "      noParkSpaces  \n",
       "0              0.0  \n",
       "1              0.0  \n",
       "2              0.0  \n",
       "3              1.0  \n",
       "4              1.0  \n",
       "...            ...  \n",
       "5809           0.0  \n",
       "5810           0.0  \n",
       "5811           0.0  \n",
       "5812           0.0  \n",
       "5813           2.0  \n",
       "\n",
       "[5814 rows x 7 columns]"
      ]
     },
     "execution_count": 34,
     "metadata": {},
     "output_type": "execute_result"
    }
   ],
   "source": [
    "import numpy as np\n",
    "brandenburg_df.select_dtypes(include=np.number)"
   ]
  },
  {
   "cell_type": "markdown",
   "id": "5dc6e511",
   "metadata": {},
   "source": [
    "Outliers in first view"
   ]
  },
  {
   "cell_type": "code",
   "execution_count": 35,
   "id": "c3a3528d",
   "metadata": {
    "scrolled": true
   },
   "outputs": [
    {
     "data": {
      "text/plain": [
       "Text(0.5, 1.0, 'noParkSpaces')"
      ]
     },
     "execution_count": 35,
     "metadata": {},
     "output_type": "execute_result"
    },
    {
     "data": {
      "image/png": "[encoded data removed]",
      "text/plain": [
       "<Figure size 800x1200 with 8 Axes>"
      ]
     },
     "metadata": {},
     "output_type": "display_data"
    }
   ],
   "source": [
    "fig,ax=plt.subplots(4,2,figsize=(8,12))\n",
    "ax[0,0].boxplot(x = 'living_space', data=brandenburg_df)\n",
    "ax[0,0].set_title('living_space')\n",
    "ax[0,1].boxplot(x = 'total_rent', data=brandenburg_df)\n",
    "ax[0,1].set_title('total_rent')\n",
    "ax[1,0].boxplot(x = 'service_charge', data=brandenburg_df)\n",
    "ax[1,0].set_title('service_charge')\n",
    "ax[1,1].boxplot(x = 'base_rent', data=brandenburg_df)\n",
    "ax[1,1].set_title('base_rent')\n",
    "ax[2,0].boxplot(x = 'floor', data=brandenburg_df)\n",
    "ax[2,0].set_title('floor')\n",
    "ax[2,1].boxplot(x = 'no_rooms', data=brandenburg_df)\n",
    "ax[2,1].set_title('no_rooms')\n",
    "ax[3,0].boxplot(x = 'noParkSpaces', data=brandenburg_df)\n",
    "ax[3,0].set_title('noParkSpaces')"
   ]
  },
  {
   "cell_type": "markdown",
   "id": "6d0d9087",
   "metadata": {},
   "source": [
    "###### column 'living_space'"
   ]
  },
  {
   "cell_type": "markdown",
   "id": "d7480e75",
   "metadata": {},
   "source": [
    "Removing outliers"
   ]
  },
  {
   "cell_type": "code",
   "execution_count": 36,
   "id": "eda1ff36",
   "metadata": {},
   "outputs": [
    {
     "name": "stdout",
     "output_type": "stream",
     "text": [
      "23.9125\n"
     ]
    }
   ],
   "source": [
    "Q1 = brandenburg_df['living_space'].quantile(0.25)\n",
    "Q3 = brandenburg_df['living_space'].quantile(0.75)\n",
    "IQR=Q3 - Q1\n",
    "print(IQR)"
   ]
  },
  {
   "cell_type": "code",
   "execution_count": 37,
   "id": "3af1d03c",
   "metadata": {},
   "outputs": [],
   "source": [
    "brandenburg_df=brandenburg_df[~((brandenburg_df['living_space']<(Q1-1.5*IQR)) | (brandenburg_df['living_space']>(Q3+1.5*IQR)))]"
   ]
  },
  {
   "cell_type": "code",
   "execution_count": 38,
   "id": "6e867061",
   "metadata": {},
   "outputs": [
    {
     "data": {
      "text/plain": [
       "<AxesSubplot:xlabel='living_space'>"
      ]
     },
     "execution_count": 38,
     "metadata": {},
     "output_type": "execute_result"
    },
    {
     "data": {
      "image/png": "[encoded data removed]",
      "text/plain": [
       "<Figure size 640x480 with 1 Axes>"
      ]
     },
     "metadata": {},
     "output_type": "display_data"
    }
   ],
   "source": [
    "sns.boxplot (x='living_space', data=brandenburg_df)"
   ]
  },
  {
   "cell_type": "code",
   "execution_count": 39,
   "id": "810e3a81",
   "metadata": {},
   "outputs": [
    {
     "data": {
      "text/plain": [
       "(5467, 14)"
      ]
     },
     "execution_count": 39,
     "metadata": {},
     "output_type": "execute_result"
    }
   ],
   "source": [
    "brandenburg_df.shape"
   ]
  },
  {
   "cell_type": "markdown",
   "id": "27a20331",
   "metadata": {},
   "source": [
    "###### column 'Total Rent'"
   ]
  },
  {
   "cell_type": "markdown",
   "id": "3024ee03",
   "metadata": {},
   "source": [
    "removing the outliers"
   ]
  },
  {
   "cell_type": "code",
   "execution_count": 40,
   "id": "936eb26f",
   "metadata": {},
   "outputs": [
    {
     "name": "stdout",
     "output_type": "stream",
     "text": [
      "295.0\n"
     ]
    }
   ],
   "source": [
    "Q1_t = brandenburg_df['total_rent'].quantile(0.25)\n",
    "Q3_t = brandenburg_df['total_rent'].quantile(0.75)\n",
    "IQR_t=Q3_t - Q1_t\n",
    "print(IQR_t)"
   ]
  },
  {
   "cell_type": "code",
   "execution_count": 41,
   "id": "dbb8cc68",
   "metadata": {},
   "outputs": [],
   "source": [
    "brandenburg_df=brandenburg_df[~((brandenburg_df['total_rent']<(Q1_t-1.5*IQR_t)) | (brandenburg_df['total_rent']>(Q3_t+1.5*IQR_t)))]"
   ]
  },
  {
   "cell_type": "code",
   "execution_count": 42,
   "id": "2310c4d8",
   "metadata": {},
   "outputs": [
    {
     "data": {
      "text/plain": [
       "<AxesSubplot:xlabel='total_rent'>"
      ]
     },
     "execution_count": 42,
     "metadata": {},
     "output_type": "execute_result"
    },
    {
     "data": {
      "image/png": "[encoded data removed]",
      "text/plain": [
       "<Figure size 640x480 with 1 Axes>"
      ]
     },
     "metadata": {},
     "output_type": "display_data"
    }
   ],
   "source": [
    "sns.boxplot (x='total_rent', data=brandenburg_df)"
   ]
  },
  {
   "cell_type": "code",
   "execution_count": 43,
   "id": "3e58815e",
   "metadata": {},
   "outputs": [
    {
     "data": {
      "text/plain": [
       "(5177, 14)"
      ]
     },
     "execution_count": 43,
     "metadata": {},
     "output_type": "execute_result"
    }
   ],
   "source": [
    "brandenburg_df.shape"
   ]
  },
  {
   "cell_type": "markdown",
   "id": "432ec262",
   "metadata": {},
   "source": [
    "I do not removie outliers from base_rent and service_charge as they are both dependent on total_rent.\n",
    "Checking again outliers for above columns."
   ]
  },
  {
   "cell_type": "markdown",
   "id": "a881d4c5",
   "metadata": {},
   "source": [
    "###### column 'floor'"
   ]
  },
  {
   "cell_type": "code",
   "execution_count": 44,
   "id": "d3fbcc3b",
   "metadata": {},
   "outputs": [
    {
     "data": {
      "text/plain": [
       "<AxesSubplot:xlabel='floor'>"
      ]
     },
     "execution_count": 44,
     "metadata": {},
     "output_type": "execute_result"
    },
    {
     "data": {
      "image/png": "[encoded data removed]",
      "text/plain": [
       "<Figure size 640x480 with 1 Axes>"
      ]
     },
     "metadata": {},
     "output_type": "display_data"
    }
   ],
   "source": [
    "sns.boxplot (x='floor', data=brandenburg_df)"
   ]
  },
  {
   "cell_type": "code",
   "execution_count": 45,
   "id": "5d0fdd87",
   "metadata": {
    "scrolled": true
   },
   "outputs": [
    {
     "data": {
      "text/plain": [
       " 1.0     1402\n",
       " 2.0     1314\n",
       " 3.0      968\n",
       " 4.0      614\n",
       " 0.0      564\n",
       " 5.0      218\n",
       " 6.0       39\n",
       " 8.0       13\n",
       " 9.0       12\n",
       " 7.0        8\n",
       " 12.0       7\n",
       " 11.0       6\n",
       " 10.0       4\n",
       "-1.0        4\n",
       " 20.0       1\n",
       " 13.0       1\n",
       " 16.0       1\n",
       " 14.0       1\n",
       "Name: floor, dtype: int64"
      ]
     },
     "execution_count": 45,
     "metadata": {},
     "output_type": "execute_result"
    }
   ],
   "source": [
    "brandenburg_df.floor.value_counts()"
   ]
  },
  {
   "cell_type": "code",
   "execution_count": 46,
   "id": "89052f3c",
   "metadata": {},
   "outputs": [],
   "source": [
    "Q1_f = 0\n",
    "Q3_f = 5"
   ]
  },
  {
   "cell_type": "code",
   "execution_count": 47,
   "id": "06c6ff84",
   "metadata": {},
   "outputs": [],
   "source": [
    "brandenburg_df=brandenburg_df[~((brandenburg_df['floor']<(Q1_f)) | (brandenburg_df['floor']>(Q3_f)))]"
   ]
  },
  {
   "cell_type": "code",
   "execution_count": 48,
   "id": "f8ac0cdb",
   "metadata": {},
   "outputs": [
    {
     "data": {
      "text/plain": [
       "<AxesSubplot:xlabel='floor'>"
      ]
     },
     "execution_count": 48,
     "metadata": {},
     "output_type": "execute_result"
    },
    {
     "data": {
      "image/png": "[encoded data removed]",
      "text/plain": [
       "<Figure size 640x480 with 1 Axes>"
      ]
     },
     "metadata": {},
     "output_type": "display_data"
    }
   ],
   "source": [
    "sns.boxplot (x='floor', data=brandenburg_df)"
   ]
  },
  {
   "cell_type": "code",
   "execution_count": 49,
   "id": "734ef88c",
   "metadata": {},
   "outputs": [
    {
     "data": {
      "text/plain": [
       "1.0    1402\n",
       "2.0    1314\n",
       "3.0     968\n",
       "4.0     614\n",
       "0.0     564\n",
       "5.0     218\n",
       "Name: floor, dtype: int64"
      ]
     },
     "execution_count": 49,
     "metadata": {},
     "output_type": "execute_result"
    }
   ],
   "source": [
    "brandenburg_df.floor.value_counts()"
   ]
  },
  {
   "cell_type": "markdown",
   "id": "66312409",
   "metadata": {},
   "source": [
    "###### column 'no_rooms'"
   ]
  },
  {
   "cell_type": "code",
   "execution_count": 50,
   "id": "bcf6fbfb",
   "metadata": {},
   "outputs": [
    {
     "data": {
      "text/plain": [
       "3.0     2050\n",
       "2.0     1895\n",
       "1.0      563\n",
       "4.0      346\n",
       "2.5       97\n",
       "1.5       47\n",
       "2.1       35\n",
       "3.5       26\n",
       "5.0       15\n",
       "3.1        1\n",
       "2.2        1\n",
       "50.0       1\n",
       "4.5        1\n",
       "1.1        1\n",
       "6.0        1\n",
       "Name: no_rooms, dtype: int64"
      ]
     },
     "execution_count": 50,
     "metadata": {},
     "output_type": "execute_result"
    }
   ],
   "source": [
    "brandenburg_df.no_rooms.value_counts()"
   ]
  },
  {
   "cell_type": "code",
   "execution_count": 51,
   "id": "486678d3",
   "metadata": {},
   "outputs": [
    {
     "data": {
      "text/plain": [
       "<AxesSubplot:xlabel='no_rooms'>"
      ]
     },
     "execution_count": 51,
     "metadata": {},
     "output_type": "execute_result"
    },
    {
     "data": {
      "image/png": "[encoded data removed]",
      "text/plain": [
       "<Figure size 640x480 with 1 Axes>"
      ]
     },
     "metadata": {},
     "output_type": "display_data"
    }
   ],
   "source": [
    "sns.boxplot (x='no_rooms', data=brandenburg_df)"
   ]
  },
  {
   "cell_type": "code",
   "execution_count": 52,
   "id": "01b90f4e",
   "metadata": {},
   "outputs": [],
   "source": [
    "Q1_r = -1\n",
    "Q3_r = 5.5"
   ]
  },
  {
   "cell_type": "code",
   "execution_count": 53,
   "id": "c3c4c0ac",
   "metadata": {},
   "outputs": [],
   "source": [
    "brandenburg_df=brandenburg_df[~((brandenburg_df['no_rooms']<(Q1_r)) | (brandenburg_df['no_rooms']>(Q3_r)))]"
   ]
  },
  {
   "cell_type": "code",
   "execution_count": 54,
   "id": "abb3d183",
   "metadata": {},
   "outputs": [
    {
     "data": {
      "text/plain": [
       "<AxesSubplot:xlabel='no_rooms'>"
      ]
     },
     "execution_count": 54,
     "metadata": {},
     "output_type": "execute_result"
    },
    {
     "data": {
      "image/png": "[encoded data removed]",
      "text/plain": [
       "<Figure size 640x480 with 1 Axes>"
      ]
     },
     "metadata": {},
     "output_type": "display_data"
    }
   ],
   "source": [
    "sns.boxplot (x='no_rooms', data=brandenburg_df)"
   ]
  },
  {
   "cell_type": "code",
   "execution_count": 55,
   "id": "3b90d903",
   "metadata": {
    "scrolled": true
   },
   "outputs": [
    {
     "data": {
      "text/plain": [
       "3.0    2050\n",
       "2.0    1895\n",
       "1.0     563\n",
       "4.0     346\n",
       "2.5      97\n",
       "1.5      47\n",
       "2.1      35\n",
       "3.5      26\n",
       "5.0      15\n",
       "3.1       1\n",
       "2.2       1\n",
       "4.5       1\n",
       "1.1       1\n",
       "Name: no_rooms, dtype: int64"
      ]
     },
     "execution_count": 55,
     "metadata": {},
     "output_type": "execute_result"
    }
   ],
   "source": [
    "brandenburg_df.no_rooms.value_counts()"
   ]
  },
  {
   "cell_type": "code",
   "execution_count": 56,
   "id": "4e9d9b6b",
   "metadata": {},
   "outputs": [
    {
     "name": "stdout",
     "output_type": "stream",
     "text": [
      "<class 'pandas.core.frame.DataFrame'>\n",
      "Int64Index: 5078 entries, 0 to 5813\n",
      "Data columns (total 14 columns):\n",
      " #   Column          Non-Null Count  Dtype  \n",
      "---  ------          --------------  -----  \n",
      " 0   land            5078 non-null   object \n",
      " 1   city            5078 non-null   object \n",
      " 2   balcony         5078 non-null   bool   \n",
      " 3   living_space    5078 non-null   float64\n",
      " 4   total_rent      5078 non-null   float64\n",
      " 5   service_charge  5078 non-null   float64\n",
      " 6   base_rent       5078 non-null   float64\n",
      " 7   lift            5078 non-null   bool   \n",
      " 8   pets_allowed    5078 non-null   object \n",
      " 9   floor           5078 non-null   float64\n",
      " 10  no_rooms        5078 non-null   float64\n",
      " 11  garden          5078 non-null   bool   \n",
      " 12  cellar          5078 non-null   bool   \n",
      " 13  noParkSpaces    5078 non-null   float64\n",
      "dtypes: bool(4), float64(7), object(3)\n",
      "memory usage: 456.2+ KB\n"
     ]
    }
   ],
   "source": [
    "brandenburg_df.info()"
   ]
  },
  {
   "cell_type": "code",
   "execution_count": 57,
   "id": "d9576795",
   "metadata": {},
   "outputs": [],
   "source": [
    "brandenburg_df['no_rooms'] = brandenburg_df['no_rooms'].replace([2.5,2.1,2.2,1.5,3.5,3.1,2.2,4.5,1.1], \n",
    "                                                                [3,2,2,1,3,3,2,4,1])"
   ]
  },
  {
   "cell_type": "code",
   "execution_count": 58,
   "id": "afb3f5f6",
   "metadata": {
    "scrolled": false
   },
   "outputs": [
    {
     "data": {
      "text/plain": [
       "3.0    2174\n",
       "2.0    1931\n",
       "1.0     611\n",
       "4.0     347\n",
       "5.0      15\n",
       "Name: no_rooms, dtype: int64"
      ]
     },
     "execution_count": 58,
     "metadata": {},
     "output_type": "execute_result"
    }
   ],
   "source": [
    "brandenburg_df.no_rooms.value_counts()"
   ]
  },
  {
   "cell_type": "markdown",
   "id": "4481e20d",
   "metadata": {},
   "source": [
    "###### column 'noParkSpaces'"
   ]
  },
  {
   "cell_type": "code",
   "execution_count": 59,
   "id": "7bc52559",
   "metadata": {
    "scrolled": true
   },
   "outputs": [
    {
     "data": {
      "text/plain": [
       "0.0     3730\n",
       "1.0     1235\n",
       "2.0       72\n",
       "23.0      19\n",
       "3.0        4\n",
       "10.0       4\n",
       "15.0       2\n",
       "5.0        2\n",
       "12.0       2\n",
       "16.0       1\n",
       "80.0       1\n",
       "18.0       1\n",
       "9.0        1\n",
       "17.0       1\n",
       "7.0        1\n",
       "30.0       1\n",
       "45.0       1\n",
       "Name: noParkSpaces, dtype: int64"
      ]
     },
     "execution_count": 59,
     "metadata": {},
     "output_type": "execute_result"
    }
   ],
   "source": [
    "brandenburg_df.noParkSpaces.value_counts()"
   ]
  },
  {
   "cell_type": "code",
   "execution_count": 60,
   "id": "9eb258cc",
   "metadata": {},
   "outputs": [],
   "source": [
    "Q1_s = 0\n",
    "Q3_s = 2"
   ]
  },
  {
   "cell_type": "code",
   "execution_count": 61,
   "id": "bcc04fa3",
   "metadata": {},
   "outputs": [],
   "source": [
    "brandenburg_df=brandenburg_df[~((brandenburg_df['noParkSpaces']<(Q1_s)) | (brandenburg_df['noParkSpaces']>(Q3_s)))]"
   ]
  },
  {
   "cell_type": "code",
   "execution_count": 62,
   "id": "0c133e49",
   "metadata": {},
   "outputs": [
    {
     "data": {
      "text/plain": [
       "0.0    3730\n",
       "1.0    1235\n",
       "2.0      72\n",
       "Name: noParkSpaces, dtype: int64"
      ]
     },
     "execution_count": 62,
     "metadata": {},
     "output_type": "execute_result"
    }
   ],
   "source": [
    "# removed outliers\n",
    "brandenburg_df.noParkSpaces.value_counts()"
   ]
  },
  {
   "cell_type": "markdown",
   "id": "f139d5fa",
   "metadata": {},
   "source": [
    "#### after all those processes , I check again all numerical columns"
   ]
  },
  {
   "cell_type": "code",
   "execution_count": 63,
   "id": "265b3452",
   "metadata": {},
   "outputs": [
    {
     "data": {
      "text/plain": [
       "Text(0.5, 1.0, 'noParkSpaces')"
      ]
     },
     "execution_count": 63,
     "metadata": {},
     "output_type": "execute_result"
    },
    {
     "data": {
      "image/png": "[encoded data removed]",
      "text/plain": [
       "<Figure size 800x1200 with 8 Axes>"
      ]
     },
     "metadata": {},
     "output_type": "display_data"
    }
   ],
   "source": [
    "fig,ax=plt.subplots(4,2,figsize=(8,12))\n",
    "ax[0,0].boxplot(x = 'living_space', data=brandenburg_df)\n",
    "ax[0,0].set_title('living_space')\n",
    "ax[0,1].boxplot(x = 'total_rent', data=brandenburg_df)\n",
    "ax[0,1].set_title('total_rent')\n",
    "ax[1,0].boxplot(x = 'service_charge', data=brandenburg_df)\n",
    "ax[1,0].set_title('service_charge')\n",
    "ax[1,1].boxplot(x = 'base_rent', data=brandenburg_df)\n",
    "ax[1,1].set_title('base_rent')\n",
    "ax[2,0].boxplot(x = 'floor', data=brandenburg_df)\n",
    "ax[2,0].set_title('floor')\n",
    "ax[2,1].boxplot(x = 'no_rooms', data=brandenburg_df)\n",
    "ax[2,1].set_title('no_rooms')\n",
    "ax[3,0].boxplot(x = 'noParkSpaces', data=brandenburg_df)\n",
    "ax[3,0].set_title('noParkSpaces')"
   ]
  },
  {
   "cell_type": "markdown",
   "id": "36ffc8c1",
   "metadata": {},
   "source": [
    "### Categorical Columns"
   ]
  },
  {
   "cell_type": "code",
   "execution_count": 64,
   "id": "306a95aa",
   "metadata": {},
   "outputs": [
    {
     "data": {
      "text/html": [
       "<div>\n",
       "<style scoped>\n",
       "    .dataframe tbody tr th:only-of-type {\n",
       "        vertical-align: middle;\n",
       "    }\n",
       "\n",
       "    .dataframe tbody tr th {\n",
       "        vertical-align: top;\n",
       "    }\n",
       "\n",
       "    .dataframe thead th {\n",
       "        text-align: right;\n",
       "    }\n",
       "</style>\n",
       "<table border=\"1\" class=\"dataframe\">\n",
       "  <thead>\n",
       "    <tr style=\"text-align: right;\">\n",
       "      <th></th>\n",
       "      <th>land</th>\n",
       "      <th>city</th>\n",
       "      <th>balcony</th>\n",
       "      <th>lift</th>\n",
       "      <th>pets_allowed</th>\n",
       "      <th>garden</th>\n",
       "      <th>cellar</th>\n",
       "    </tr>\n",
       "  </thead>\n",
       "  <tbody>\n",
       "    <tr>\n",
       "      <th>0</th>\n",
       "      <td>Brandenburg</td>\n",
       "      <td>Oder_Spree_Kreis</td>\n",
       "      <td>True</td>\n",
       "      <td>True</td>\n",
       "      <td>negotiable</td>\n",
       "      <td>False</td>\n",
       "      <td>True</td>\n",
       "    </tr>\n",
       "    <tr>\n",
       "      <th>1</th>\n",
       "      <td>Brandenburg</td>\n",
       "      <td>Märkisch_Oderland_Kreis</td>\n",
       "      <td>True</td>\n",
       "      <td>False</td>\n",
       "      <td>no</td>\n",
       "      <td>False</td>\n",
       "      <td>True</td>\n",
       "    </tr>\n",
       "    <tr>\n",
       "      <th>2</th>\n",
       "      <td>Brandenburg</td>\n",
       "      <td>Brandenburg_an_der_Havel</td>\n",
       "      <td>True</td>\n",
       "      <td>True</td>\n",
       "      <td>yes</td>\n",
       "      <td>False</td>\n",
       "      <td>True</td>\n",
       "    </tr>\n",
       "    <tr>\n",
       "      <th>4</th>\n",
       "      <td>Brandenburg</td>\n",
       "      <td>Dahme_Spreewald_Kreis</td>\n",
       "      <td>True</td>\n",
       "      <td>False</td>\n",
       "      <td>negotiable</td>\n",
       "      <td>True</td>\n",
       "      <td>True</td>\n",
       "    </tr>\n",
       "    <tr>\n",
       "      <th>5</th>\n",
       "      <td>Brandenburg</td>\n",
       "      <td>Uckermark_Kreis</td>\n",
       "      <td>True</td>\n",
       "      <td>False</td>\n",
       "      <td>negotiable</td>\n",
       "      <td>False</td>\n",
       "      <td>True</td>\n",
       "    </tr>\n",
       "    <tr>\n",
       "      <th>...</th>\n",
       "      <td>...</td>\n",
       "      <td>...</td>\n",
       "      <td>...</td>\n",
       "      <td>...</td>\n",
       "      <td>...</td>\n",
       "      <td>...</td>\n",
       "      <td>...</td>\n",
       "    </tr>\n",
       "    <tr>\n",
       "      <th>5809</th>\n",
       "      <td>Brandenburg</td>\n",
       "      <td>Märkisch_Oderland_Kreis</td>\n",
       "      <td>True</td>\n",
       "      <td>False</td>\n",
       "      <td>no</td>\n",
       "      <td>False</td>\n",
       "      <td>True</td>\n",
       "    </tr>\n",
       "    <tr>\n",
       "      <th>5810</th>\n",
       "      <td>Brandenburg</td>\n",
       "      <td>Elbe_Elster_Kreis</td>\n",
       "      <td>True</td>\n",
       "      <td>False</td>\n",
       "      <td>negotiable</td>\n",
       "      <td>False</td>\n",
       "      <td>False</td>\n",
       "    </tr>\n",
       "    <tr>\n",
       "      <th>5811</th>\n",
       "      <td>Brandenburg</td>\n",
       "      <td>Oberspreewald_Lausitz_Kreis</td>\n",
       "      <td>True</td>\n",
       "      <td>False</td>\n",
       "      <td>negotiable</td>\n",
       "      <td>False</td>\n",
       "      <td>True</td>\n",
       "    </tr>\n",
       "    <tr>\n",
       "      <th>5812</th>\n",
       "      <td>Brandenburg</td>\n",
       "      <td>Ostprignitz_Ruppin_Kreis</td>\n",
       "      <td>True</td>\n",
       "      <td>False</td>\n",
       "      <td>negotiable</td>\n",
       "      <td>True</td>\n",
       "      <td>True</td>\n",
       "    </tr>\n",
       "    <tr>\n",
       "      <th>5813</th>\n",
       "      <td>Brandenburg</td>\n",
       "      <td>Oder_Spree_Kreis</td>\n",
       "      <td>False</td>\n",
       "      <td>False</td>\n",
       "      <td>yes</td>\n",
       "      <td>True</td>\n",
       "      <td>False</td>\n",
       "    </tr>\n",
       "  </tbody>\n",
       "</table>\n",
       "<p>5037 rows × 7 columns</p>\n",
       "</div>"
      ],
      "text/plain": [
       "             land                         city  balcony   lift pets_allowed  \\\n",
       "0     Brandenburg             Oder_Spree_Kreis     True   True   negotiable   \n",
       "1     Brandenburg      Märkisch_Oderland_Kreis     True  False           no   \n",
       "2     Brandenburg     Brandenburg_an_der_Havel     True   True          yes   \n",
       "4     Brandenburg        Dahme_Spreewald_Kreis     True  False   negotiable   \n",
       "5     Brandenburg              Uckermark_Kreis     True  False   negotiable   \n",
       "...           ...                          ...      ...    ...          ...   \n",
       "5809  Brandenburg      Märkisch_Oderland_Kreis     True  False           no   \n",
       "5810  Brandenburg            Elbe_Elster_Kreis     True  False   negotiable   \n",
       "5811  Brandenburg  Oberspreewald_Lausitz_Kreis     True  False   negotiable   \n",
       "5812  Brandenburg     Ostprignitz_Ruppin_Kreis     True  False   negotiable   \n",
       "5813  Brandenburg             Oder_Spree_Kreis    False  False          yes   \n",
       "\n",
       "      garden  cellar  \n",
       "0      False    True  \n",
       "1      False    True  \n",
       "2      False    True  \n",
       "4       True    True  \n",
       "5      False    True  \n",
       "...      ...     ...  \n",
       "5809   False    True  \n",
       "5810   False   False  \n",
       "5811   False    True  \n",
       "5812    True    True  \n",
       "5813    True   False  \n",
       "\n",
       "[5037 rows x 7 columns]"
      ]
     },
     "execution_count": 64,
     "metadata": {},
     "output_type": "execute_result"
    }
   ],
   "source": [
    "brandenburg_df.select_dtypes(exclude=np.number)"
   ]
  },
  {
   "cell_type": "code",
   "execution_count": 65,
   "id": "b805ea58",
   "metadata": {},
   "outputs": [
    {
     "data": {
      "text/plain": [
       "land            0\n",
       "city            0\n",
       "balcony         0\n",
       "lift            0\n",
       "pets_allowed    0\n",
       "garden          0\n",
       "cellar          0\n",
       "dtype: int64"
      ]
     },
     "execution_count": 65,
     "metadata": {},
     "output_type": "execute_result"
    }
   ],
   "source": [
    "brandenburg_df.select_dtypes(exclude=np.number).isna().sum() #checking missing values again"
   ]
  },
  {
   "cell_type": "code",
   "execution_count": 66,
   "id": "a4fe254a",
   "metadata": {},
   "outputs": [
    {
     "name": "stdout",
     "output_type": "stream",
     "text": [
      "<class 'pandas.core.frame.DataFrame'>\n",
      "Int64Index: 5037 entries, 0 to 5813\n",
      "Data columns (total 14 columns):\n",
      " #   Column          Non-Null Count  Dtype  \n",
      "---  ------          --------------  -----  \n",
      " 0   land            5037 non-null   object \n",
      " 1   city            5037 non-null   object \n",
      " 2   balcony         5037 non-null   bool   \n",
      " 3   living_space    5037 non-null   float64\n",
      " 4   total_rent      5037 non-null   float64\n",
      " 5   service_charge  5037 non-null   float64\n",
      " 6   base_rent       5037 non-null   float64\n",
      " 7   lift            5037 non-null   bool   \n",
      " 8   pets_allowed    5037 non-null   object \n",
      " 9   floor           5037 non-null   float64\n",
      " 10  no_rooms        5037 non-null   float64\n",
      " 11  garden          5037 non-null   bool   \n",
      " 12  cellar          5037 non-null   bool   \n",
      " 13  noParkSpaces    5037 non-null   float64\n",
      "dtypes: bool(4), float64(7), object(3)\n",
      "memory usage: 452.5+ KB\n"
     ]
    }
   ],
   "source": [
    "brandenburg_df.info()"
   ]
  },
  {
   "cell_type": "code",
   "execution_count": 69,
   "id": "2f4a20cf",
   "metadata": {},
   "outputs": [
    {
     "data": {
      "text/html": [
       "<div>\n",
       "<style scoped>\n",
       "    .dataframe tbody tr th:only-of-type {\n",
       "        vertical-align: middle;\n",
       "    }\n",
       "\n",
       "    .dataframe tbody tr th {\n",
       "        vertical-align: top;\n",
       "    }\n",
       "\n",
       "    .dataframe thead th {\n",
       "        text-align: right;\n",
       "    }\n",
       "</style>\n",
       "<table border=\"1\" class=\"dataframe\">\n",
       "  <thead>\n",
       "    <tr style=\"text-align: right;\">\n",
       "      <th></th>\n",
       "      <th>land</th>\n",
       "      <th>city</th>\n",
       "      <th>balcony</th>\n",
       "      <th>living_space</th>\n",
       "      <th>total_rent</th>\n",
       "      <th>service_charge</th>\n",
       "      <th>base_rent</th>\n",
       "      <th>lift</th>\n",
       "      <th>pets_allowed</th>\n",
       "      <th>floor</th>\n",
       "      <th>no_rooms</th>\n",
       "      <th>garden</th>\n",
       "      <th>cellar</th>\n",
       "      <th>noParkSpaces</th>\n",
       "    </tr>\n",
       "  </thead>\n",
       "  <tbody>\n",
       "    <tr>\n",
       "      <th>0</th>\n",
       "      <td>Brandenburg</td>\n",
       "      <td>Oder_Spree_Kreis</td>\n",
       "      <td>True</td>\n",
       "      <td>36.29</td>\n",
       "      <td>335.00</td>\n",
       "      <td>50.00</td>\n",
       "      <td>285.00</td>\n",
       "      <td>True</td>\n",
       "      <td>negotiable</td>\n",
       "      <td>1.0</td>\n",
       "      <td>1.0</td>\n",
       "      <td>False</td>\n",
       "      <td>True</td>\n",
       "      <td>0.0</td>\n",
       "    </tr>\n",
       "    <tr>\n",
       "      <th>1</th>\n",
       "      <td>Brandenburg</td>\n",
       "      <td>Märkisch_Oderland_Kreis</td>\n",
       "      <td>True</td>\n",
       "      <td>60.71</td>\n",
       "      <td>365.00</td>\n",
       "      <td>65.00</td>\n",
       "      <td>300.00</td>\n",
       "      <td>False</td>\n",
       "      <td>no</td>\n",
       "      <td>0.0</td>\n",
       "      <td>2.0</td>\n",
       "      <td>False</td>\n",
       "      <td>True</td>\n",
       "      <td>0.0</td>\n",
       "    </tr>\n",
       "    <tr>\n",
       "      <th>2</th>\n",
       "      <td>Brandenburg</td>\n",
       "      <td>Brandenburg_an_der_Havel</td>\n",
       "      <td>True</td>\n",
       "      <td>67.80</td>\n",
       "      <td>590.00</td>\n",
       "      <td>170.00</td>\n",
       "      <td>420.00</td>\n",
       "      <td>True</td>\n",
       "      <td>yes</td>\n",
       "      <td>0.0</td>\n",
       "      <td>3.0</td>\n",
       "      <td>False</td>\n",
       "      <td>True</td>\n",
       "      <td>0.0</td>\n",
       "    </tr>\n",
       "    <tr>\n",
       "      <th>4</th>\n",
       "      <td>Brandenburg</td>\n",
       "      <td>Dahme_Spreewald_Kreis</td>\n",
       "      <td>True</td>\n",
       "      <td>69.00</td>\n",
       "      <td>520.00</td>\n",
       "      <td>150.00</td>\n",
       "      <td>370.00</td>\n",
       "      <td>False</td>\n",
       "      <td>negotiable</td>\n",
       "      <td>2.0</td>\n",
       "      <td>2.0</td>\n",
       "      <td>True</td>\n",
       "      <td>True</td>\n",
       "      <td>1.0</td>\n",
       "    </tr>\n",
       "    <tr>\n",
       "      <th>5</th>\n",
       "      <td>Brandenburg</td>\n",
       "      <td>Uckermark_Kreis</td>\n",
       "      <td>True</td>\n",
       "      <td>57.38</td>\n",
       "      <td>378.71</td>\n",
       "      <td>71.73</td>\n",
       "      <td>306.98</td>\n",
       "      <td>False</td>\n",
       "      <td>negotiable</td>\n",
       "      <td>4.0</td>\n",
       "      <td>3.0</td>\n",
       "      <td>False</td>\n",
       "      <td>True</td>\n",
       "      <td>0.0</td>\n",
       "    </tr>\n",
       "    <tr>\n",
       "      <th>...</th>\n",
       "      <td>...</td>\n",
       "      <td>...</td>\n",
       "      <td>...</td>\n",
       "      <td>...</td>\n",
       "      <td>...</td>\n",
       "      <td>...</td>\n",
       "      <td>...</td>\n",
       "      <td>...</td>\n",
       "      <td>...</td>\n",
       "      <td>...</td>\n",
       "      <td>...</td>\n",
       "      <td>...</td>\n",
       "      <td>...</td>\n",
       "      <td>...</td>\n",
       "    </tr>\n",
       "    <tr>\n",
       "      <th>5809</th>\n",
       "      <td>Brandenburg</td>\n",
       "      <td>Märkisch_Oderland_Kreis</td>\n",
       "      <td>True</td>\n",
       "      <td>58.78</td>\n",
       "      <td>385.00</td>\n",
       "      <td>50.00</td>\n",
       "      <td>335.00</td>\n",
       "      <td>False</td>\n",
       "      <td>no</td>\n",
       "      <td>0.0</td>\n",
       "      <td>2.0</td>\n",
       "      <td>False</td>\n",
       "      <td>True</td>\n",
       "      <td>0.0</td>\n",
       "    </tr>\n",
       "    <tr>\n",
       "      <th>5810</th>\n",
       "      <td>Brandenburg</td>\n",
       "      <td>Elbe_Elster_Kreis</td>\n",
       "      <td>True</td>\n",
       "      <td>32.86</td>\n",
       "      <td>237.33</td>\n",
       "      <td>53.97</td>\n",
       "      <td>183.36</td>\n",
       "      <td>False</td>\n",
       "      <td>negotiable</td>\n",
       "      <td>1.0</td>\n",
       "      <td>1.0</td>\n",
       "      <td>False</td>\n",
       "      <td>False</td>\n",
       "      <td>0.0</td>\n",
       "    </tr>\n",
       "    <tr>\n",
       "      <th>5811</th>\n",
       "      <td>Brandenburg</td>\n",
       "      <td>Oberspreewald_Lausitz_Kreis</td>\n",
       "      <td>True</td>\n",
       "      <td>105.00</td>\n",
       "      <td>630.00</td>\n",
       "      <td>105.00</td>\n",
       "      <td>525.00</td>\n",
       "      <td>False</td>\n",
       "      <td>negotiable</td>\n",
       "      <td>1.0</td>\n",
       "      <td>2.0</td>\n",
       "      <td>False</td>\n",
       "      <td>True</td>\n",
       "      <td>0.0</td>\n",
       "    </tr>\n",
       "    <tr>\n",
       "      <th>5812</th>\n",
       "      <td>Brandenburg</td>\n",
       "      <td>Ostprignitz_Ruppin_Kreis</td>\n",
       "      <td>True</td>\n",
       "      <td>73.00</td>\n",
       "      <td>710.00</td>\n",
       "      <td>215.00</td>\n",
       "      <td>495.00</td>\n",
       "      <td>False</td>\n",
       "      <td>negotiable</td>\n",
       "      <td>1.0</td>\n",
       "      <td>2.0</td>\n",
       "      <td>True</td>\n",
       "      <td>True</td>\n",
       "      <td>0.0</td>\n",
       "    </tr>\n",
       "    <tr>\n",
       "      <th>5813</th>\n",
       "      <td>Brandenburg</td>\n",
       "      <td>Oder_Spree_Kreis</td>\n",
       "      <td>False</td>\n",
       "      <td>52.00</td>\n",
       "      <td>432.00</td>\n",
       "      <td>110.00</td>\n",
       "      <td>322.00</td>\n",
       "      <td>False</td>\n",
       "      <td>yes</td>\n",
       "      <td>2.0</td>\n",
       "      <td>2.0</td>\n",
       "      <td>True</td>\n",
       "      <td>False</td>\n",
       "      <td>2.0</td>\n",
       "    </tr>\n",
       "  </tbody>\n",
       "</table>\n",
       "<p>5037 rows × 14 columns</p>\n",
       "</div>"
      ],
      "text/plain": [
       "             land                         city  balcony  living_space  \\\n",
       "0     Brandenburg             Oder_Spree_Kreis     True         36.29   \n",
       "1     Brandenburg      Märkisch_Oderland_Kreis     True         60.71   \n",
       "2     Brandenburg     Brandenburg_an_der_Havel     True         67.80   \n",
       "4     Brandenburg        Dahme_Spreewald_Kreis     True         69.00   \n",
       "5     Brandenburg              Uckermark_Kreis     True         57.38   \n",
       "...           ...                          ...      ...           ...   \n",
       "5809  Brandenburg      Märkisch_Oderland_Kreis     True         58.78   \n",
       "5810  Brandenburg            Elbe_Elster_Kreis     True         32.86   \n",
       "5811  Brandenburg  Oberspreewald_Lausitz_Kreis     True        105.00   \n",
       "5812  Brandenburg     Ostprignitz_Ruppin_Kreis     True         73.00   \n",
       "5813  Brandenburg             Oder_Spree_Kreis    False         52.00   \n",
       "\n",
       "      total_rent  service_charge  base_rent   lift pets_allowed  floor  \\\n",
       "0         335.00           50.00     285.00   True   negotiable    1.0   \n",
       "1         365.00           65.00     300.00  False           no    0.0   \n",
       "2         590.00          170.00     420.00   True          yes    0.0   \n",
       "4         520.00          150.00     370.00  False   negotiable    2.0   \n",
       "5         378.71           71.73     306.98  False   negotiable    4.0   \n",
       "...          ...             ...        ...    ...          ...    ...   \n",
       "5809      385.00           50.00     335.00  False           no    0.0   \n",
       "5810      237.33           53.97     183.36  False   negotiable    1.0   \n",
       "5811      630.00          105.00     525.00  False   negotiable    1.0   \n",
       "5812      710.00          215.00     495.00  False   negotiable    1.0   \n",
       "5813      432.00          110.00     322.00  False          yes    2.0   \n",
       "\n",
       "      no_rooms  garden  cellar  noParkSpaces  \n",
       "0          1.0   False    True           0.0  \n",
       "1          2.0   False    True           0.0  \n",
       "2          3.0   False    True           0.0  \n",
       "4          2.0    True    True           1.0  \n",
       "5          3.0   False    True           0.0  \n",
       "...        ...     ...     ...           ...  \n",
       "5809       2.0   False    True           0.0  \n",
       "5810       1.0   False   False           0.0  \n",
       "5811       2.0   False    True           0.0  \n",
       "5812       2.0    True    True           0.0  \n",
       "5813       2.0    True   False           2.0  \n",
       "\n",
       "[5037 rows x 14 columns]"
      ]
     },
     "execution_count": 69,
     "metadata": {},
     "output_type": "execute_result"
    }
   ],
   "source": [
    "brandenburg_df_clean=brandenburg_df.copy()\n",
    "brandenburg_df_clean"
   ]
  },
  {
   "cell_type": "markdown",
   "id": "fbac0298",
   "metadata": {},
   "source": [
    "#### Everything looks good with categorical columns. Thus, Dataset has been cleaned and it is ready for further analysis.I am saving e the final dataframe"
   ]
  },
  {
   "cell_type": "code",
   "execution_count": 71,
   "id": "a319539d",
   "metadata": {},
   "outputs": [],
   "source": [
    "brandenburg_df_clean.to_csv('../Data/brandenburg.csv')"
   ]
  }
 ],
 "metadata": {
  "kernelspec": {
   "display_name": "Python 3 (ipykernel)",
   "language": "python",
   "name": "python3"
  },
  "language_info": {
   "codemirror_mode": {
    "name": "ipython",
    "version": 3
   },
   "file_extension": ".py",
   "mimetype": "text/x-python",
   "name": "python",
   "nbconvert_exporter": "python",
   "pygments_lexer": "ipython3",
   "version": "3.9.13"
  }
 },
 "nbformat": 4,
 "nbformat_minor": 5
}
